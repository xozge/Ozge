{
 "cells": [
  {
   "cell_type": "markdown",
   "metadata": {},
   "source": [
    "# SINIFLANDIRMA NEDİR?"
   ]
  },
  {
   "cell_type": "markdown",
   "metadata": {},
   "source": [
    "**Aşağıdaki örneklerin sınıflandırma problemi mi yoksa regresyon problemi mi olduğunu belirleyiniz:**\n",
    "\n",
    "1. Evin büyüklüğü veri alındığında, evin fiyatını tahmin etmek\n",
    "\n",
    "\n",
    "2. Eve bakmaya gelenlerin kıyafetlerinden, kimin evi satın alma ihtimalinin yüksek veya düşük olduğu sonucuna varmak\n",
    "\n",
    "\n",
    "3. Lokasyon ve tarih gibi parametreleri kullanarak, yağmur yağma ihtimalini hesaplamak\n",
    "\n",
    "\n",
    "4. Eğitim, tecrübe gibi parametreleri kullanarak, kişinin maaşını tahmin etmek\n",
    "\n",
    "\n",
    "5. Bir insanın yaşının tahmin edilmesi\n",
    "\n",
    "\n",
    "6. Bir insanın gelirinin tahmin edilmesi\n",
    "\n",
    "\n",
    "7. Herhangi bir hisse senedinin fiyatının yönünün tahmin edilmesi"
   ]
  },
  {
   "cell_type": "markdown",
   "metadata": {},
   "source": [
    "1. regresyon\n",
    "\n",
    "2. sınıflandırma\n",
    "\n",
    "3. regresyon\n",
    "\n",
    "4. regresyon\n",
    "\n",
    "5. regresyon\n",
    "\n",
    "6. regresyon\n",
    "\n",
    "7. sınıflandırma"
   ]
  },
  {
   "cell_type": "code",
   "execution_count": null,
   "metadata": {},
   "outputs": [],
   "source": []
  }
 ],
 "metadata": {
  "kernelspec": {
   "display_name": "Python 3",
   "language": "python",
   "name": "python3"
  },
  "language_info": {
   "codemirror_mode": {
    "name": "ipython",
    "version": 3
   },
   "file_extension": ".py",
   "mimetype": "text/x-python",
   "name": "python",
   "nbconvert_exporter": "python",
   "pygments_lexer": "ipython3",
   "version": "3.8.5"
  }
 },
 "nbformat": 4,
 "nbformat_minor": 4
}
