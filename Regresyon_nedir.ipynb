{
 "cells": [
  {
   "cell_type": "markdown",
   "metadata": {},
   "source": [
    "# REGRESYON NEDİR?"
   ]
  },
  {
   "cell_type": "markdown",
   "metadata": {},
   "source": [
    "**1. Birkaç ülke için elinizde finansal, ekonomik ve sosyal göstergeler hakkında Dünya Bankası verileri olduğunu varsayalım. Bu ülkelerdeki gelişme düzeyini etkileyen faktörleri ölçmek istiyorsunuz. Bu amaçla, milli gelirin nüfusa bölümü olarak tanımlanan kişi başına düşen milli geliri, kalkınma seviyesi için bir vekil olarak kullanmaya karar verdiniz. Kişi başına geliri tahmin etmek için veri kümenizdeki bazı özellikleri kullanmak istiyorsunuz. Bu görev bir sınıflandırma görevi mi yoksa bir regresyon görevi mi? Niçin?**"
   ]
  },
  {
   "cell_type": "markdown",
   "metadata": {},
   "source": [
    "Regresyon görevidir, herkes aynı düzeyde gelir elde etmiyor. Bunun bir sonu yoktur yada daha geniş bir gelir yelpazesi vardır. Kategorik bir değişken değildir, süreklidir. Bundan dolayı bu  bir regresyon görevidir."
   ]
  },
  {
   "cell_type": "code",
   "execution_count": null,
   "metadata": {},
   "outputs": [],
   "source": []
  },
  {
   "cell_type": "code",
   "execution_count": null,
   "metadata": {},
   "outputs": [],
   "source": []
  },
  {
   "cell_type": "markdown",
   "metadata": {},
   "source": [
    "**2.Aşağıdaki argümanlardan hangileri yanlıştır ve neden?**\n",
    "\n",
    "\n",
    "**1. OLS, özel bir doğrusal regresyon modelidir.**\n",
    "\n",
    "\n",
    "**2. Regresyon modelleri, doğrusal regresyon varsayımlarını karşılamıyorsa kullanışsız hale gelir.**\n",
    "\n",
    "\n",
    "**3. Estimation ve prediction, doğrusal regresyon modelleri bağlamında aynı şeydir.**\n",
    "\n",
    "\n",
    "**4. Doğrusal regresyon modeli sadece bir tür regresyon modelidir. Regresyon problemleri, Support Vector Machines veya Random Forests gibi başka modellerle de çözülebilir.**"
   ]
  },
  {
   "cell_type": "markdown",
   "metadata": {},
   "source": [
    "1. Yanlış. OLS bir algoritmadır, model değildir. Modeller verilere göre değişirken algoritmalar değişmez. \n",
    "Doğrusal bir regresyon modelinde bilinmeyen parametreleri tahmin etmek için kullanılan doğrusal en küçük kareler yöntemidir. Her nokta ile çizgi arasındaki kare mesafelerin toplamının en aza indirilmesine yardımcı olur ve bu toplamı en aza indiren çizgiyi seçer."
   ]
  },
  {
   "cell_type": "markdown",
   "metadata": {},
   "source": [
    "2. Yanlış. Modelimiz bu koşulları, varsayımları karşılamadığında bile doğrusal regresyon kullanmak için alabileceğimiz bazı yaklaşımlar vardır."
   ]
  },
  {
   "cell_type": "markdown",
   "metadata": {},
   "source": [
    "3. Yanlış.\n",
    "\n",
    "**Estiamtion**, örneğe dayalı herhangi bir değişken için popülasyondaki bir parametrenin bilinen değeridir. Bir parametreyi tahmin etmek için veriler kullanılır. Bilim için önemlidir. İstatistiksel olasaılıktır. Eğitim aşamasındaki özelliklerin katsayılarını belirleme sürecini ifade eder\n",
    "\n",
    "\n",
    "**Prediction**, bir değişkenin değerini, bağımsız değişkenin bilinen değerine dayalı olarak, deneysel olarak kurulan (fonksiyonel ilişki) geliştirilen model aracılığıyla bilmektir. Veri kümesinin parçası olmayan bir rastgele değeri tahmin etmek için veriler kullanır.\n",
    "ÖRN: Bir x verildiğinde, ona karşılık gelen y y'yi tahmin etmek için bir algoritma verildiğinde, y_sapka olarak bir değer elde ederiz. Bir evin değerini tahmin etmek için gereken yatak odası sayısını kullanırız. Tahmin etmenin bir yolu, sıradan en küçük kareler OLS'yi kullanmaktır. Matematiksel bir olasılıktır. Daha önce gözlemlenmemiş gözlemler için çıktı değerleridir"
   ]
  },
  {
   "cell_type": "markdown",
   "metadata": {},
   "source": [
    "4. Doğru. Daha fazla regresyon türü vardır ve her regresyon tekniğinin kendi regresyon denklemi ve regresyon katsayıları vardır"
   ]
  },
  {
   "cell_type": "code",
   "execution_count": null,
   "metadata": {},
   "outputs": [],
   "source": []
  },
  {
   "cell_type": "code",
   "execution_count": null,
   "metadata": {},
   "outputs": [],
   "source": []
  },
  {
   "cell_type": "markdown",
   "metadata": {},
   "source": [
    "**3. Proje yöneticinizin, şirketinizin sunduğu hangi ücretsiz hizmetlerin, müşterilerinizin daha fazla ücretli hizmet satın almasını sağladığını bulmanızı istediğini varsayalım. Bu görevi bir regresyon problemi olarak formüle edin ve üzerinde çalışmak istediğiniz potansiyel sonucu ve özellikleri yazın.**"
   ]
  },
  {
   "cell_type": "markdown",
   "metadata": {},
   "source": [
    "y= alfa+ beta * X1 + teta * X2\n",
    "\n",
    "\n",
    "y= ücretli servisler\n",
    "\n",
    "X1 ve X2= ücretsiz servisler\n",
    "\n",
    "\n",
    "beta ve teta nın işareti pozitif olursa X1 ve X2 ücretsiz hizmetlerin müşterinin daha  fazla  ücretli hizmet almaya teşvik ettiğini  gösterir."
   ]
  },
  {
   "cell_type": "code",
   "execution_count": null,
   "metadata": {},
   "outputs": [],
   "source": []
  },
  {
   "cell_type": "code",
   "execution_count": null,
   "metadata": {},
   "outputs": [],
   "source": []
  },
  {
   "cell_type": "code",
   "execution_count": null,
   "metadata": {},
   "outputs": [],
   "source": []
  }
 ],
 "metadata": {
  "kernelspec": {
   "display_name": "Python 3",
   "language": "python",
   "name": "python3"
  },
  "language_info": {
   "codemirror_mode": {
    "name": "ipython",
    "version": 3
   },
   "file_extension": ".py",
   "mimetype": "text/x-python",
   "name": "python",
   "nbconvert_exporter": "python",
   "pygments_lexer": "ipython3",
   "version": "3.8.5"
  }
 },
 "nbformat": 4,
 "nbformat_minor": 4
}
