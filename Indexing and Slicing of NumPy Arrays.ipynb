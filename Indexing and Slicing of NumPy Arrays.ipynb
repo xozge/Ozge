{
 "cells": [
  {
   "cell_type": "markdown",
   "metadata": {},
   "source": [
    "# DİZİLERDE İNDEKS VE SEÇME"
   ]
  },
  {
   "cell_type": "markdown",
   "metadata": {},
   "source": [
    "Ödev için Deprem veri setini kullanacaksınız."
   ]
  },
  {
   "cell_type": "markdown",
   "metadata": {},
   "source": [
    "**1. Depremler veri setini yükleyin. Önceki derste anlattığınız gibi veri kümesini bir diziye aktarın.**"
   ]
  },
  {
   "cell_type": "code",
   "execution_count": 8,
   "metadata": {},
   "outputs": [
    {
     "name": "stdout",
     "output_type": "stream",
     "text": [
      "         0  0.0  0.0.1  0.0.2  0.0.3  36.8578  44.4161  16.97  0.0.4  7.0  \\\n",
      "0        1  0.0    0.0    0.0    0.0  37.4341  35.8520   7.02    0.0  7.0   \n",
      "1        2  0.0    0.0    0.0    0.0  37.6878  37.4016  10.27    0.0  7.0   \n",
      "2        3  0.0    0.0    0.0    0.0  37.2003  30.4376  78.07    0.0  7.0   \n",
      "3        4  0.0    0.0    0.0    0.0  35.6846  26.7266  42.77    0.0  7.0   \n",
      "4        5  0.0    0.0    0.0    0.0  36.4171  28.6991  14.86    0.0  7.0   \n",
      "...    ...  ...    ...    ...    ...      ...      ...    ...    ...  ...   \n",
      "6568  6569  6.0    0.0    2.0    0.0  38.1200  31.2900  10.00    0.0  2.0   \n",
      "6569  6570  5.0    0.0    2.0    0.0  37.8300  27.7100  10.00    0.0  2.0   \n",
      "6570  6571  4.0    0.0    2.0    0.0  37.6300  37.3700  10.00    0.0  2.0   \n",
      "6571  6572  3.0    0.0    2.0    0.0  39.5400  26.1400  10.00    0.0  2.0   \n",
      "6572  6573  2.0    0.0    2.0    0.0  37.7900  28.2100  10.00    0.0  2.0   \n",
      "\n",
      "      0.0.5  0.0.6  4.0  7.0.1  0.0.7  \n",
      "0       0.0    0.0  4.1    7.0    0.0  \n",
      "1       0.0    0.0  4.4    7.0    0.0  \n",
      "2       0.0    0.0  4.0    7.0    0.0  \n",
      "3       0.0    0.0  4.5    7.0    0.0  \n",
      "4       0.0    0.0  4.1    7.0    0.0  \n",
      "...     ...    ...  ...    ...    ...  \n",
      "6568    0.0    0.0  5.7    2.0    0.0  \n",
      "6569    0.0    0.0  4.4    2.0    0.0  \n",
      "6570    0.0    0.0  4.8    2.0    0.0  \n",
      "6571    0.0    0.0  5.2    2.0    0.0  \n",
      "6572    0.0    0.0  4.4    2.0    0.0  \n",
      "\n",
      "[6573 rows x 15 columns]\n",
      "(6573, 15)\n",
      "veri dizisi:\n",
      "[[1.000e+00 0.000e+00 0.000e+00 ... 4.100e+00 7.000e+00 0.000e+00]\n",
      " [2.000e+00 0.000e+00 0.000e+00 ... 4.400e+00 7.000e+00 0.000e+00]\n",
      " [3.000e+00 0.000e+00 0.000e+00 ... 4.000e+00 7.000e+00 0.000e+00]\n",
      " ...\n",
      " [6.571e+03 4.000e+00 0.000e+00 ... 4.800e+00 2.000e+00 0.000e+00]\n",
      " [6.572e+03 3.000e+00 0.000e+00 ... 5.200e+00 2.000e+00 0.000e+00]\n",
      " [6.573e+03 2.000e+00 0.000e+00 ... 4.400e+00 2.000e+00 0.000e+00]]\n"
     ]
    }
   ],
   "source": [
    "import numpy as np\n",
    "import pandas as pd\n",
    "\n",
    "\n",
    "df=pd.read_csv(\"Earthquakes.csv\")\n",
    "df2=np.array(df)\n",
    "\n",
    "print(df)\n",
    "print(df.shape)\n",
    "print(\"veri dizisi:\")\n",
    "print(df2)"
   ]
  },
  {
   "cell_type": "code",
   "execution_count": null,
   "metadata": {},
   "outputs": [],
   "source": []
  },
  {
   "cell_type": "markdown",
   "metadata": {},
   "source": [
    "**2. İlk 20 satırı ve sütun numaralarını 3, 5, 6, 7, 12 dilimleyin. Ardından dilimlediğiniz diziyi bir değişkene atayın.**"
   ]
  },
  {
   "cell_type": "code",
   "execution_count": 4,
   "metadata": {},
   "outputs": [
    {
     "name": "stdout",
     "output_type": "stream",
     "text": [
      "1. veri dizisi:\n",
      "[[ 0.     37.4341 35.852   7.02    4.1   ]\n",
      " [ 0.     37.6878 37.4016 10.27    4.4   ]\n",
      " [ 0.     37.2003 30.4376 78.07    4.    ]\n",
      " [ 0.     35.6846 26.7266 42.77    4.5   ]\n",
      " [ 0.     36.4171 28.6991 14.86    4.1   ]\n",
      " [ 0.     36.0535 31.2135 36.68    5.2   ]\n",
      " [ 0.     37.1958 30.6241 50.33    4.8   ]\n",
      " [ 0.     36.9653 27.7633  6.93    4.3   ]\n",
      " [ 0.     38.893  26.4483 11.62    4.2   ]\n",
      " [ 0.     37.3773 36.3855 10.53    4.8   ]\n",
      " [ 0.     35.8861 26.0695 28.49    4.9   ]\n",
      " [ 0.     37.4635 36.3113 15.29    4.3   ]\n",
      " [ 0.     37.0201 36.0845 10.      4.1   ]\n",
      " [ 0.     37.6546 26.6698  4.5     4.5   ]\n",
      " [ 0.     37.5318 29.848  17.58    4.6   ]\n",
      " [ 0.     39.0388 44.1533  7.52    4.5   ]\n",
      " [ 0.     38.357  44.8686 10.05    4.1   ]\n",
      " [ 0.     35.7018 28.1495  6.25    4.1   ]\n",
      " [ 0.     37.6883 37.3968 10.63    4.1   ]\n",
      " [ 0.     42.1821 42.5928  5.81    4.    ]]\n"
     ]
    }
   ],
   "source": [
    "\n",
    "slc1=df2[:20,[3,5,6,7,12]]\n",
    "print(\"1. veri dizisi:\")\n",
    "print(slc1)\n",
    "\n",
    "\n",
    "\n"
   ]
  },
  {
   "cell_type": "code",
   "execution_count": null,
   "metadata": {},
   "outputs": [],
   "source": []
  },
  {
   "cell_type": "markdown",
   "metadata": {},
   "source": [
    "**3. Son değerlerin 4,5 veya daha yüksek olduğu satır numaralarını görüntüleyin.**"
   ]
  },
  {
   "cell_type": "code",
   "execution_count": 10,
   "metadata": {},
   "outputs": [
    {
     "data": {
      "text/plain": [
       "(array([ 3,  5,  6,  9, 10, 13, 14, 15], dtype=int64),)"
      ]
     },
     "execution_count": 10,
     "metadata": {},
     "output_type": "execute_result"
    }
   ],
   "source": [
    "np.where(slc1[:,-1] >= 4.5)"
   ]
  },
  {
   "cell_type": "code",
   "execution_count": null,
   "metadata": {},
   "outputs": [],
   "source": []
  },
  {
   "cell_type": "markdown",
   "metadata": {},
   "source": [
    "**4. İlk satıra 1 atayın.**"
   ]
  },
  {
   "cell_type": "code",
   "execution_count": 96,
   "metadata": {},
   "outputs": [
    {
     "data": {
      "text/plain": [
       "array([[1.000e+00, 1.000e+00, 1.000e+00, ..., 1.000e+00, 1.000e+00,\n",
       "        1.000e+00],\n",
       "       [2.000e+00, 0.000e+00, 0.000e+00, ..., 4.400e+00, 7.000e+00,\n",
       "        0.000e+00],\n",
       "       [3.000e+00, 0.000e+00, 0.000e+00, ..., 4.000e+00, 7.000e+00,\n",
       "        0.000e+00],\n",
       "       ...,\n",
       "       [6.571e+03, 4.000e+00, 0.000e+00, ..., 4.800e+00, 2.000e+00,\n",
       "        0.000e+00],\n",
       "       [6.572e+03, 3.000e+00, 0.000e+00, ..., 5.200e+00, 2.000e+00,\n",
       "        0.000e+00],\n",
       "       [6.573e+03, 2.000e+00, 0.000e+00, ..., 4.400e+00, 2.000e+00,\n",
       "        0.000e+00]])"
      ]
     },
     "execution_count": 96,
     "metadata": {},
     "output_type": "execute_result"
    }
   ],
   "source": [
    "df2[:1]=1\n",
    "df2"
   ]
  },
  {
   "cell_type": "code",
   "execution_count": null,
   "metadata": {},
   "outputs": [],
   "source": []
  },
  {
   "cell_type": "markdown",
   "metadata": {},
   "source": [
    "**5. Dizinin son durumunu diske kaydedin. Bunu bir sonraki ödevde kullanacaksın.**"
   ]
  },
  {
   "cell_type": "code",
   "execution_count": 97,
   "metadata": {},
   "outputs": [],
   "source": [
    "DF = pd.DataFrame(df2)\n",
    "DF.to_csv(\"data1.csv\")"
   ]
  },
  {
   "cell_type": "code",
   "execution_count": null,
   "metadata": {},
   "outputs": [],
   "source": []
  }
 ],
 "metadata": {
  "kernelspec": {
   "display_name": "Python 3",
   "language": "python",
   "name": "python3"
  },
  "language_info": {
   "codemirror_mode": {
    "name": "ipython",
    "version": 3
   },
   "file_extension": ".py",
   "mimetype": "text/x-python",
   "name": "python",
   "nbconvert_exporter": "python",
   "pygments_lexer": "ipython3",
   "version": "3.8.8"
  }
 },
 "nbformat": 4,
 "nbformat_minor": 4
}
