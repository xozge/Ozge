{
 "cells": [
  {
   "cell_type": "markdown",
   "metadata": {},
   "source": [
    "# FONKSİYONLAR"
   ]
  },
  {
   "cell_type": "markdown",
   "metadata": {},
   "source": [
    "**1. Parametre olarak girilen bir sayının asal sayı olup olmadığını belirten bir fonksiyon yazın.**"
   ]
  },
  {
   "cell_type": "code",
   "execution_count": 1,
   "metadata": {},
   "outputs": [
    {
     "name": "stdin",
     "output_type": "stream",
     "text": [
      "sayi giriniz: 9\n"
     ]
    },
    {
     "name": "stdout",
     "output_type": "stream",
     "text": [
      "9  asal degildir\n"
     ]
    }
   ],
   "source": [
    "sayi=int(input(\"sayi giriniz:\"))\n",
    "def Asal (sayi):\n",
    "    adet=0\n",
    "    for i in range(2,sayi+1):\n",
    "        if sayi%i==0:\n",
    "            adet+=1\n",
    "    if adet==1:\n",
    "        print (sayi, \" asaldir\")\n",
    "    else:\n",
    "        print (sayi,\" asal degildir\")\n",
    " \n",
    "\n",
    "Asal(sayi)"
   ]
  },
  {
   "cell_type": "markdown",
   "metadata": {},
   "source": [
    "2. yol"
   ]
  },
  {
   "cell_type": "code",
   "execution_count": 2,
   "metadata": {},
   "outputs": [
    {
     "name": "stdin",
     "output_type": "stream",
     "text": [
      "bir sayı giriniz: 89\n"
     ]
    },
    {
     "name": "stdout",
     "output_type": "stream",
     "text": [
      "sayı asaldır.\n"
     ]
    }
   ],
   "source": [
    "sayı=int(input(\"bir sayı giriniz:\"))\n",
    "\n",
    "gecici_degisken=1\n",
    "for bolen in range(2,sayı):\n",
    "    if(sayı%bolen==0):\n",
    "        print(\"sayı asal değildir.\")\n",
    "        gecici_degisken=0\n",
    "        break\n",
    "if(gecici_degisken==1):\n",
    "    print(\"sayı asaldır.\")\n",
    "    \n"
   ]
  },
  {
   "cell_type": "markdown",
   "metadata": {},
   "source": [
    "3. yol"
   ]
  },
  {
   "cell_type": "code",
   "execution_count": 47,
   "metadata": {},
   "outputs": [
    {
     "name": "stdout",
     "output_type": "stream",
     "text": [
      "Sayıyı Girin : 6\n",
      "6  Asal Sayı Değildir.\n"
     ]
    }
   ],
   "source": [
    "sayi=int(input(\"Sayıyı Girin : \"))\n",
    "if sayi > 1:\n",
    "   \n",
    "   for i in range(2,sayi):\n",
    "       if (sayi % i) == 0:\n",
    "           print(sayi,\" Asal Sayı Değildir.\")\n",
    "           break\n",
    "   else:\n",
    "       print(sayi,\" Asal Sayıdır.\")\n",
    "\n",
    "else:\n",
    "   print(sayi,\" Asal Sayı Değildir.\")"
   ]
  },
  {
   "cell_type": "code",
   "execution_count": null,
   "metadata": {},
   "outputs": [],
   "source": []
  },
  {
   "cell_type": "markdown",
   "metadata": {},
   "source": [
    "**2. Parametre olarak girilecek listenin elemanlarını yeni bir listeye her değer sadece bir kere geçecek şekilde aktaran bir fonksiyon yazın. Normalde bu işlemi set() komutu ile yapabiliriz ama bu seferlik bu komutu kullanmayalım.**"
   ]
  },
  {
   "cell_type": "markdown",
   "metadata": {},
   "source": [
    "Örnek : uniq_liste([1,2,2,3,3,4,4]) = [1,2,3,4]"
   ]
  },
  {
   "cell_type": "code",
   "execution_count": 2,
   "metadata": {},
   "outputs": [],
   "source": [
    "import numpy as np"
   ]
  },
  {
   "cell_type": "code",
   "execution_count": 27,
   "metadata": {},
   "outputs": [
    {
     "name": "stdout",
     "output_type": "stream",
     "text": [
      "the unique values from 1st list is\n",
      "10\n",
      "20\n",
      "30\n",
      "40\n",
      "50\n",
      "70\n",
      "\n",
      "the unique values from 2nd list is\n",
      "1\n",
      "2\n",
      "3\n",
      "4\n",
      "5\n",
      "7\n",
      "9\n"
     ]
    }
   ],
   "source": [
    "# function to get unique values\n",
    "def unique(list1):\n",
    " \n",
    "    # intilize a null list\n",
    "    unique_list = []\n",
    "     \n",
    "    # traverse for all elements\n",
    "    for x in list1:\n",
    "        # check if exists in unique_list or not\n",
    "        if x not in unique_list:\n",
    "            unique_list.append(x)\n",
    "    # print list\n",
    "    for x in unique_list:\n",
    "        print(x)\n",
    "     \n",
    "   \n",
    " \n",
    "# driver code\n",
    "list1 = [10,10, 20, 10, 30, 40, 40, 50, 70, 70]\n",
    "print(\"the unique values from 1st list is\")\n",
    "unique(list1)\n",
    " \n",
    " \n",
    "list2 =[1, 2, 1, 1, 3, 4, 3, 3, 5, 7, 9, 9]\n",
    "print(\"\\nthe unique values from 2nd list is\")\n",
    "unique(list2)"
   ]
  },
  {
   "cell_type": "code",
   "execution_count": null,
   "metadata": {},
   "outputs": [],
   "source": []
  },
  {
   "cell_type": "markdown",
   "metadata": {},
   "source": [
    "**3. Parametre olarak girilen bir sayının faktöriyelini hesaplayan bir fonksiyon yazın.**"
   ]
  },
  {
   "cell_type": "code",
   "execution_count": 15,
   "metadata": {},
   "outputs": [
    {
     "name": "stdin",
     "output_type": "stream",
     "text": [
      "bir sayı giriniz: 6\n"
     ]
    },
    {
     "data": {
      "text/plain": [
       "720"
      ]
     },
     "execution_count": 15,
     "metadata": {},
     "output_type": "execute_result"
    }
   ],
   "source": [
    "n=input(\"bir sayı giriniz:\")\n",
    "a=int(n)\n",
    "def faktoriyel(a):\n",
    "  \n",
    "    if a == 0:\n",
    "        return 1\n",
    "   \n",
    "    else:\n",
    "       \n",
    "        return a * faktoriyel(a-1)\n",
    "faktoriyel(a)"
   ]
  },
  {
   "cell_type": "code",
   "execution_count": null,
   "metadata": {},
   "outputs": [],
   "source": []
  },
  {
   "cell_type": "markdown",
   "metadata": {},
   "source": [
    "**4. Girilen metin içerisindeki büyük harf ve küçük harflerin sayısını ekrana yazdıran bir fonksiyon yazın.**"
   ]
  },
  {
   "cell_type": "code",
   "execution_count": 59,
   "metadata": {},
   "outputs": [
    {
     "name": "stdout",
     "output_type": "stream",
     "text": [
      "Orijinal Dize :  OzzgEEE DeeMiiRRrrr\n",
      "Büyük harf karakter sayısı :  8\n",
      "Küçük harf karakter sayısı :  10\n"
     ]
    }
   ],
   "source": [
    "def string_test(D):\n",
    "    d={\"UPPER_CASE\":0, \"LOWER_CASE\":0}\n",
    "    for c in D:\n",
    "        if c.isupper():\n",
    "           d[\"UPPER_CASE\"]+=1\n",
    "        elif c.islower():\n",
    "           d[\"LOWER_CASE\"]+=1\n",
    "        else:\n",
    "           pass\n",
    "    print (\"Orijinal Dize : \", D)\n",
    "    print (\"Büyük harf karakter sayısı : \", d[\"UPPER_CASE\"])\n",
    "    print (\"Küçük harf karakter sayısı : \", d[\"LOWER_CASE\"])\n",
    "\n",
    "string_test('OzzgEEE DeeMiiRRrrr')"
   ]
  },
  {
   "cell_type": "code",
   "execution_count": null,
   "metadata": {},
   "outputs": [],
   "source": []
  },
  {
   "cell_type": "code",
   "execution_count": null,
   "metadata": {},
   "outputs": [],
   "source": []
  }
 ],
 "metadata": {
  "kernelspec": {
   "display_name": "Python 3",
   "language": "python",
   "name": "python3"
  },
  "language_info": {
   "codemirror_mode": {
    "name": "ipython",
    "version": 3
   },
   "file_extension": ".py",
   "mimetype": "text/x-python",
   "name": "python",
   "nbconvert_exporter": "python",
   "pygments_lexer": "ipython3",
   "version": "3.8.8"
  }
 },
 "nbformat": 4,
 "nbformat_minor": 4
}
