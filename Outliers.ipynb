{
 "cells": [
  {
   "cell_type": "markdown",
   "metadata": {},
   "source": [
    "# DATA CLEANING- OUTLIERS"
   ]
  },
  {
   "cell_type": "markdown",
   "metadata": {},
   "source": [
    "In this assignment, you continue to study the data of the US Education System. Again, please down it from here (dataset). In this dataset, there is a lot of data on an annual basis. You can reach the explanations of this data from Kaggle again.\n",
    "\n",
    "First of all, apply the most appropriate one of the techniques for completing the missing values in your previous lesson. In order to answer the following questions, you must overcome the missing data."
   ]
  },
  {
   "cell_type": "markdown",
   "metadata": {},
   "source": [
    "**(1) See TOTAL_REVENUE, which includes total revenue data, and TOTAL_EXPENDITURE, which includes total spending data. Do these variables contain outliers?**"
   ]
  },
  {
   "cell_type": "code",
   "execution_count": 10,
   "metadata": {},
   "outputs": [],
   "source": [
    "import numpy as np\n",
    "import pandas as pd\n",
    "import matplotlib.pyplot as plt\n",
    "import seaborn as sns \n"
   ]
  },
  {
   "cell_type": "code",
   "execution_count": 11,
   "metadata": {},
   "outputs": [
    {
     "data": {
      "text/html": [
       "<div>\n",
       "<style scoped>\n",
       "    .dataframe tbody tr th:only-of-type {\n",
       "        vertical-align: middle;\n",
       "    }\n",
       "\n",
       "    .dataframe tbody tr th {\n",
       "        vertical-align: top;\n",
       "    }\n",
       "\n",
       "    .dataframe thead th {\n",
       "        text-align: right;\n",
       "    }\n",
       "</style>\n",
       "<table border=\"1\" class=\"dataframe\">\n",
       "  <thead>\n",
       "    <tr style=\"text-align: right;\">\n",
       "      <th></th>\n",
       "      <th>PRIMARY_KEY</th>\n",
       "      <th>STATE</th>\n",
       "      <th>YEAR</th>\n",
       "      <th>ENROLL</th>\n",
       "      <th>TOTAL_REVENUE</th>\n",
       "      <th>FEDERAL_REVENUE</th>\n",
       "      <th>STATE_REVENUE</th>\n",
       "      <th>LOCAL_REVENUE</th>\n",
       "      <th>TOTAL_EXPENDITURE</th>\n",
       "      <th>INSTRUCTION_EXPENDITURE</th>\n",
       "      <th>...</th>\n",
       "      <th>GRADES_4_G</th>\n",
       "      <th>GRADES_8_G</th>\n",
       "      <th>GRADES_12_G</th>\n",
       "      <th>GRADES_1_8_G</th>\n",
       "      <th>GRADES_9_12_G</th>\n",
       "      <th>GRADES_ALL_G</th>\n",
       "      <th>AVG_MATH_4_SCORE</th>\n",
       "      <th>AVG_MATH_8_SCORE</th>\n",
       "      <th>AVG_READING_4_SCORE</th>\n",
       "      <th>AVG_READING_8_SCORE</th>\n",
       "    </tr>\n",
       "  </thead>\n",
       "  <tbody>\n",
       "    <tr>\n",
       "      <th>0</th>\n",
       "      <td>1992_ALABAMA</td>\n",
       "      <td>ALABAMA</td>\n",
       "      <td>1992</td>\n",
       "      <td>NaN</td>\n",
       "      <td>2678885.0</td>\n",
       "      <td>304177.0</td>\n",
       "      <td>1659028.0</td>\n",
       "      <td>715680.0</td>\n",
       "      <td>2653798.0</td>\n",
       "      <td>1481703.0</td>\n",
       "      <td>...</td>\n",
       "      <td>57948.0</td>\n",
       "      <td>58025.0</td>\n",
       "      <td>41167.0</td>\n",
       "      <td>NaN</td>\n",
       "      <td>NaN</td>\n",
       "      <td>731634.0</td>\n",
       "      <td>208.0</td>\n",
       "      <td>252.0</td>\n",
       "      <td>207.0</td>\n",
       "      <td>NaN</td>\n",
       "    </tr>\n",
       "    <tr>\n",
       "      <th>1</th>\n",
       "      <td>1992_ALASKA</td>\n",
       "      <td>ALASKA</td>\n",
       "      <td>1992</td>\n",
       "      <td>NaN</td>\n",
       "      <td>1049591.0</td>\n",
       "      <td>106780.0</td>\n",
       "      <td>720711.0</td>\n",
       "      <td>222100.0</td>\n",
       "      <td>972488.0</td>\n",
       "      <td>498362.0</td>\n",
       "      <td>...</td>\n",
       "      <td>9748.0</td>\n",
       "      <td>8789.0</td>\n",
       "      <td>6714.0</td>\n",
       "      <td>NaN</td>\n",
       "      <td>NaN</td>\n",
       "      <td>122487.0</td>\n",
       "      <td>NaN</td>\n",
       "      <td>NaN</td>\n",
       "      <td>NaN</td>\n",
       "      <td>NaN</td>\n",
       "    </tr>\n",
       "    <tr>\n",
       "      <th>2</th>\n",
       "      <td>1992_ARIZONA</td>\n",
       "      <td>ARIZONA</td>\n",
       "      <td>1992</td>\n",
       "      <td>NaN</td>\n",
       "      <td>3258079.0</td>\n",
       "      <td>297888.0</td>\n",
       "      <td>1369815.0</td>\n",
       "      <td>1590376.0</td>\n",
       "      <td>3401580.0</td>\n",
       "      <td>1435908.0</td>\n",
       "      <td>...</td>\n",
       "      <td>55433.0</td>\n",
       "      <td>49081.0</td>\n",
       "      <td>37410.0</td>\n",
       "      <td>NaN</td>\n",
       "      <td>NaN</td>\n",
       "      <td>673477.0</td>\n",
       "      <td>215.0</td>\n",
       "      <td>265.0</td>\n",
       "      <td>209.0</td>\n",
       "      <td>NaN</td>\n",
       "    </tr>\n",
       "    <tr>\n",
       "      <th>3</th>\n",
       "      <td>1992_ARKANSAS</td>\n",
       "      <td>ARKANSAS</td>\n",
       "      <td>1992</td>\n",
       "      <td>NaN</td>\n",
       "      <td>1711959.0</td>\n",
       "      <td>178571.0</td>\n",
       "      <td>958785.0</td>\n",
       "      <td>574603.0</td>\n",
       "      <td>1743022.0</td>\n",
       "      <td>964323.0</td>\n",
       "      <td>...</td>\n",
       "      <td>34632.0</td>\n",
       "      <td>36011.0</td>\n",
       "      <td>27651.0</td>\n",
       "      <td>NaN</td>\n",
       "      <td>NaN</td>\n",
       "      <td>441490.0</td>\n",
       "      <td>210.0</td>\n",
       "      <td>256.0</td>\n",
       "      <td>211.0</td>\n",
       "      <td>NaN</td>\n",
       "    </tr>\n",
       "    <tr>\n",
       "      <th>4</th>\n",
       "      <td>1992_CALIFORNIA</td>\n",
       "      <td>CALIFORNIA</td>\n",
       "      <td>1992</td>\n",
       "      <td>NaN</td>\n",
       "      <td>26260025.0</td>\n",
       "      <td>2072470.0</td>\n",
       "      <td>16546514.0</td>\n",
       "      <td>7641041.0</td>\n",
       "      <td>27138832.0</td>\n",
       "      <td>14358922.0</td>\n",
       "      <td>...</td>\n",
       "      <td>418418.0</td>\n",
       "      <td>363296.0</td>\n",
       "      <td>270675.0</td>\n",
       "      <td>NaN</td>\n",
       "      <td>NaN</td>\n",
       "      <td>5254844.0</td>\n",
       "      <td>208.0</td>\n",
       "      <td>261.0</td>\n",
       "      <td>202.0</td>\n",
       "      <td>NaN</td>\n",
       "    </tr>\n",
       "    <tr>\n",
       "      <th>...</th>\n",
       "      <td>...</td>\n",
       "      <td>...</td>\n",
       "      <td>...</td>\n",
       "      <td>...</td>\n",
       "      <td>...</td>\n",
       "      <td>...</td>\n",
       "      <td>...</td>\n",
       "      <td>...</td>\n",
       "      <td>...</td>\n",
       "      <td>...</td>\n",
       "      <td>...</td>\n",
       "      <td>...</td>\n",
       "      <td>...</td>\n",
       "      <td>...</td>\n",
       "      <td>...</td>\n",
       "      <td>...</td>\n",
       "      <td>...</td>\n",
       "      <td>...</td>\n",
       "      <td>...</td>\n",
       "      <td>...</td>\n",
       "      <td>...</td>\n",
       "    </tr>\n",
       "    <tr>\n",
       "      <th>1710</th>\n",
       "      <td>2019_VIRGINIA</td>\n",
       "      <td>VIRGINIA</td>\n",
       "      <td>2019</td>\n",
       "      <td>NaN</td>\n",
       "      <td>NaN</td>\n",
       "      <td>NaN</td>\n",
       "      <td>NaN</td>\n",
       "      <td>NaN</td>\n",
       "      <td>NaN</td>\n",
       "      <td>NaN</td>\n",
       "      <td>...</td>\n",
       "      <td>NaN</td>\n",
       "      <td>NaN</td>\n",
       "      <td>NaN</td>\n",
       "      <td>NaN</td>\n",
       "      <td>NaN</td>\n",
       "      <td>NaN</td>\n",
       "      <td>247.0</td>\n",
       "      <td>287.0</td>\n",
       "      <td>224.0</td>\n",
       "      <td>262.0</td>\n",
       "    </tr>\n",
       "    <tr>\n",
       "      <th>1711</th>\n",
       "      <td>2019_WASHINGTON</td>\n",
       "      <td>WASHINGTON</td>\n",
       "      <td>2019</td>\n",
       "      <td>NaN</td>\n",
       "      <td>NaN</td>\n",
       "      <td>NaN</td>\n",
       "      <td>NaN</td>\n",
       "      <td>NaN</td>\n",
       "      <td>NaN</td>\n",
       "      <td>NaN</td>\n",
       "      <td>...</td>\n",
       "      <td>NaN</td>\n",
       "      <td>NaN</td>\n",
       "      <td>NaN</td>\n",
       "      <td>NaN</td>\n",
       "      <td>NaN</td>\n",
       "      <td>NaN</td>\n",
       "      <td>240.0</td>\n",
       "      <td>286.0</td>\n",
       "      <td>220.0</td>\n",
       "      <td>266.0</td>\n",
       "    </tr>\n",
       "    <tr>\n",
       "      <th>1712</th>\n",
       "      <td>2019_WEST_VIRGINIA</td>\n",
       "      <td>WEST_VIRGINIA</td>\n",
       "      <td>2019</td>\n",
       "      <td>NaN</td>\n",
       "      <td>NaN</td>\n",
       "      <td>NaN</td>\n",
       "      <td>NaN</td>\n",
       "      <td>NaN</td>\n",
       "      <td>NaN</td>\n",
       "      <td>NaN</td>\n",
       "      <td>...</td>\n",
       "      <td>NaN</td>\n",
       "      <td>NaN</td>\n",
       "      <td>NaN</td>\n",
       "      <td>NaN</td>\n",
       "      <td>NaN</td>\n",
       "      <td>NaN</td>\n",
       "      <td>231.0</td>\n",
       "      <td>272.0</td>\n",
       "      <td>213.0</td>\n",
       "      <td>256.0</td>\n",
       "    </tr>\n",
       "    <tr>\n",
       "      <th>1713</th>\n",
       "      <td>2019_WISCONSIN</td>\n",
       "      <td>WISCONSIN</td>\n",
       "      <td>2019</td>\n",
       "      <td>NaN</td>\n",
       "      <td>NaN</td>\n",
       "      <td>NaN</td>\n",
       "      <td>NaN</td>\n",
       "      <td>NaN</td>\n",
       "      <td>NaN</td>\n",
       "      <td>NaN</td>\n",
       "      <td>...</td>\n",
       "      <td>NaN</td>\n",
       "      <td>NaN</td>\n",
       "      <td>NaN</td>\n",
       "      <td>NaN</td>\n",
       "      <td>NaN</td>\n",
       "      <td>NaN</td>\n",
       "      <td>242.0</td>\n",
       "      <td>289.0</td>\n",
       "      <td>220.0</td>\n",
       "      <td>267.0</td>\n",
       "    </tr>\n",
       "    <tr>\n",
       "      <th>1714</th>\n",
       "      <td>2019_WYOMING</td>\n",
       "      <td>WYOMING</td>\n",
       "      <td>2019</td>\n",
       "      <td>NaN</td>\n",
       "      <td>NaN</td>\n",
       "      <td>NaN</td>\n",
       "      <td>NaN</td>\n",
       "      <td>NaN</td>\n",
       "      <td>NaN</td>\n",
       "      <td>NaN</td>\n",
       "      <td>...</td>\n",
       "      <td>NaN</td>\n",
       "      <td>NaN</td>\n",
       "      <td>NaN</td>\n",
       "      <td>NaN</td>\n",
       "      <td>NaN</td>\n",
       "      <td>NaN</td>\n",
       "      <td>246.0</td>\n",
       "      <td>286.0</td>\n",
       "      <td>227.0</td>\n",
       "      <td>265.0</td>\n",
       "    </tr>\n",
       "  </tbody>\n",
       "</table>\n",
       "<p>1715 rows × 25 columns</p>\n",
       "</div>"
      ],
      "text/plain": [
       "             PRIMARY_KEY          STATE  YEAR  ENROLL  TOTAL_REVENUE  \\\n",
       "0           1992_ALABAMA        ALABAMA  1992     NaN      2678885.0   \n",
       "1            1992_ALASKA         ALASKA  1992     NaN      1049591.0   \n",
       "2           1992_ARIZONA        ARIZONA  1992     NaN      3258079.0   \n",
       "3          1992_ARKANSAS       ARKANSAS  1992     NaN      1711959.0   \n",
       "4        1992_CALIFORNIA     CALIFORNIA  1992     NaN     26260025.0   \n",
       "...                  ...            ...   ...     ...            ...   \n",
       "1710       2019_VIRGINIA       VIRGINIA  2019     NaN            NaN   \n",
       "1711     2019_WASHINGTON     WASHINGTON  2019     NaN            NaN   \n",
       "1712  2019_WEST_VIRGINIA  WEST_VIRGINIA  2019     NaN            NaN   \n",
       "1713      2019_WISCONSIN      WISCONSIN  2019     NaN            NaN   \n",
       "1714        2019_WYOMING        WYOMING  2019     NaN            NaN   \n",
       "\n",
       "      FEDERAL_REVENUE  STATE_REVENUE  LOCAL_REVENUE  TOTAL_EXPENDITURE  \\\n",
       "0            304177.0      1659028.0       715680.0          2653798.0   \n",
       "1            106780.0       720711.0       222100.0           972488.0   \n",
       "2            297888.0      1369815.0      1590376.0          3401580.0   \n",
       "3            178571.0       958785.0       574603.0          1743022.0   \n",
       "4           2072470.0     16546514.0      7641041.0         27138832.0   \n",
       "...               ...            ...            ...                ...   \n",
       "1710              NaN            NaN            NaN                NaN   \n",
       "1711              NaN            NaN            NaN                NaN   \n",
       "1712              NaN            NaN            NaN                NaN   \n",
       "1713              NaN            NaN            NaN                NaN   \n",
       "1714              NaN            NaN            NaN                NaN   \n",
       "\n",
       "      INSTRUCTION_EXPENDITURE  ...  GRADES_4_G  GRADES_8_G  GRADES_12_G  \\\n",
       "0                   1481703.0  ...     57948.0     58025.0      41167.0   \n",
       "1                    498362.0  ...      9748.0      8789.0       6714.0   \n",
       "2                   1435908.0  ...     55433.0     49081.0      37410.0   \n",
       "3                    964323.0  ...     34632.0     36011.0      27651.0   \n",
       "4                  14358922.0  ...    418418.0    363296.0     270675.0   \n",
       "...                       ...  ...         ...         ...          ...   \n",
       "1710                      NaN  ...         NaN         NaN          NaN   \n",
       "1711                      NaN  ...         NaN         NaN          NaN   \n",
       "1712                      NaN  ...         NaN         NaN          NaN   \n",
       "1713                      NaN  ...         NaN         NaN          NaN   \n",
       "1714                      NaN  ...         NaN         NaN          NaN   \n",
       "\n",
       "      GRADES_1_8_G  GRADES_9_12_G  GRADES_ALL_G  AVG_MATH_4_SCORE  \\\n",
       "0              NaN            NaN      731634.0             208.0   \n",
       "1              NaN            NaN      122487.0               NaN   \n",
       "2              NaN            NaN      673477.0             215.0   \n",
       "3              NaN            NaN      441490.0             210.0   \n",
       "4              NaN            NaN     5254844.0             208.0   \n",
       "...            ...            ...           ...               ...   \n",
       "1710           NaN            NaN           NaN             247.0   \n",
       "1711           NaN            NaN           NaN             240.0   \n",
       "1712           NaN            NaN           NaN             231.0   \n",
       "1713           NaN            NaN           NaN             242.0   \n",
       "1714           NaN            NaN           NaN             246.0   \n",
       "\n",
       "      AVG_MATH_8_SCORE  AVG_READING_4_SCORE  AVG_READING_8_SCORE  \n",
       "0                252.0                207.0                  NaN  \n",
       "1                  NaN                  NaN                  NaN  \n",
       "2                265.0                209.0                  NaN  \n",
       "3                256.0                211.0                  NaN  \n",
       "4                261.0                202.0                  NaN  \n",
       "...                ...                  ...                  ...  \n",
       "1710             287.0                224.0                262.0  \n",
       "1711             286.0                220.0                266.0  \n",
       "1712             272.0                213.0                256.0  \n",
       "1713             289.0                220.0                267.0  \n",
       "1714             286.0                227.0                265.0  \n",
       "\n",
       "[1715 rows x 25 columns]"
      ]
     },
     "execution_count": 11,
     "metadata": {},
     "output_type": "execute_result"
    }
   ],
   "source": [
    "us_data=pd.read_csv(\"states_all.csv\")\n",
    "us_data\n"
   ]
  },
  {
   "cell_type": "code",
   "execution_count": null,
   "metadata": {},
   "outputs": [],
   "source": []
  },
  {
   "cell_type": "code",
   "execution_count": 12,
   "metadata": {},
   "outputs": [],
   "source": [
    "us_data2=us_data.copy()"
   ]
  },
  {
   "cell_type": "code",
   "execution_count": 13,
   "metadata": {},
   "outputs": [],
   "source": [
    "us_data2[\"ENROLL\"]=us_data2[\"ENROLL\"].fillna(us_data2.groupby(\"YEAR\")[\"ENROLL\"].transform(\"mean\"))\n",
    "us_data2[\"ENROLL\"]=us_data2[\"ENROLL\"].fillna(us_data2[\"ENROLL\"].mean())"
   ]
  },
  {
   "cell_type": "code",
   "execution_count": 14,
   "metadata": {},
   "outputs": [],
   "source": [
    "us_data2[\"TOTAL_REVENUE\"]=us_data2[\"TOTAL_REVENUE\"].fillna(us_data2.groupby(\"YEAR\")[\"TOTAL_REVENUE\"].transform(\"mean\"))\n",
    "us_data2[\"TOTAL_REVENUE\"]=us_data2[\"TOTAL_REVENUE\"].fillna(us_data2[\"TOTAL_REVENUE\"].mean())"
   ]
  },
  {
   "cell_type": "code",
   "execution_count": 15,
   "metadata": {},
   "outputs": [],
   "source": [
    "us_data2[\"FEDERAL_REVENUE\"]=us_data2[\"FEDERAL_REVENUE\"].fillna(us_data2.groupby(\"YEAR\")[\"FEDERAL_REVENUE\"].transform(\"mean\"))\n",
    "us_data2[\"FEDERAL_REVENUE\"]=us_data2[\"FEDERAL_REVENUE\"].fillna(us_data2[\"FEDERAL_REVENUE\"].mean())"
   ]
  },
  {
   "cell_type": "code",
   "execution_count": 16,
   "metadata": {},
   "outputs": [],
   "source": [
    "us_data2[\"STATE_REVENUE\"]=us_data2[\"STATE_REVENUE\"].fillna(us_data2.groupby(\"YEAR\")[\"STATE_REVENUE\"].transform(\"mean\"))\n",
    "us_data2[\"STATE_REVENUE\"]=us_data2[\"STATE_REVENUE\"].fillna(us_data2[\"STATE_REVENUE\"].mean())"
   ]
  },
  {
   "cell_type": "code",
   "execution_count": 17,
   "metadata": {},
   "outputs": [],
   "source": [
    "us_data2[\"LOCAL_REVENUE\"]=us_data2[\"LOCAL_REVENUE\"].fillna(us_data2.groupby(\"YEAR\")[\"LOCAL_REVENUE\"].transform(\"mean\"))\n",
    "us_data2[\"LOCAL_REVENUE\"]=us_data2[\"LOCAL_REVENUE\"].fillna(us_data2[\"LOCAL_REVENUE\"].mean())"
   ]
  },
  {
   "cell_type": "code",
   "execution_count": 18,
   "metadata": {},
   "outputs": [],
   "source": [
    "us_data2[\"TOTAL_EXPENDITURE\"]=us_data2[\"TOTAL_EXPENDITURE\"].fillna(us_data2.groupby(\"YEAR\")[\"TOTAL_EXPENDITURE\"].transform(\"mean\"))\n",
    "us_data2[\"TOTAL_EXPENDITURE\"]=us_data2[\"TOTAL_EXPENDITURE\"].fillna(us_data2[\"TOTAL_EXPENDITURE\"].mean())"
   ]
  },
  {
   "cell_type": "code",
   "execution_count": 19,
   "metadata": {},
   "outputs": [],
   "source": [
    "us_data2[\"INSTRUCTION_EXPENDITURE\"]=us_data2[\"INSTRUCTION_EXPENDITURE\"].fillna(us_data2.groupby(\"YEAR\")[\"INSTRUCTION_EXPENDITURE\"].transform(\"mean\"))\n",
    "us_data2[\"INSTRUCTION_EXPENDITURE\"]=us_data2[\"INSTRUCTION_EXPENDITURE\"].fillna(us_data2[\"INSTRUCTION_EXPENDITURE\"].mean())"
   ]
  },
  {
   "cell_type": "code",
   "execution_count": 20,
   "metadata": {},
   "outputs": [],
   "source": [
    "us_data2[\"SUPPORT_SERVICES_EXPENDITURE\"]=us_data2[\"SUPPORT_SERVICES_EXPENDITURE\"].fillna(us_data2.groupby(\"YEAR\")[\"SUPPORT_SERVICES_EXPENDITURE\"].transform(\"mean\"))\n",
    "us_data2[\"SUPPORT_SERVICES_EXPENDITURE\"]=us_data2[\"SUPPORT_SERVICES_EXPENDITURE\"].fillna(us_data2[\"SUPPORT_SERVICES_EXPENDITURE\"].mean())"
   ]
  },
  {
   "cell_type": "code",
   "execution_count": 21,
   "metadata": {},
   "outputs": [],
   "source": [
    "us_data2[\"OTHER_EXPENDITURE\"]=us_data2[\"OTHER_EXPENDITURE\"].fillna(us_data2.groupby(\"YEAR\")[\"OTHER_EXPENDITURE\"].transform(\"mean\"))\n",
    "us_data2[\"OTHER_EXPENDITURE\"]=us_data2[\"OTHER_EXPENDITURE\"].fillna(us_data2[\"OTHER_EXPENDITURE\"].mean())"
   ]
  },
  {
   "cell_type": "code",
   "execution_count": 22,
   "metadata": {},
   "outputs": [],
   "source": [
    "us_data2[\"CAPITAL_OUTLAY_EXPENDITURE\"]=us_data2[\"CAPITAL_OUTLAY_EXPENDITURE\"].fillna(us_data2.groupby(\"YEAR\")[\"CAPITAL_OUTLAY_EXPENDITURE\"].transform(\"mean\"))\n",
    "us_data2[\"CAPITAL_OUTLAY_EXPENDITURE\"]=us_data2[\"CAPITAL_OUTLAY_EXPENDITURE\"].fillna(us_data2[\"CAPITAL_OUTLAY_EXPENDITURE\"].mean())"
   ]
  },
  {
   "cell_type": "code",
   "execution_count": 23,
   "metadata": {},
   "outputs": [],
   "source": [
    "us_data2[\"GRADES_PK_G\"]=us_data2[\"GRADES_PK_G\"].fillna(us_data2.groupby(\"YEAR\")[\"GRADES_PK_G\"].transform(\"mean\"))\n",
    "us_data2[\"GRADES_PK_G\"]=us_data2[\"GRADES_PK_G\"].fillna(us_data2[\"GRADES_PK_G\"].mean())"
   ]
  },
  {
   "cell_type": "code",
   "execution_count": 24,
   "metadata": {},
   "outputs": [],
   "source": [
    "us_data2[\"GRADES_KG_G\"]=us_data2[\"GRADES_KG_G\"].fillna(us_data2.groupby(\"YEAR\")[\"GRADES_KG_G\"].transform(\"mean\"))\n",
    "us_data2[\"GRADES_KG_G\"]=us_data2[\"GRADES_KG_G\"].fillna(us_data2[\"GRADES_KG_G\"].mean())"
   ]
  },
  {
   "cell_type": "code",
   "execution_count": 25,
   "metadata": {},
   "outputs": [],
   "source": [
    "us_data2[\"GRADES_KG_G\"]=us_data2[\"GRADES_KG_G\"].fillna(us_data2.groupby(\"YEAR\")[\"GRADES_KG_G\"].transform(\"mean\"))\n",
    "us_data2[\"GRADES_KG_G\"]=us_data2[\"GRADES_KG_G\"].fillna(us_data2[\"GRADES_KG_G\"].mean())"
   ]
  },
  {
   "cell_type": "code",
   "execution_count": 26,
   "metadata": {},
   "outputs": [],
   "source": [
    "us_data2[\"GRADES_4_G\"]=us_data2[\"GRADES_4_G\"].fillna(us_data2.groupby(\"YEAR\")[\"GRADES_4_G\"].transform(\"mean\"))\n",
    "us_data2[\"GRADES_4_G\"]=us_data2[\"GRADES_4_G\"].fillna(us_data2[\"GRADES_4_G\"].mean())"
   ]
  },
  {
   "cell_type": "code",
   "execution_count": 27,
   "metadata": {},
   "outputs": [],
   "source": [
    "us_data2[\"GRADES_8_G\"]=us_data2[\"GRADES_8_G\"].fillna(us_data2.groupby(\"YEAR\")[\"GRADES_8_G\"].transform(\"mean\"))\n",
    "us_data2[\"GRADES_8_G\"]=us_data2[\"GRADES_8_G\"].fillna(us_data2[\"GRADES_8_G\"].mean())"
   ]
  },
  {
   "cell_type": "code",
   "execution_count": 28,
   "metadata": {},
   "outputs": [],
   "source": [
    "us_data2[\"GRADES_12_G\"]=us_data2[\"GRADES_12_G\"].fillna(us_data2.groupby(\"YEAR\")[\"GRADES_12_G\"].transform(\"mean\"))\n",
    "us_data2[\"GRADES_12_G\"]=us_data2[\"GRADES_12_G\"].fillna(us_data2[\"GRADES_12_G\"].mean())"
   ]
  },
  {
   "cell_type": "code",
   "execution_count": 29,
   "metadata": {},
   "outputs": [],
   "source": [
    "us_data2[\"GRADES_1_8_G\"]=us_data2[\"GRADES_1_8_G\"].fillna(us_data2.groupby(\"YEAR\")[\"GRADES_1_8_G\"].transform(\"mean\"))\n",
    "us_data2[\"GRADES_1_8_G\"]=us_data2[\"GRADES_1_8_G\"].fillna(us_data2[\"GRADES_1_8_G\"].mean())"
   ]
  },
  {
   "cell_type": "code",
   "execution_count": 30,
   "metadata": {},
   "outputs": [],
   "source": [
    "us_data2[\"GRADES_9_12_G\"]=us_data2[\"GRADES_9_12_G\"].fillna(us_data2.groupby(\"YEAR\")[\"GRADES_9_12_G\"].transform(\"mean\"))\n",
    "us_data2[\"GRADES_9_12_G\"]=us_data2[\"GRADES_9_12_G\"].fillna(us_data2[\"GRADES_9_12_G\"].mean())"
   ]
  },
  {
   "cell_type": "code",
   "execution_count": 31,
   "metadata": {},
   "outputs": [],
   "source": [
    "us_data2[\"GRADES_ALL_G\"]=us_data2[\"GRADES_ALL_G\"].fillna(us_data2.groupby(\"YEAR\")[\"GRADES_ALL_G\"].transform(\"mean\"))\n",
    "us_data2[\"GRADES_ALL_G\"]=us_data2[\"GRADES_ALL_G\"].fillna(us_data2[\"GRADES_ALL_G\"].mean())"
   ]
  },
  {
   "cell_type": "code",
   "execution_count": 32,
   "metadata": {},
   "outputs": [],
   "source": [
    "us_data2[\"AVG_MATH_4_SCORE\"]=us_data2[\"AVG_MATH_4_SCORE\"].fillna(us_data2.groupby(\"YEAR\")[\"AVG_MATH_4_SCORE\"].transform(\"mean\"))\n",
    "us_data2[\"AVG_MATH_4_SCORE\"]=us_data2[\"AVG_MATH_4_SCORE\"].fillna(us_data2[\"AVG_MATH_4_SCORE\"].mean())"
   ]
  },
  {
   "cell_type": "code",
   "execution_count": 33,
   "metadata": {},
   "outputs": [],
   "source": [
    "us_data2[\"AVG_MATH_8_SCORE\"]=us_data2[\"AVG_MATH_8_SCORE\"].fillna(us_data2.groupby(\"YEAR\")[\"AVG_MATH_8_SCORE\"].transform(\"mean\"))\n",
    "us_data2[\"AVG_MATH_8_SCORE\"]=us_data2[\"AVG_MATH_8_SCORE\"].fillna(us_data2[\"AVG_MATH_8_SCORE\"].mean())"
   ]
  },
  {
   "cell_type": "code",
   "execution_count": 34,
   "metadata": {},
   "outputs": [],
   "source": [
    "us_data2[\"AVG_READING_4_SCORE\"]=us_data2[\"AVG_READING_4_SCORE\"].fillna(us_data2.groupby(\"YEAR\")[\"AVG_READING_4_SCORE\"].transform(\"mean\"))\n",
    "us_data2[\"AVG_READING_4_SCORE\"]=us_data2[\"AVG_READING_4_SCORE\"].fillna(us_data2[\"AVG_READING_4_SCORE\"].mean())"
   ]
  },
  {
   "cell_type": "code",
   "execution_count": null,
   "metadata": {},
   "outputs": [],
   "source": [
    "\n"
   ]
  },
  {
   "cell_type": "code",
   "execution_count": null,
   "metadata": {},
   "outputs": [],
   "source": []
  },
  {
   "cell_type": "code",
   "execution_count": 35,
   "metadata": {},
   "outputs": [
    {
     "data": {
      "text/html": [
       "<div>\n",
       "<style scoped>\n",
       "    .dataframe tbody tr th:only-of-type {\n",
       "        vertical-align: middle;\n",
       "    }\n",
       "\n",
       "    .dataframe tbody tr th {\n",
       "        vertical-align: top;\n",
       "    }\n",
       "\n",
       "    .dataframe thead th {\n",
       "        text-align: right;\n",
       "    }\n",
       "</style>\n",
       "<table border=\"1\" class=\"dataframe\">\n",
       "  <thead>\n",
       "    <tr style=\"text-align: right;\">\n",
       "      <th></th>\n",
       "      <th>PRIMARY_KEY</th>\n",
       "      <th>STATE</th>\n",
       "      <th>YEAR</th>\n",
       "      <th>ENROLL</th>\n",
       "      <th>TOTAL_REVENUE</th>\n",
       "      <th>FEDERAL_REVENUE</th>\n",
       "      <th>STATE_REVENUE</th>\n",
       "      <th>LOCAL_REVENUE</th>\n",
       "      <th>TOTAL_EXPENDITURE</th>\n",
       "      <th>INSTRUCTION_EXPENDITURE</th>\n",
       "      <th>...</th>\n",
       "      <th>GRADES_4_G</th>\n",
       "      <th>GRADES_8_G</th>\n",
       "      <th>GRADES_12_G</th>\n",
       "      <th>GRADES_1_8_G</th>\n",
       "      <th>GRADES_9_12_G</th>\n",
       "      <th>GRADES_ALL_G</th>\n",
       "      <th>AVG_MATH_4_SCORE</th>\n",
       "      <th>AVG_MATH_8_SCORE</th>\n",
       "      <th>AVG_READING_4_SCORE</th>\n",
       "      <th>AVG_READING_8_SCORE</th>\n",
       "    </tr>\n",
       "  </thead>\n",
       "  <tbody>\n",
       "    <tr>\n",
       "      <th>0</th>\n",
       "      <td>1992_ALABAMA</td>\n",
       "      <td>ALABAMA</td>\n",
       "      <td>1992</td>\n",
       "      <td>917561.547747</td>\n",
       "      <td>2.678885e+06</td>\n",
       "      <td>3.041770e+05</td>\n",
       "      <td>1.659028e+06</td>\n",
       "      <td>7.156800e+05</td>\n",
       "      <td>2.653798e+06</td>\n",
       "      <td>1.481703e+06</td>\n",
       "      <td>...</td>\n",
       "      <td>57948.000000</td>\n",
       "      <td>58025.000000</td>\n",
       "      <td>41167.000000</td>\n",
       "      <td>577958.125867</td>\n",
       "      <td>282083.7059</td>\n",
       "      <td>7.316340e+05</td>\n",
       "      <td>208.000000</td>\n",
       "      <td>252.000000</td>\n",
       "      <td>207.000000</td>\n",
       "      <td>NaN</td>\n",
       "    </tr>\n",
       "    <tr>\n",
       "      <th>1</th>\n",
       "      <td>1992_ALASKA</td>\n",
       "      <td>ALASKA</td>\n",
       "      <td>1992</td>\n",
       "      <td>917561.547747</td>\n",
       "      <td>1.049591e+06</td>\n",
       "      <td>1.067800e+05</td>\n",
       "      <td>7.207110e+05</td>\n",
       "      <td>2.221000e+05</td>\n",
       "      <td>9.724880e+05</td>\n",
       "      <td>4.983620e+05</td>\n",
       "      <td>...</td>\n",
       "      <td>9748.000000</td>\n",
       "      <td>8789.000000</td>\n",
       "      <td>6714.000000</td>\n",
       "      <td>577958.125867</td>\n",
       "      <td>282083.7059</td>\n",
       "      <td>1.224870e+05</td>\n",
       "      <td>218.418605</td>\n",
       "      <td>266.325581</td>\n",
       "      <td>215.372093</td>\n",
       "      <td>NaN</td>\n",
       "    </tr>\n",
       "    <tr>\n",
       "      <th>2</th>\n",
       "      <td>1992_ARIZONA</td>\n",
       "      <td>ARIZONA</td>\n",
       "      <td>1992</td>\n",
       "      <td>917561.547747</td>\n",
       "      <td>3.258079e+06</td>\n",
       "      <td>2.978880e+05</td>\n",
       "      <td>1.369815e+06</td>\n",
       "      <td>1.590376e+06</td>\n",
       "      <td>3.401580e+06</td>\n",
       "      <td>1.435908e+06</td>\n",
       "      <td>...</td>\n",
       "      <td>55433.000000</td>\n",
       "      <td>49081.000000</td>\n",
       "      <td>37410.000000</td>\n",
       "      <td>577958.125867</td>\n",
       "      <td>282083.7059</td>\n",
       "      <td>6.734770e+05</td>\n",
       "      <td>215.000000</td>\n",
       "      <td>265.000000</td>\n",
       "      <td>209.000000</td>\n",
       "      <td>NaN</td>\n",
       "    </tr>\n",
       "    <tr>\n",
       "      <th>3</th>\n",
       "      <td>1992_ARKANSAS</td>\n",
       "      <td>ARKANSAS</td>\n",
       "      <td>1992</td>\n",
       "      <td>917561.547747</td>\n",
       "      <td>1.711959e+06</td>\n",
       "      <td>1.785710e+05</td>\n",
       "      <td>9.587850e+05</td>\n",
       "      <td>5.746030e+05</td>\n",
       "      <td>1.743022e+06</td>\n",
       "      <td>9.643230e+05</td>\n",
       "      <td>...</td>\n",
       "      <td>34632.000000</td>\n",
       "      <td>36011.000000</td>\n",
       "      <td>27651.000000</td>\n",
       "      <td>577958.125867</td>\n",
       "      <td>282083.7059</td>\n",
       "      <td>4.414900e+05</td>\n",
       "      <td>210.000000</td>\n",
       "      <td>256.000000</td>\n",
       "      <td>211.000000</td>\n",
       "      <td>NaN</td>\n",
       "    </tr>\n",
       "    <tr>\n",
       "      <th>4</th>\n",
       "      <td>1992_CALIFORNIA</td>\n",
       "      <td>CALIFORNIA</td>\n",
       "      <td>1992</td>\n",
       "      <td>917561.547747</td>\n",
       "      <td>2.626002e+07</td>\n",
       "      <td>2.072470e+06</td>\n",
       "      <td>1.654651e+07</td>\n",
       "      <td>7.641041e+06</td>\n",
       "      <td>2.713883e+07</td>\n",
       "      <td>1.435892e+07</td>\n",
       "      <td>...</td>\n",
       "      <td>418418.000000</td>\n",
       "      <td>363296.000000</td>\n",
       "      <td>270675.000000</td>\n",
       "      <td>577958.125867</td>\n",
       "      <td>282083.7059</td>\n",
       "      <td>5.254844e+06</td>\n",
       "      <td>208.000000</td>\n",
       "      <td>261.000000</td>\n",
       "      <td>202.000000</td>\n",
       "      <td>NaN</td>\n",
       "    </tr>\n",
       "    <tr>\n",
       "      <th>...</th>\n",
       "      <td>...</td>\n",
       "      <td>...</td>\n",
       "      <td>...</td>\n",
       "      <td>...</td>\n",
       "      <td>...</td>\n",
       "      <td>...</td>\n",
       "      <td>...</td>\n",
       "      <td>...</td>\n",
       "      <td>...</td>\n",
       "      <td>...</td>\n",
       "      <td>...</td>\n",
       "      <td>...</td>\n",
       "      <td>...</td>\n",
       "      <td>...</td>\n",
       "      <td>...</td>\n",
       "      <td>...</td>\n",
       "      <td>...</td>\n",
       "      <td>...</td>\n",
       "      <td>...</td>\n",
       "      <td>...</td>\n",
       "      <td>...</td>\n",
       "    </tr>\n",
       "    <tr>\n",
       "      <th>1710</th>\n",
       "      <td>2019_VIRGINIA</td>\n",
       "      <td>VIRGINIA</td>\n",
       "      <td>2019</td>\n",
       "      <td>917561.547747</td>\n",
       "      <td>9.097897e+06</td>\n",
       "      <td>7.674020e+05</td>\n",
       "      <td>4.221979e+06</td>\n",
       "      <td>4.108516e+06</td>\n",
       "      <td>9.202368e+06</td>\n",
       "      <td>4.765951e+06</td>\n",
       "      <td>...</td>\n",
       "      <td>69192.051379</td>\n",
       "      <td>68138.013603</td>\n",
       "      <td>58440.626991</td>\n",
       "      <td>577958.125867</td>\n",
       "      <td>282083.7059</td>\n",
       "      <td>9.142853e+05</td>\n",
       "      <td>247.000000</td>\n",
       "      <td>287.000000</td>\n",
       "      <td>224.000000</td>\n",
       "      <td>262.0</td>\n",
       "    </tr>\n",
       "    <tr>\n",
       "      <th>1711</th>\n",
       "      <td>2019_WASHINGTON</td>\n",
       "      <td>WASHINGTON</td>\n",
       "      <td>2019</td>\n",
       "      <td>917561.547747</td>\n",
       "      <td>9.097897e+06</td>\n",
       "      <td>7.674020e+05</td>\n",
       "      <td>4.221979e+06</td>\n",
       "      <td>4.108516e+06</td>\n",
       "      <td>9.202368e+06</td>\n",
       "      <td>4.765951e+06</td>\n",
       "      <td>...</td>\n",
       "      <td>69192.051379</td>\n",
       "      <td>68138.013603</td>\n",
       "      <td>58440.626991</td>\n",
       "      <td>577958.125867</td>\n",
       "      <td>282083.7059</td>\n",
       "      <td>9.142853e+05</td>\n",
       "      <td>240.000000</td>\n",
       "      <td>286.000000</td>\n",
       "      <td>220.000000</td>\n",
       "      <td>266.0</td>\n",
       "    </tr>\n",
       "    <tr>\n",
       "      <th>1712</th>\n",
       "      <td>2019_WEST_VIRGINIA</td>\n",
       "      <td>WEST_VIRGINIA</td>\n",
       "      <td>2019</td>\n",
       "      <td>917561.547747</td>\n",
       "      <td>9.097897e+06</td>\n",
       "      <td>7.674020e+05</td>\n",
       "      <td>4.221979e+06</td>\n",
       "      <td>4.108516e+06</td>\n",
       "      <td>9.202368e+06</td>\n",
       "      <td>4.765951e+06</td>\n",
       "      <td>...</td>\n",
       "      <td>69192.051379</td>\n",
       "      <td>68138.013603</td>\n",
       "      <td>58440.626991</td>\n",
       "      <td>577958.125867</td>\n",
       "      <td>282083.7059</td>\n",
       "      <td>9.142853e+05</td>\n",
       "      <td>231.000000</td>\n",
       "      <td>272.000000</td>\n",
       "      <td>213.000000</td>\n",
       "      <td>256.0</td>\n",
       "    </tr>\n",
       "    <tr>\n",
       "      <th>1713</th>\n",
       "      <td>2019_WISCONSIN</td>\n",
       "      <td>WISCONSIN</td>\n",
       "      <td>2019</td>\n",
       "      <td>917561.547747</td>\n",
       "      <td>9.097897e+06</td>\n",
       "      <td>7.674020e+05</td>\n",
       "      <td>4.221979e+06</td>\n",
       "      <td>4.108516e+06</td>\n",
       "      <td>9.202368e+06</td>\n",
       "      <td>4.765951e+06</td>\n",
       "      <td>...</td>\n",
       "      <td>69192.051379</td>\n",
       "      <td>68138.013603</td>\n",
       "      <td>58440.626991</td>\n",
       "      <td>577958.125867</td>\n",
       "      <td>282083.7059</td>\n",
       "      <td>9.142853e+05</td>\n",
       "      <td>242.000000</td>\n",
       "      <td>289.000000</td>\n",
       "      <td>220.000000</td>\n",
       "      <td>267.0</td>\n",
       "    </tr>\n",
       "    <tr>\n",
       "      <th>1714</th>\n",
       "      <td>2019_WYOMING</td>\n",
       "      <td>WYOMING</td>\n",
       "      <td>2019</td>\n",
       "      <td>917561.547747</td>\n",
       "      <td>9.097897e+06</td>\n",
       "      <td>7.674020e+05</td>\n",
       "      <td>4.221979e+06</td>\n",
       "      <td>4.108516e+06</td>\n",
       "      <td>9.202368e+06</td>\n",
       "      <td>4.765951e+06</td>\n",
       "      <td>...</td>\n",
       "      <td>69192.051379</td>\n",
       "      <td>68138.013603</td>\n",
       "      <td>58440.626991</td>\n",
       "      <td>577958.125867</td>\n",
       "      <td>282083.7059</td>\n",
       "      <td>9.142853e+05</td>\n",
       "      <td>246.000000</td>\n",
       "      <td>286.000000</td>\n",
       "      <td>227.000000</td>\n",
       "      <td>265.0</td>\n",
       "    </tr>\n",
       "  </tbody>\n",
       "</table>\n",
       "<p>1715 rows × 25 columns</p>\n",
       "</div>"
      ],
      "text/plain": [
       "             PRIMARY_KEY          STATE  YEAR         ENROLL  TOTAL_REVENUE  \\\n",
       "0           1992_ALABAMA        ALABAMA  1992  917561.547747   2.678885e+06   \n",
       "1            1992_ALASKA         ALASKA  1992  917561.547747   1.049591e+06   \n",
       "2           1992_ARIZONA        ARIZONA  1992  917561.547747   3.258079e+06   \n",
       "3          1992_ARKANSAS       ARKANSAS  1992  917561.547747   1.711959e+06   \n",
       "4        1992_CALIFORNIA     CALIFORNIA  1992  917561.547747   2.626002e+07   \n",
       "...                  ...            ...   ...            ...            ...   \n",
       "1710       2019_VIRGINIA       VIRGINIA  2019  917561.547747   9.097897e+06   \n",
       "1711     2019_WASHINGTON     WASHINGTON  2019  917561.547747   9.097897e+06   \n",
       "1712  2019_WEST_VIRGINIA  WEST_VIRGINIA  2019  917561.547747   9.097897e+06   \n",
       "1713      2019_WISCONSIN      WISCONSIN  2019  917561.547747   9.097897e+06   \n",
       "1714        2019_WYOMING        WYOMING  2019  917561.547747   9.097897e+06   \n",
       "\n",
       "      FEDERAL_REVENUE  STATE_REVENUE  LOCAL_REVENUE  TOTAL_EXPENDITURE  \\\n",
       "0        3.041770e+05   1.659028e+06   7.156800e+05       2.653798e+06   \n",
       "1        1.067800e+05   7.207110e+05   2.221000e+05       9.724880e+05   \n",
       "2        2.978880e+05   1.369815e+06   1.590376e+06       3.401580e+06   \n",
       "3        1.785710e+05   9.587850e+05   5.746030e+05       1.743022e+06   \n",
       "4        2.072470e+06   1.654651e+07   7.641041e+06       2.713883e+07   \n",
       "...               ...            ...            ...                ...   \n",
       "1710     7.674020e+05   4.221979e+06   4.108516e+06       9.202368e+06   \n",
       "1711     7.674020e+05   4.221979e+06   4.108516e+06       9.202368e+06   \n",
       "1712     7.674020e+05   4.221979e+06   4.108516e+06       9.202368e+06   \n",
       "1713     7.674020e+05   4.221979e+06   4.108516e+06       9.202368e+06   \n",
       "1714     7.674020e+05   4.221979e+06   4.108516e+06       9.202368e+06   \n",
       "\n",
       "      INSTRUCTION_EXPENDITURE  ...     GRADES_4_G     GRADES_8_G  \\\n",
       "0                1.481703e+06  ...   57948.000000   58025.000000   \n",
       "1                4.983620e+05  ...    9748.000000    8789.000000   \n",
       "2                1.435908e+06  ...   55433.000000   49081.000000   \n",
       "3                9.643230e+05  ...   34632.000000   36011.000000   \n",
       "4                1.435892e+07  ...  418418.000000  363296.000000   \n",
       "...                       ...  ...            ...            ...   \n",
       "1710             4.765951e+06  ...   69192.051379   68138.013603   \n",
       "1711             4.765951e+06  ...   69192.051379   68138.013603   \n",
       "1712             4.765951e+06  ...   69192.051379   68138.013603   \n",
       "1713             4.765951e+06  ...   69192.051379   68138.013603   \n",
       "1714             4.765951e+06  ...   69192.051379   68138.013603   \n",
       "\n",
       "        GRADES_12_G   GRADES_1_8_G  GRADES_9_12_G  GRADES_ALL_G  \\\n",
       "0      41167.000000  577958.125867    282083.7059  7.316340e+05   \n",
       "1       6714.000000  577958.125867    282083.7059  1.224870e+05   \n",
       "2      37410.000000  577958.125867    282083.7059  6.734770e+05   \n",
       "3      27651.000000  577958.125867    282083.7059  4.414900e+05   \n",
       "4     270675.000000  577958.125867    282083.7059  5.254844e+06   \n",
       "...             ...            ...            ...           ...   \n",
       "1710   58440.626991  577958.125867    282083.7059  9.142853e+05   \n",
       "1711   58440.626991  577958.125867    282083.7059  9.142853e+05   \n",
       "1712   58440.626991  577958.125867    282083.7059  9.142853e+05   \n",
       "1713   58440.626991  577958.125867    282083.7059  9.142853e+05   \n",
       "1714   58440.626991  577958.125867    282083.7059  9.142853e+05   \n",
       "\n",
       "      AVG_MATH_4_SCORE  AVG_MATH_8_SCORE  AVG_READING_4_SCORE  \\\n",
       "0           208.000000        252.000000           207.000000   \n",
       "1           218.418605        266.325581           215.372093   \n",
       "2           215.000000        265.000000           209.000000   \n",
       "3           210.000000        256.000000           211.000000   \n",
       "4           208.000000        261.000000           202.000000   \n",
       "...                ...               ...                  ...   \n",
       "1710        247.000000        287.000000           224.000000   \n",
       "1711        240.000000        286.000000           220.000000   \n",
       "1712        231.000000        272.000000           213.000000   \n",
       "1713        242.000000        289.000000           220.000000   \n",
       "1714        246.000000        286.000000           227.000000   \n",
       "\n",
       "      AVG_READING_8_SCORE  \n",
       "0                     NaN  \n",
       "1                     NaN  \n",
       "2                     NaN  \n",
       "3                     NaN  \n",
       "4                     NaN  \n",
       "...                   ...  \n",
       "1710                262.0  \n",
       "1711                266.0  \n",
       "1712                256.0  \n",
       "1713                267.0  \n",
       "1714                265.0  \n",
       "\n",
       "[1715 rows x 25 columns]"
      ]
     },
     "execution_count": 35,
     "metadata": {},
     "output_type": "execute_result"
    }
   ],
   "source": [
    "us_data2"
   ]
  },
  {
   "cell_type": "code",
   "execution_count": null,
   "metadata": {},
   "outputs": [],
   "source": []
  },
  {
   "cell_type": "code",
   "execution_count": 36,
   "metadata": {},
   "outputs": [
    {
     "data": {
      "text/html": [
       "<div>\n",
       "<style scoped>\n",
       "    .dataframe tbody tr th:only-of-type {\n",
       "        vertical-align: middle;\n",
       "    }\n",
       "\n",
       "    .dataframe tbody tr th {\n",
       "        vertical-align: top;\n",
       "    }\n",
       "\n",
       "    .dataframe thead th {\n",
       "        text-align: right;\n",
       "    }\n",
       "</style>\n",
       "<table border=\"1\" class=\"dataframe\">\n",
       "  <thead>\n",
       "    <tr style=\"text-align: right;\">\n",
       "      <th></th>\n",
       "      <th>sub</th>\n",
       "      <th>values</th>\n",
       "    </tr>\n",
       "  </thead>\n",
       "  <tbody>\n",
       "    <tr>\n",
       "      <th>0</th>\n",
       "      <td>IQR</td>\n",
       "      <td>6.105600e+06</td>\n",
       "    </tr>\n",
       "    <tr>\n",
       "      <th>1</th>\n",
       "      <td>Upper Bound</td>\n",
       "      <td>1.825630e+07</td>\n",
       "    </tr>\n",
       "    <tr>\n",
       "      <th>2</th>\n",
       "      <td>Lower Bound</td>\n",
       "      <td>-6.166104e+06</td>\n",
       "    </tr>\n",
       "    <tr>\n",
       "      <th>3</th>\n",
       "      <td>Sum outliers</td>\n",
       "      <td>1.650000e+02</td>\n",
       "    </tr>\n",
       "    <tr>\n",
       "      <th>4</th>\n",
       "      <td>percentage outliers</td>\n",
       "      <td>9.620991e+00</td>\n",
       "    </tr>\n",
       "  </tbody>\n",
       "</table>\n",
       "</div>"
      ],
      "text/plain": [
       "                   sub        values\n",
       "0                  IQR  6.105600e+06\n",
       "1          Upper Bound  1.825630e+07\n",
       "2          Lower Bound -6.166104e+06\n",
       "3         Sum outliers  1.650000e+02\n",
       "4  percentage outliers  9.620991e+00"
      ]
     },
     "execution_count": 36,
     "metadata": {},
     "output_type": "execute_result"
    }
   ],
   "source": [
    "import numpy as np\n",
    "import pandas as pd\n",
    "def outliers(s):\n",
    "    iqr = (np.quantile(s, 0.75))-(np.quantile(s, 0.25))\n",
    "    upper_bound = np.quantile(s, 0.75)+(1.5*iqr)\n",
    "    lower_bound = np.quantile(s, 0.25)-(1.5*iqr)\n",
    "    f = []\n",
    "    for i in s:\n",
    "        if i > upper_bound:\n",
    "            f.append(i)\n",
    "        elif i < lower_bound:\n",
    "            f.append(i)\n",
    "    sums = len(f)\n",
    "    pros = len(f)/len(s)*100\n",
    "    d = {'IQR':iqr,\n",
    "         'Upper Bound':upper_bound,\n",
    "        'Lower Bound':lower_bound,\n",
    "        'Sum outliers': sums,'percentage outliers':pros}\n",
    "    d = pd.DataFrame(d.items(),columns = ['sub','values'])\n",
    "    return(d)\n",
    "    \n",
    "outliers(us_data2.TOTAL_REVENUE )"
   ]
  },
  {
   "cell_type": "code",
   "execution_count": null,
   "metadata": {},
   "outputs": [],
   "source": []
  },
  {
   "cell_type": "code",
   "execution_count": 37,
   "metadata": {},
   "outputs": [
    {
     "data": {
      "text/html": [
       "<div>\n",
       "<style scoped>\n",
       "    .dataframe tbody tr th:only-of-type {\n",
       "        vertical-align: middle;\n",
       "    }\n",
       "\n",
       "    .dataframe tbody tr th {\n",
       "        vertical-align: top;\n",
       "    }\n",
       "\n",
       "    .dataframe thead th {\n",
       "        text-align: right;\n",
       "    }\n",
       "</style>\n",
       "<table border=\"1\" class=\"dataframe\">\n",
       "  <thead>\n",
       "    <tr style=\"text-align: right;\">\n",
       "      <th></th>\n",
       "      <th>sub</th>\n",
       "      <th>values</th>\n",
       "    </tr>\n",
       "  </thead>\n",
       "  <tbody>\n",
       "    <tr>\n",
       "      <th>0</th>\n",
       "      <td>IQR</td>\n",
       "      <td>6.197920e+06</td>\n",
       "    </tr>\n",
       "    <tr>\n",
       "      <th>1</th>\n",
       "      <td>Upper Bound</td>\n",
       "      <td>1.849925e+07</td>\n",
       "    </tr>\n",
       "    <tr>\n",
       "      <th>2</th>\n",
       "      <td>Lower Bound</td>\n",
       "      <td>-6.292431e+06</td>\n",
       "    </tr>\n",
       "    <tr>\n",
       "      <th>3</th>\n",
       "      <td>Sum outliers</td>\n",
       "      <td>1.620000e+02</td>\n",
       "    </tr>\n",
       "    <tr>\n",
       "      <th>4</th>\n",
       "      <td>percentage outliers</td>\n",
       "      <td>9.446064e+00</td>\n",
       "    </tr>\n",
       "  </tbody>\n",
       "</table>\n",
       "</div>"
      ],
      "text/plain": [
       "                   sub        values\n",
       "0                  IQR  6.197920e+06\n",
       "1          Upper Bound  1.849925e+07\n",
       "2          Lower Bound -6.292431e+06\n",
       "3         Sum outliers  1.620000e+02\n",
       "4  percentage outliers  9.446064e+00"
      ]
     },
     "execution_count": 37,
     "metadata": {},
     "output_type": "execute_result"
    }
   ],
   "source": [
    "import numpy as np\n",
    "import pandas as pd\n",
    "def outliers(s):\n",
    "    iqr = (np.quantile(s, 0.75))-(np.quantile(s, 0.25))\n",
    "    upper_bound = np.quantile(s, 0.75)+(1.5*iqr)\n",
    "    lower_bound = np.quantile(s, 0.25)-(1.5*iqr)\n",
    "    f = []\n",
    "    for i in s:\n",
    "        if i > upper_bound:\n",
    "            f.append(i)\n",
    "        elif i < lower_bound:\n",
    "            f.append(i)\n",
    "    sums = len(f)\n",
    "    pros = len(f)/len(s)*100\n",
    "    d = {'IQR':iqr,\n",
    "         'Upper Bound':upper_bound,\n",
    "        'Lower Bound':lower_bound,\n",
    "        'Sum outliers': sums,'percentage outliers':pros}\n",
    "    d = pd.DataFrame(d.items(),columns = ['sub','values'])\n",
    "    return(d)\n",
    "    \n",
    "outliers(us_data2.TOTAL_EXPENDITURE )"
   ]
  },
  {
   "cell_type": "code",
   "execution_count": null,
   "metadata": {},
   "outputs": [],
   "source": []
  },
  {
   "cell_type": "code",
   "execution_count": null,
   "metadata": {},
   "outputs": [],
   "source": []
  },
  {
   "cell_type": "markdown",
   "metadata": {},
   "source": [
    "### TOTAL_REVENUE"
   ]
  },
  {
   "cell_type": "code",
   "execution_count": 38,
   "metadata": {},
   "outputs": [
    {
     "name": "stdout",
     "output_type": "stream",
     "text": [
      "Threshold: 1.0\n",
      "Number of outliers: 150\n",
      "------\n",
      "Threshold: 1.5\n",
      "Number of outliers: 105\n",
      "------\n",
      "Threshold: 2.0\n",
      "Number of outliers: 66\n",
      "------\n",
      "Threshold: 2.5\n",
      "Number of outliers: 49\n",
      "------\n"
     ]
    }
   ],
   "source": [
    "from scipy.stats import zscore\n",
    "\n",
    "z_scores = zscore(us_data2[\"TOTAL_REVENUE\"])\n",
    "for threshold in np.arange(1,3,0.5):\n",
    "    print(\"Threshold: {}\".format(threshold))\n",
    "    print(\"Number of outliers: {}\".format(len((np.where(z_scores > threshold)[0]))))\n",
    "    print('------')"
   ]
  },
  {
   "cell_type": "code",
   "execution_count": null,
   "metadata": {},
   "outputs": [],
   "source": []
  },
  {
   "cell_type": "code",
   "execution_count": 39,
   "metadata": {},
   "outputs": [
    {
     "data": {
      "image/png": "[encoded data removed]",
      "text/plain": [
       "<Figure size 432x288 with 1 Axes>"
      ]
     },
     "metadata": {
      "needs_background": "light"
     },
     "output_type": "display_data"
    }
   ],
   "source": [
    "us_data2.TOTAL_REVENUE.plot.box()\n",
    "plt.show()"
   ]
  },
  {
   "cell_type": "code",
   "execution_count": null,
   "metadata": {},
   "outputs": [],
   "source": []
  },
  {
   "cell_type": "code",
   "execution_count": null,
   "metadata": {},
   "outputs": [],
   "source": []
  },
  {
   "cell_type": "code",
   "execution_count": null,
   "metadata": {},
   "outputs": [],
   "source": []
  },
  {
   "cell_type": "code",
   "execution_count": 40,
   "metadata": {},
   "outputs": [
    {
     "name": "stdout",
     "output_type": "stream",
     "text": [
      "Threshold: 1.0\n",
      "Number of outliers: 150\n",
      "------\n",
      "Threshold: 1.5\n",
      "Number of outliers: 106\n",
      "------\n",
      "Threshold: 2.0\n",
      "Number of outliers: 62\n",
      "------\n",
      "Threshold: 2.5\n",
      "Number of outliers: 50\n",
      "------\n"
     ]
    }
   ],
   "source": [
    "from scipy.stats import zscore\n",
    "\n",
    "z_scores = zscore(us_data2[\"TOTAL_EXPENDITURE\"])\n",
    "for threshold in np.arange(1,3,0.5):\n",
    "    print(\"Threshold: {}\".format(threshold))\n",
    "    print(\"Number of outliers: {}\".format(len((np.where(z_scores > threshold)[0]))))\n",
    "    print('------')"
   ]
  },
  {
   "cell_type": "code",
   "execution_count": null,
   "metadata": {},
   "outputs": [],
   "source": []
  },
  {
   "cell_type": "code",
   "execution_count": 41,
   "metadata": {},
   "outputs": [
    {
     "data": {
      "image/png": "[encoded data removed]",
      "text/plain": [
       "<Figure size 432x288 with 1 Axes>"
      ]
     },
     "metadata": {
      "needs_background": "light"
     },
     "output_type": "display_data"
    }
   ],
   "source": [
    "us_data2.TOTAL_EXPENDITURE.plot.box()\n",
    "plt.show()"
   ]
  },
  {
   "cell_type": "code",
   "execution_count": null,
   "metadata": {},
   "outputs": [],
   "source": []
  },
  {
   "cell_type": "code",
   "execution_count": null,
   "metadata": {},
   "outputs": [],
   "source": []
  },
  {
   "cell_type": "code",
   "execution_count": null,
   "metadata": {},
   "outputs": [],
   "source": []
  },
  {
   "cell_type": "code",
   "execution_count": null,
   "metadata": {},
   "outputs": [],
   "source": []
  },
  {
   "cell_type": "markdown",
   "metadata": {},
   "source": [
    "**(2) If you find outliers in the total income TOTAL_REVENUE and total expenditure TOTAL_EXPENDITURE variables, eliminate these outliers by applying the techniques you learned in this lesson and verify that no outliers remain after doing this.**"
   ]
  },
  {
   "cell_type": "markdown",
   "metadata": {},
   "source": [
    "### TOTAL_REVENUE"
   ]
  },
  {
   "cell_type": "code",
   "execution_count": 42,
   "metadata": {},
   "outputs": [
    {
     "data": {
      "text/plain": [
       "masked_array(data=[2678885.        , 1049591.        , 3258079.        ,\n",
       "                   ..., 9097897.34263236, 9097897.34263236,\n",
       "                   9097897.34263236],\n",
       "             mask=False,\n",
       "       fill_value=1e+20)"
      ]
     },
     "execution_count": 42,
     "metadata": {},
     "output_type": "execute_result"
    }
   ],
   "source": [
    "from scipy.stats.mstats import winsorize\n",
    "\n",
    "winsorize_data = winsorize(us_data2[\"TOTAL_REVENUE\"], (0, 0.1))\n",
    "\n",
    "winsorize_data"
   ]
  },
  {
   "cell_type": "code",
   "execution_count": null,
   "metadata": {},
   "outputs": [],
   "source": []
  },
  {
   "cell_type": "code",
   "execution_count": 43,
   "metadata": {},
   "outputs": [
    {
     "data": {
      "image/png": "[encoded data removed]",
      "text/plain": [
       "<Figure size 432x288 with 1 Axes>"
      ]
     },
     "metadata": {
      "needs_background": "light"
     },
     "output_type": "display_data"
    }
   ],
   "source": [
    "plt.boxplot(winsorize_data)\n",
    "plt.title(\"Boxplot for TOTAL_REVENUE (whis=1.5)\")\n",
    "plt.show()"
   ]
  },
  {
   "cell_type": "code",
   "execution_count": null,
   "metadata": {},
   "outputs": [],
   "source": []
  },
  {
   "cell_type": "code",
   "execution_count": 44,
   "metadata": {},
   "outputs": [
    {
     "data": {
      "image/png": "[encoded data removed]",
      "text/plain": [
       "<Figure size 432x288 with 1 Axes>"
      ]
     },
     "metadata": {
      "needs_background": "light"
     },
     "output_type": "display_data"
    }
   ],
   "source": [
    "plt.hist(winsorize_data, color=\"yellow\")\n",
    "plt.axvline(x=winsorize_data.mean()+3*winsorize_data.std(),color='red')\n",
    "plt.axvline(x=winsorize_data.mean()-3*winsorize_data.std(),color='red')\n",
    "plt.xlabel('Winsorize_TOTAL_REVENUE',color='purple')\n",
    "plt.tight_layout\n",
    "plt.show()"
   ]
  },
  {
   "cell_type": "code",
   "execution_count": null,
   "metadata": {},
   "outputs": [],
   "source": []
  },
  {
   "cell_type": "markdown",
   "metadata": {},
   "source": [
    "### TOTAL_EXPENDITURE"
   ]
  },
  {
   "cell_type": "code",
   "execution_count": 45,
   "metadata": {},
   "outputs": [
    {
     "data": {
      "text/plain": [
       "masked_array(data=[2653798.        ,  972488.        , 3401580.        ,\n",
       "                   ..., 9202368.17936429, 9202368.17936429,\n",
       "                   9202368.17936429],\n",
       "             mask=False,\n",
       "       fill_value=1e+20)"
      ]
     },
     "execution_count": 45,
     "metadata": {},
     "output_type": "execute_result"
    }
   ],
   "source": [
    "from scipy.stats.mstats import winsorize\n",
    "\n",
    "winsorize_data2 = winsorize(us_data2[\"TOTAL_EXPENDITURE\"], (0, 0.1))\n",
    "\n",
    "winsorize_data2"
   ]
  },
  {
   "cell_type": "code",
   "execution_count": null,
   "metadata": {},
   "outputs": [],
   "source": []
  },
  {
   "cell_type": "code",
   "execution_count": 46,
   "metadata": {},
   "outputs": [
    {
     "data": {
      "image/png": "[encoded data removed]",
      "text/plain": [
       "<Figure size 432x288 with 1 Axes>"
      ]
     },
     "metadata": {
      "needs_background": "light"
     },
     "output_type": "display_data"
    }
   ],
   "source": [
    "plt.boxplot(winsorize_data2)\n",
    "plt.title(\"Boxplot for TOTAL_EXPENDITURE (whis=1.5)\")\n",
    "plt.show()"
   ]
  },
  {
   "cell_type": "code",
   "execution_count": null,
   "metadata": {},
   "outputs": [],
   "source": []
  },
  {
   "cell_type": "code",
   "execution_count": 47,
   "metadata": {},
   "outputs": [
    {
     "data": {
      "image/png": "[encoded data removed]",
      "text/plain": [
       "<Figure size 432x288 with 1 Axes>"
      ]
     },
     "metadata": {
      "needs_background": "light"
     },
     "output_type": "display_data"
    }
   ],
   "source": [
    "plt.hist(winsorize_data2, color=\"brown\")\n",
    "plt.axvline(x=winsorize_data2.mean()+3*winsorize_data2.std(),color='red')\n",
    "plt.axvline(x=winsorize_data2.mean()-3*winsorize_data2.std(),color='red')\n",
    "plt.xlabel('Winsorize_TOTAL_EXPENDITURE',color='purple')\n",
    "plt.tight_layout\n",
    "plt.show()"
   ]
  },
  {
   "cell_type": "code",
   "execution_count": null,
   "metadata": {},
   "outputs": [],
   "source": []
  },
  {
   "cell_type": "markdown",
   "metadata": {},
   "source": [
    "### Log Method: TOTAL_REVENUE"
   ]
  },
  {
   "cell_type": "code",
   "execution_count": 48,
   "metadata": {},
   "outputs": [
    {
     "data": {
      "image/png": "[encoded data removed]",
      "text/plain": [
       "<Figure size 1080x360 with 2 Axes>"
      ]
     },
     "metadata": {
      "needs_background": "light"
     },
     "output_type": "display_data"
    }
   ],
   "source": [
    "plt.figure(figsize = (15,5))\n",
    "\n",
    "plt.subplot(1,2,1)\n",
    "plt.hist(us_data2[\"TOTAL_REVENUE\"], color=\"black\")\n",
    "plt.title(\"TOTAL_REVENUE\")\n",
    "\n",
    "plt.subplot(1,2,2)\n",
    "plt.hist(np.log(us_data2[\"TOTAL_REVENUE\"]), color=\"red\")\n",
    "plt.title(\"TOTAL_REVENUE (log)\")\n",
    "plt.show()"
   ]
  },
  {
   "cell_type": "code",
   "execution_count": 52,
   "metadata": {},
   "outputs": [
    {
     "data": {
      "image/png": "[encoded data removed]",
      "text/plain": [
       "<Figure size 1080x360 with 2 Axes>"
      ]
     },
     "metadata": {
      "needs_background": "light"
     },
     "output_type": "display_data"
    }
   ],
   "source": [
    "plt.figure(figsize = (15,5))\n",
    "\n",
    "plt.subplot(1,2,1)\n",
    "plt.boxplot(us_data2[\"TOTAL_REVENUE\"])\n",
    "plt.title(\"TOTAL_REVENUE\")\n",
    "\n",
    "plt.subplot(1,2,2)\n",
    "plt.boxplot(np.log(us_data2[\"TOTAL_REVENUE\"]))\n",
    "plt.title(\"TOTAL_REVENUE (log)\")\n",
    "plt.show()"
   ]
  },
  {
   "cell_type": "code",
   "execution_count": null,
   "metadata": {},
   "outputs": [],
   "source": []
  },
  {
   "cell_type": "code",
   "execution_count": null,
   "metadata": {},
   "outputs": [],
   "source": []
  },
  {
   "cell_type": "code",
   "execution_count": null,
   "metadata": {},
   "outputs": [],
   "source": []
  },
  {
   "cell_type": "markdown",
   "metadata": {},
   "source": [
    "### Log Method: TOTAL_EXPENDITURE"
   ]
  },
  {
   "cell_type": "code",
   "execution_count": 54,
   "metadata": {},
   "outputs": [
    {
     "data": {
      "image/png": "[encoded data removed]",
      "text/plain": [
       "<Figure size 1080x360 with 2 Axes>"
      ]
     },
     "metadata": {
      "needs_background": "light"
     },
     "output_type": "display_data"
    }
   ],
   "source": [
    "plt.figure(figsize = (15,5))\n",
    "\n",
    "plt.subplot(1,2,1)\n",
    "plt.hist(us_data2[\"TOTAL_EXPENDITURE\"], color=\"pink\")\n",
    "plt.title(\"TOTAL_EXPENDITURE\")\n",
    "\n",
    "plt.subplot(1,2,2)\n",
    "plt.hist(np.log(us_data2[\"TOTAL_EXPENDITURE\"]), color=\"green\")\n",
    "plt.title(\"TOTAL_EXPENDITURE (log)\")\n",
    "plt.show()"
   ]
  },
  {
   "cell_type": "code",
   "execution_count": null,
   "metadata": {},
   "outputs": [],
   "source": []
  },
  {
   "cell_type": "markdown",
   "metadata": {},
   "source": [
    "**(3) Subtract the total expenditure TOTAL_EXPENDITURE from the total income variable TOTAL_REVENUE to create a variable that can be considered as a budget deficit (without failing to contradict the outliers). Are there any outliers in this new variable? If any, clear these outliers.**"
   ]
  },
  {
   "cell_type": "code",
   "execution_count": 55,
   "metadata": {},
   "outputs": [
    {
     "data": {
      "text/html": [
       "<div>\n",
       "<style scoped>\n",
       "    .dataframe tbody tr th:only-of-type {\n",
       "        vertical-align: middle;\n",
       "    }\n",
       "\n",
       "    .dataframe tbody tr th {\n",
       "        vertical-align: top;\n",
       "    }\n",
       "\n",
       "    .dataframe thead th {\n",
       "        text-align: right;\n",
       "    }\n",
       "</style>\n",
       "<table border=\"1\" class=\"dataframe\">\n",
       "  <thead>\n",
       "    <tr style=\"text-align: right;\">\n",
       "      <th></th>\n",
       "      <th>0</th>\n",
       "    </tr>\n",
       "  </thead>\n",
       "  <tbody>\n",
       "    <tr>\n",
       "      <th>0</th>\n",
       "      <td>25087.000000</td>\n",
       "    </tr>\n",
       "    <tr>\n",
       "      <th>1</th>\n",
       "      <td>77103.000000</td>\n",
       "    </tr>\n",
       "    <tr>\n",
       "      <th>2</th>\n",
       "      <td>-143501.000000</td>\n",
       "    </tr>\n",
       "    <tr>\n",
       "      <th>3</th>\n",
       "      <td>-31063.000000</td>\n",
       "    </tr>\n",
       "    <tr>\n",
       "      <th>4</th>\n",
       "      <td>-878807.000000</td>\n",
       "    </tr>\n",
       "    <tr>\n",
       "      <th>...</th>\n",
       "      <td>...</td>\n",
       "    </tr>\n",
       "    <tr>\n",
       "      <th>1710</th>\n",
       "      <td>-104470.836732</td>\n",
       "    </tr>\n",
       "    <tr>\n",
       "      <th>1711</th>\n",
       "      <td>-104470.836732</td>\n",
       "    </tr>\n",
       "    <tr>\n",
       "      <th>1712</th>\n",
       "      <td>-104470.836732</td>\n",
       "    </tr>\n",
       "    <tr>\n",
       "      <th>1713</th>\n",
       "      <td>-104470.836732</td>\n",
       "    </tr>\n",
       "    <tr>\n",
       "      <th>1714</th>\n",
       "      <td>-104470.836732</td>\n",
       "    </tr>\n",
       "  </tbody>\n",
       "</table>\n",
       "<p>1715 rows × 1 columns</p>\n",
       "</div>"
      ],
      "text/plain": [
       "                  0\n",
       "0      25087.000000\n",
       "1      77103.000000\n",
       "2    -143501.000000\n",
       "3     -31063.000000\n",
       "4    -878807.000000\n",
       "...             ...\n",
       "1710 -104470.836732\n",
       "1711 -104470.836732\n",
       "1712 -104470.836732\n",
       "1713 -104470.836732\n",
       "1714 -104470.836732\n",
       "\n",
       "[1715 rows x 1 columns]"
      ]
     },
     "execution_count": 55,
     "metadata": {},
     "output_type": "execute_result"
    }
   ],
   "source": [
    "k=us_data2[\"TOTAL_REVENUE\"]-us_data2[\"TOTAL_EXPENDITURE\"]\n",
    "budget=pd.DataFrame(k)\n",
    "budget"
   ]
  },
  {
   "cell_type": "code",
   "execution_count": null,
   "metadata": {},
   "outputs": [],
   "source": []
  },
  {
   "cell_type": "code",
   "execution_count": 56,
   "metadata": {},
   "outputs": [
    {
     "name": "stdout",
     "output_type": "stream",
     "text": [
      "Threshold: 1.0\n",
      "Number of outliers: 87\n",
      "------\n",
      "Threshold: 1.5\n",
      "Number of outliers: 38\n",
      "------\n",
      "Threshold: 2.0\n",
      "Number of outliers: 24\n",
      "------\n",
      "Threshold: 2.5\n",
      "Number of outliers: 14\n",
      "------\n"
     ]
    }
   ],
   "source": [
    "from scipy.stats import zscore\n",
    "\n",
    "z_scores = zscore(budget[0])\n",
    "for threshold in np.arange(1,3,0.5):\n",
    "    print(\"Threshold: {}\".format(threshold))\n",
    "    print(\"Number of outliers: {}\".format(len((np.where(z_scores > threshold)[0]))))\n",
    "    print('------')"
   ]
  },
  {
   "cell_type": "code",
   "execution_count": null,
   "metadata": {},
   "outputs": [],
   "source": []
  },
  {
   "cell_type": "code",
   "execution_count": null,
   "metadata": {},
   "outputs": [],
   "source": []
  },
  {
   "cell_type": "code",
   "execution_count": 57,
   "metadata": {},
   "outputs": [
    {
     "data": {
      "image/png": "[encoded data removed]",
      "text/plain": [
       "<Figure size 432x288 with 1 Axes>"
      ]
     },
     "metadata": {
      "needs_background": "light"
     },
     "output_type": "display_data"
    }
   ],
   "source": [
    "budget.plot.box()\n",
    "plt.show()"
   ]
  },
  {
   "cell_type": "code",
   "execution_count": null,
   "metadata": {},
   "outputs": [],
   "source": []
  },
  {
   "cell_type": "code",
   "execution_count": 67,
   "metadata": {},
   "outputs": [
    {
     "data": {
      "text/plain": [
       "masked_array(data=[  25087.        ,   77103.        , -143501.        ,\n",
       "                   ..., -104470.83673193, -104470.83673193,\n",
       "                   -104470.83673193],\n",
       "             mask=False,\n",
       "       fill_value=1e+20)"
      ]
     },
     "execution_count": 67,
     "metadata": {},
     "output_type": "execute_result"
    }
   ],
   "source": [
    "from scipy.stats.mstats import winsorize\n",
    "\n",
    "winsorize_data3 = winsorize(budget[0], (0.1, 0.05))\n",
    "\n",
    "winsorize_data3"
   ]
  },
  {
   "cell_type": "code",
   "execution_count": null,
   "metadata": {},
   "outputs": [],
   "source": []
  },
  {
   "cell_type": "code",
   "execution_count": 59,
   "metadata": {},
   "outputs": [
    {
     "data": {
      "image/png": "[encoded data removed]",
      "text/plain": [
       "<Figure size 432x288 with 1 Axes>"
      ]
     },
     "metadata": {
      "needs_background": "light"
     },
     "output_type": "display_data"
    }
   ],
   "source": [
    "plt.boxplot(winsorize_data3)\n",
    "plt.title(\"Boxplot for Budget (whis=1.5)\")\n",
    "plt.show()"
   ]
  },
  {
   "cell_type": "code",
   "execution_count": null,
   "metadata": {},
   "outputs": [],
   "source": []
  },
  {
   "cell_type": "code",
   "execution_count": 68,
   "metadata": {},
   "outputs": [
    {
     "data": {
      "image/png": "[encoded data removed]",
      "text/plain": [
       "<Figure size 432x288 with 1 Axes>"
      ]
     },
     "metadata": {
      "needs_background": "light"
     },
     "output_type": "display_data"
    }
   ],
   "source": [
    "plt.hist(winsorize_data3, color=\"yellow\")\n",
    "plt.axvline(x=winsorize_data3.mean()+3*winsorize_data3.std(),color='red')\n",
    "plt.axvline(x=winsorize_data3.mean()-3*winsorize_data3.std(),color='red')\n",
    "plt.xlabel('Winsorize_Budget',color='purple')\n",
    "plt.tight_layout\n",
    "plt.show()"
   ]
  },
  {
   "cell_type": "code",
   "execution_count": null,
   "metadata": {},
   "outputs": [],
   "source": []
  },
  {
   "cell_type": "code",
   "execution_count": null,
   "metadata": {},
   "outputs": [],
   "source": []
  },
  {
   "cell_type": "markdown",
   "metadata": {},
   "source": [
    "**(4) Again create a variable that can be considered as a budget deficit by subtracting the total income TOTAL_REVENUE variable from the total expenditure TOTAL_EXPENDITURE. But this time, after clearing the outliers, do this. Are there any outliers in this new variable? It is useful to clean them, if any.**"
   ]
  },
  {
   "cell_type": "code",
   "execution_count": 61,
   "metadata": {},
   "outputs": [
    {
     "data": {
      "text/html": [
       "<div>\n",
       "<style scoped>\n",
       "    .dataframe tbody tr th:only-of-type {\n",
       "        vertical-align: middle;\n",
       "    }\n",
       "\n",
       "    .dataframe tbody tr th {\n",
       "        vertical-align: top;\n",
       "    }\n",
       "\n",
       "    .dataframe thead th {\n",
       "        text-align: right;\n",
       "    }\n",
       "</style>\n",
       "<table border=\"1\" class=\"dataframe\">\n",
       "  <thead>\n",
       "    <tr style=\"text-align: right;\">\n",
       "      <th></th>\n",
       "      <th>0</th>\n",
       "    </tr>\n",
       "  </thead>\n",
       "  <tbody>\n",
       "    <tr>\n",
       "      <th>0</th>\n",
       "      <td>25087.000000</td>\n",
       "    </tr>\n",
       "    <tr>\n",
       "      <th>1</th>\n",
       "      <td>77103.000000</td>\n",
       "    </tr>\n",
       "    <tr>\n",
       "      <th>2</th>\n",
       "      <td>-143501.000000</td>\n",
       "    </tr>\n",
       "    <tr>\n",
       "      <th>3</th>\n",
       "      <td>-31063.000000</td>\n",
       "    </tr>\n",
       "    <tr>\n",
       "      <th>4</th>\n",
       "      <td>153268.000000</td>\n",
       "    </tr>\n",
       "    <tr>\n",
       "      <th>...</th>\n",
       "      <td>...</td>\n",
       "    </tr>\n",
       "    <tr>\n",
       "      <th>1710</th>\n",
       "      <td>-104470.836732</td>\n",
       "    </tr>\n",
       "    <tr>\n",
       "      <th>1711</th>\n",
       "      <td>-104470.836732</td>\n",
       "    </tr>\n",
       "    <tr>\n",
       "      <th>1712</th>\n",
       "      <td>-104470.836732</td>\n",
       "    </tr>\n",
       "    <tr>\n",
       "      <th>1713</th>\n",
       "      <td>-104470.836732</td>\n",
       "    </tr>\n",
       "    <tr>\n",
       "      <th>1714</th>\n",
       "      <td>-104470.836732</td>\n",
       "    </tr>\n",
       "  </tbody>\n",
       "</table>\n",
       "<p>1715 rows × 1 columns</p>\n",
       "</div>"
      ],
      "text/plain": [
       "                  0\n",
       "0      25087.000000\n",
       "1      77103.000000\n",
       "2    -143501.000000\n",
       "3     -31063.000000\n",
       "4     153268.000000\n",
       "...             ...\n",
       "1710 -104470.836732\n",
       "1711 -104470.836732\n",
       "1712 -104470.836732\n",
       "1713 -104470.836732\n",
       "1714 -104470.836732\n",
       "\n",
       "[1715 rows x 1 columns]"
      ]
     },
     "execution_count": 61,
     "metadata": {},
     "output_type": "execute_result"
    }
   ],
   "source": [
    "w=winsorize_data- winsorize_data2\n",
    "win_data=pd.DataFrame(w)\n",
    "win_data"
   ]
  },
  {
   "cell_type": "code",
   "execution_count": null,
   "metadata": {},
   "outputs": [],
   "source": []
  },
  {
   "cell_type": "code",
   "execution_count": 62,
   "metadata": {},
   "outputs": [
    {
     "data": {
      "image/png": "[encoded data removed]",
      "text/plain": [
       "<Figure size 432x288 with 1 Axes>"
      ]
     },
     "metadata": {
      "needs_background": "light"
     },
     "output_type": "display_data"
    }
   ],
   "source": [
    "win_data.plot.box()\n",
    "plt.show()"
   ]
  },
  {
   "cell_type": "code",
   "execution_count": null,
   "metadata": {},
   "outputs": [],
   "source": []
  },
  {
   "cell_type": "code",
   "execution_count": 63,
   "metadata": {},
   "outputs": [
    {
     "name": "stdout",
     "output_type": "stream",
     "text": [
      "Threshold: 1.0\n",
      "Number of outliers: 114\n",
      "------\n",
      "Threshold: 1.5\n",
      "Number of outliers: 73\n",
      "------\n",
      "Threshold: 2.0\n",
      "Number of outliers: 44\n",
      "------\n",
      "Threshold: 2.5\n",
      "Number of outliers: 29\n",
      "------\n"
     ]
    }
   ],
   "source": [
    "from scipy.stats import zscore\n",
    "\n",
    "z_scores = zscore(win_data[0])\n",
    "for threshold in np.arange(1,3,0.5):\n",
    "    print(\"Threshold: {}\".format(threshold))\n",
    "    print(\"Number of outliers: {}\".format(len((np.where(z_scores > threshold)[0]))))\n",
    "    print('------')"
   ]
  },
  {
   "cell_type": "code",
   "execution_count": null,
   "metadata": {},
   "outputs": [],
   "source": []
  },
  {
   "cell_type": "code",
   "execution_count": null,
   "metadata": {},
   "outputs": [],
   "source": []
  },
  {
   "cell_type": "code",
   "execution_count": 64,
   "metadata": {},
   "outputs": [
    {
     "data": {
      "text/plain": [
       "masked_array(data=[  25087.        ,   77103.        , -143501.        ,\n",
       "                   ..., -104470.83673193, -104470.83673193,\n",
       "                   -104470.83673193],\n",
       "             mask=False,\n",
       "       fill_value=1e+20)"
      ]
     },
     "execution_count": 64,
     "metadata": {},
     "output_type": "execute_result"
    }
   ],
   "source": [
    "from scipy.stats.mstats import winsorize\n",
    "\n",
    "winsorize_data4 = winsorize(win_data[0], (0.1, 0.05))\n",
    "\n",
    "winsorize_data4"
   ]
  },
  {
   "cell_type": "code",
   "execution_count": null,
   "metadata": {},
   "outputs": [],
   "source": []
  },
  {
   "cell_type": "code",
   "execution_count": 65,
   "metadata": {},
   "outputs": [
    {
     "data": {
      "image/png": "[encoded data removed]",
      "text/plain": [
       "<Figure size 432x288 with 1 Axes>"
      ]
     },
     "metadata": {
      "needs_background": "light"
     },
     "output_type": "display_data"
    }
   ],
   "source": [
    "plt.boxplot(winsorize_data4)\n",
    "plt.title(\"Boxplot for win_data (whis=1.5)\")\n",
    "plt.show()"
   ]
  },
  {
   "cell_type": "code",
   "execution_count": null,
   "metadata": {},
   "outputs": [],
   "source": []
  },
  {
   "cell_type": "code",
   "execution_count": 66,
   "metadata": {},
   "outputs": [
    {
     "data": {
      "image/png": "[encoded data removed]",
      "text/plain": [
       "<Figure size 432x288 with 1 Axes>"
      ]
     },
     "metadata": {
      "needs_background": "light"
     },
     "output_type": "display_data"
    }
   ],
   "source": [
    "plt.hist(winsorize_data4, color=\"darkblue\")\n",
    "plt.axvline(x=winsorize_data4.mean()+3*winsorize_data4.std(),color='red')\n",
    "plt.axvline(x=winsorize_data4.mean()-3*winsorize_data4.std(),color='red')\n",
    "plt.xlabel('Winsorize_win_data',color='purple')\n",
    "plt.tight_layout\n",
    "plt.show()"
   ]
  },
  {
   "cell_type": "code",
   "execution_count": null,
   "metadata": {},
   "outputs": [],
   "source": []
  },
  {
   "cell_type": "code",
   "execution_count": null,
   "metadata": {},
   "outputs": [],
   "source": []
  },
  {
   "cell_type": "markdown",
   "metadata": {},
   "source": [
    "**(5) Now, we have two different budget variables that we have created in the third and fourth questions. Do you see the difference between these two?**"
   ]
  },
  {
   "cell_type": "markdown",
   "metadata": {},
   "source": [
    "There are differences in box plots"
   ]
  },
  {
   "cell_type": "code",
   "execution_count": null,
   "metadata": {},
   "outputs": [],
   "source": []
  },
  {
   "cell_type": "code",
   "execution_count": null,
   "metadata": {},
   "outputs": [],
   "source": []
  },
  {
   "cell_type": "markdown",
   "metadata": {},
   "source": [
    "**(6) If the budget deficit was a very important variable for us, which method would be better to clear out contrary values. Is it the method you applied in the third question or the method in the fourth question?**"
   ]
  },
  {
   "cell_type": "markdown",
   "metadata": {},
   "source": [
    "for winsorize, fourth question method is better because there is no outliers"
   ]
  },
  {
   "cell_type": "code",
   "execution_count": null,
   "metadata": {},
   "outputs": [],
   "source": []
  }
 ],
 "metadata": {
  "kernelspec": {
   "display_name": "Python 3",
   "language": "python",
   "name": "python3"
  },
  "language_info": {
   "codemirror_mode": {
    "name": "ipython",
    "version": 3
   },
   "file_extension": ".py",
   "mimetype": "text/x-python",
   "name": "python",
   "nbconvert_exporter": "python",
   "pygments_lexer": "ipython3",
   "version": "3.8.5"
  }
 },
 "nbformat": 4,
 "nbformat_minor": 4
}
