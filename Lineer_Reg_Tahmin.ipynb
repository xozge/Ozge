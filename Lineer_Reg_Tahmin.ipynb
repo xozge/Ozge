{
 "cells": [
  {
   "cell_type": "markdown",
   "metadata": {},
   "source": [
    "# LİNEER REGRESYON İLE TAHMİN"
   ]
  },
  {
   "cell_type": "markdown",
   "metadata": {},
   "source": [
    "Bu alıştırmada, modelinizi kullanarak konut fiyatlarını tahmin edeceksiniz."
   ]
  },
  {
   "cell_type": "code",
   "execution_count": 1,
   "metadata": {},
   "outputs": [],
   "source": [
    "import matplotlib.pyplot as plt\n",
    "import numpy as np\n",
    "import pandas as pd\n",
    "from sklearn.linear_model import LinearRegression\n",
    "from sklearn.model_selection import train_test_split\n",
    "from sklearn.metrics import mean_absolute_error\n",
    "import statsmodels.api as sm\n",
    "from statsmodels.tools.eval_measures import mse, rmse\n",
    "\n",
    "%matplotlib inline\n",
    "pd.options.display.float_format = '{:.3f}'.format\n",
    "\n",
    "import warnings\n",
    "warnings.filterwarnings(action=\"ignore\")"
   ]
  },
  {
   "cell_type": "code",
   "execution_count": 2,
   "metadata": {},
   "outputs": [
    {
     "data": {
      "text/html": [
       "<div>\n",
       "<style scoped>\n",
       "    .dataframe tbody tr th:only-of-type {\n",
       "        vertical-align: middle;\n",
       "    }\n",
       "\n",
       "    .dataframe tbody tr th {\n",
       "        vertical-align: top;\n",
       "    }\n",
       "\n",
       "    .dataframe thead th {\n",
       "        text-align: right;\n",
       "    }\n",
       "</style>\n",
       "<table border=\"1\" class=\"dataframe\">\n",
       "  <thead>\n",
       "    <tr style=\"text-align: right;\">\n",
       "      <th></th>\n",
       "      <th>Id</th>\n",
       "      <th>MSSubClass</th>\n",
       "      <th>MSZoning</th>\n",
       "      <th>LotFrontage</th>\n",
       "      <th>LotArea</th>\n",
       "      <th>Street</th>\n",
       "      <th>Alley</th>\n",
       "      <th>LotShape</th>\n",
       "      <th>LandContour</th>\n",
       "      <th>Utilities</th>\n",
       "      <th>...</th>\n",
       "      <th>PoolArea</th>\n",
       "      <th>PoolQC</th>\n",
       "      <th>Fence</th>\n",
       "      <th>MiscFeature</th>\n",
       "      <th>MiscVal</th>\n",
       "      <th>MoSold</th>\n",
       "      <th>YrSold</th>\n",
       "      <th>SaleType</th>\n",
       "      <th>SaleCondition</th>\n",
       "      <th>SalePrice</th>\n",
       "    </tr>\n",
       "  </thead>\n",
       "  <tbody>\n",
       "    <tr>\n",
       "      <th>0</th>\n",
       "      <td>1</td>\n",
       "      <td>60</td>\n",
       "      <td>RL</td>\n",
       "      <td>65.000</td>\n",
       "      <td>8450</td>\n",
       "      <td>Pave</td>\n",
       "      <td>NaN</td>\n",
       "      <td>Reg</td>\n",
       "      <td>Lvl</td>\n",
       "      <td>AllPub</td>\n",
       "      <td>...</td>\n",
       "      <td>0</td>\n",
       "      <td>NaN</td>\n",
       "      <td>NaN</td>\n",
       "      <td>NaN</td>\n",
       "      <td>0</td>\n",
       "      <td>2</td>\n",
       "      <td>2008</td>\n",
       "      <td>WD</td>\n",
       "      <td>Normal</td>\n",
       "      <td>208500</td>\n",
       "    </tr>\n",
       "    <tr>\n",
       "      <th>1</th>\n",
       "      <td>2</td>\n",
       "      <td>20</td>\n",
       "      <td>RL</td>\n",
       "      <td>80.000</td>\n",
       "      <td>9600</td>\n",
       "      <td>Pave</td>\n",
       "      <td>NaN</td>\n",
       "      <td>Reg</td>\n",
       "      <td>Lvl</td>\n",
       "      <td>AllPub</td>\n",
       "      <td>...</td>\n",
       "      <td>0</td>\n",
       "      <td>NaN</td>\n",
       "      <td>NaN</td>\n",
       "      <td>NaN</td>\n",
       "      <td>0</td>\n",
       "      <td>5</td>\n",
       "      <td>2007</td>\n",
       "      <td>WD</td>\n",
       "      <td>Normal</td>\n",
       "      <td>181500</td>\n",
       "    </tr>\n",
       "    <tr>\n",
       "      <th>2</th>\n",
       "      <td>3</td>\n",
       "      <td>60</td>\n",
       "      <td>RL</td>\n",
       "      <td>68.000</td>\n",
       "      <td>11250</td>\n",
       "      <td>Pave</td>\n",
       "      <td>NaN</td>\n",
       "      <td>IR1</td>\n",
       "      <td>Lvl</td>\n",
       "      <td>AllPub</td>\n",
       "      <td>...</td>\n",
       "      <td>0</td>\n",
       "      <td>NaN</td>\n",
       "      <td>NaN</td>\n",
       "      <td>NaN</td>\n",
       "      <td>0</td>\n",
       "      <td>9</td>\n",
       "      <td>2008</td>\n",
       "      <td>WD</td>\n",
       "      <td>Normal</td>\n",
       "      <td>223500</td>\n",
       "    </tr>\n",
       "    <tr>\n",
       "      <th>3</th>\n",
       "      <td>4</td>\n",
       "      <td>70</td>\n",
       "      <td>RL</td>\n",
       "      <td>60.000</td>\n",
       "      <td>9550</td>\n",
       "      <td>Pave</td>\n",
       "      <td>NaN</td>\n",
       "      <td>IR1</td>\n",
       "      <td>Lvl</td>\n",
       "      <td>AllPub</td>\n",
       "      <td>...</td>\n",
       "      <td>0</td>\n",
       "      <td>NaN</td>\n",
       "      <td>NaN</td>\n",
       "      <td>NaN</td>\n",
       "      <td>0</td>\n",
       "      <td>2</td>\n",
       "      <td>2006</td>\n",
       "      <td>WD</td>\n",
       "      <td>Abnorml</td>\n",
       "      <td>140000</td>\n",
       "    </tr>\n",
       "    <tr>\n",
       "      <th>4</th>\n",
       "      <td>5</td>\n",
       "      <td>60</td>\n",
       "      <td>RL</td>\n",
       "      <td>84.000</td>\n",
       "      <td>14260</td>\n",
       "      <td>Pave</td>\n",
       "      <td>NaN</td>\n",
       "      <td>IR1</td>\n",
       "      <td>Lvl</td>\n",
       "      <td>AllPub</td>\n",
       "      <td>...</td>\n",
       "      <td>0</td>\n",
       "      <td>NaN</td>\n",
       "      <td>NaN</td>\n",
       "      <td>NaN</td>\n",
       "      <td>0</td>\n",
       "      <td>12</td>\n",
       "      <td>2008</td>\n",
       "      <td>WD</td>\n",
       "      <td>Normal</td>\n",
       "      <td>250000</td>\n",
       "    </tr>\n",
       "  </tbody>\n",
       "</table>\n",
       "<p>5 rows × 81 columns</p>\n",
       "</div>"
      ],
      "text/plain": [
       "   Id  MSSubClass MSZoning  LotFrontage  LotArea Street Alley LotShape  \\\n",
       "0   1          60       RL       65.000     8450   Pave   NaN      Reg   \n",
       "1   2          20       RL       80.000     9600   Pave   NaN      Reg   \n",
       "2   3          60       RL       68.000    11250   Pave   NaN      IR1   \n",
       "3   4          70       RL       60.000     9550   Pave   NaN      IR1   \n",
       "4   5          60       RL       84.000    14260   Pave   NaN      IR1   \n",
       "\n",
       "  LandContour Utilities  ... PoolArea PoolQC Fence MiscFeature MiscVal MoSold  \\\n",
       "0         Lvl    AllPub  ...        0    NaN   NaN         NaN       0      2   \n",
       "1         Lvl    AllPub  ...        0    NaN   NaN         NaN       0      5   \n",
       "2         Lvl    AllPub  ...        0    NaN   NaN         NaN       0      9   \n",
       "3         Lvl    AllPub  ...        0    NaN   NaN         NaN       0      2   \n",
       "4         Lvl    AllPub  ...        0    NaN   NaN         NaN       0     12   \n",
       "\n",
       "  YrSold  SaleType  SaleCondition  SalePrice  \n",
       "0   2008        WD         Normal     208500  \n",
       "1   2007        WD         Normal     181500  \n",
       "2   2008        WD         Normal     223500  \n",
       "3   2006        WD        Abnorml     140000  \n",
       "4   2008        WD         Normal     250000  \n",
       "\n",
       "[5 rows x 81 columns]"
      ]
     },
     "execution_count": 2,
     "metadata": {},
     "output_type": "execute_result"
    }
   ],
   "source": [
    "import pandas as pd\n",
    "house_prices_df = pd.read_csv(\"https://djl-lms-assets.s3.eu-central-1.amazonaws.com/datasets/house_prices.csv\", sep = \";\")\n",
    "house_prices_df.head()"
   ]
  },
  {
   "cell_type": "code",
   "execution_count": null,
   "metadata": {},
   "outputs": [],
   "source": []
  },
  {
   "cell_type": "markdown",
   "metadata": {},
   "source": [
    "**1. Verilerinizi eğitim ve test kümelerine ayırın.**"
   ]
  },
  {
   "cell_type": "code",
   "execution_count": 3,
   "metadata": {},
   "outputs": [],
   "source": [
    "Y_hp = house_prices_df['SalePrice']\n",
    "X_hp= house_prices_df[['OverallQual','YearBuilt', '1stFlrSF', 'GrLivArea']]"
   ]
  },
  {
   "cell_type": "code",
   "execution_count": null,
   "metadata": {},
   "outputs": [],
   "source": []
  },
  {
   "cell_type": "code",
   "execution_count": 4,
   "metadata": {},
   "outputs": [
    {
     "name": "stdout",
     "output_type": "stream",
     "text": [
      "Eğitim kümesindeki gözlem sayısı : 1168\n",
      "Test kümesindeki gözlem sayısı   : 292\n"
     ]
    }
   ],
   "source": [
    "X_train, X_test, y_train, y_test = train_test_split(X_hp, Y_hp, test_size = 0.2, random_state = 465)\n",
    "\n",
    "print(\"Eğitim kümesindeki gözlem sayısı : {}\".format(X_train.shape[0]))\n",
    "print(\"Test kümesindeki gözlem sayısı   : {}\".format(X_test.shape[0]))"
   ]
  },
  {
   "cell_type": "code",
   "execution_count": null,
   "metadata": {},
   "outputs": [],
   "source": []
  },
  {
   "cell_type": "code",
   "execution_count": null,
   "metadata": {},
   "outputs": [],
   "source": []
  },
  {
   "cell_type": "markdown",
   "metadata": {},
   "source": [
    "**2. Modelinizi eğitim kümesinden önceki derste olduğu gibi oluşturun. Modelinizin uygunluğunu değerlendirin.**"
   ]
  },
  {
   "cell_type": "code",
   "execution_count": 5,
   "metadata": {},
   "outputs": [
    {
     "data": {
      "text/html": [
       "<table class=\"simpletable\">\n",
       "<caption>OLS Regression Results</caption>\n",
       "<tr>\n",
       "  <th>Dep. Variable:</th>        <td>SalePrice</td>    <th>  R-squared:         </th> <td>   0.754</td> \n",
       "</tr>\n",
       "<tr>\n",
       "  <th>Model:</th>                   <td>OLS</td>       <th>  Adj. R-squared:    </th> <td>   0.753</td> \n",
       "</tr>\n",
       "<tr>\n",
       "  <th>Method:</th>             <td>Least Squares</td>  <th>  F-statistic:       </th> <td>   891.6</td> \n",
       "</tr>\n",
       "<tr>\n",
       "  <th>Date:</th>             <td>Sun, 02 May 2021</td> <th>  Prob (F-statistic):</th>  <td>  0.00</td>  \n",
       "</tr>\n",
       "<tr>\n",
       "  <th>Time:</th>                 <td>13:11:42</td>     <th>  Log-Likelihood:    </th> <td> -13994.</td> \n",
       "</tr>\n",
       "<tr>\n",
       "  <th>No. Observations:</th>      <td>  1168</td>      <th>  AIC:               </th> <td>2.800e+04</td>\n",
       "</tr>\n",
       "<tr>\n",
       "  <th>Df Residuals:</th>          <td>  1163</td>      <th>  BIC:               </th> <td>2.802e+04</td>\n",
       "</tr>\n",
       "<tr>\n",
       "  <th>Df Model:</th>              <td>     4</td>      <th>                     </th>     <td> </td>    \n",
       "</tr>\n",
       "<tr>\n",
       "  <th>Covariance Type:</th>      <td>nonrobust</td>    <th>                     </th>     <td> </td>    \n",
       "</tr>\n",
       "</table>\n",
       "<table class=\"simpletable\">\n",
       "<tr>\n",
       "       <td></td>          <th>coef</th>     <th>std err</th>      <th>t</th>      <th>P>|t|</th>  <th>[0.025</th>    <th>0.975]</th>  \n",
       "</tr>\n",
       "<tr>\n",
       "  <th>const</th>       <td>-9.776e+05</td> <td>  8.9e+04</td> <td>  -10.983</td> <td> 0.000</td> <td>-1.15e+06</td> <td>-8.03e+05</td>\n",
       "</tr>\n",
       "<tr>\n",
       "  <th>OverallQual</th> <td> 2.391e+04</td> <td> 1272.252</td> <td>   18.793</td> <td> 0.000</td> <td> 2.14e+04</td> <td> 2.64e+04</td>\n",
       "</tr>\n",
       "<tr>\n",
       "  <th>YearBuilt</th>   <td>  456.7463</td> <td>   46.962</td> <td>    9.726</td> <td> 0.000</td> <td>  364.607</td> <td>  548.886</td>\n",
       "</tr>\n",
       "<tr>\n",
       "  <th>1stFlrSF</th>    <td>   30.2323</td> <td>    3.673</td> <td>    8.230</td> <td> 0.000</td> <td>   23.025</td> <td>   37.439</td>\n",
       "</tr>\n",
       "<tr>\n",
       "  <th>GrLivArea</th>   <td>   50.4327</td> <td>    3.019</td> <td>   16.704</td> <td> 0.000</td> <td>   44.509</td> <td>   56.356</td>\n",
       "</tr>\n",
       "</table>\n",
       "<table class=\"simpletable\">\n",
       "<tr>\n",
       "  <th>Omnibus:</th>       <td>384.203</td> <th>  Durbin-Watson:     </th> <td>   1.943</td> \n",
       "</tr>\n",
       "<tr>\n",
       "  <th>Prob(Omnibus):</th> <td> 0.000</td>  <th>  Jarque-Bera (JB):  </th> <td>30111.718</td>\n",
       "</tr>\n",
       "<tr>\n",
       "  <th>Skew:</th>          <td>-0.570</td>  <th>  Prob(JB):          </th> <td>    0.00</td> \n",
       "</tr>\n",
       "<tr>\n",
       "  <th>Kurtosis:</th>      <td>27.848</td>  <th>  Cond. No.          </th> <td>2.18e+05</td> \n",
       "</tr>\n",
       "</table><br/><br/>Notes:<br/>[1] Standard Errors assume that the covariance matrix of the errors is correctly specified.<br/>[2] The condition number is large, 2.18e+05. This might indicate that there are<br/>strong multicollinearity or other numerical problems."
      ],
      "text/plain": [
       "<class 'statsmodels.iolib.summary.Summary'>\n",
       "\"\"\"\n",
       "                            OLS Regression Results                            \n",
       "==============================================================================\n",
       "Dep. Variable:              SalePrice   R-squared:                       0.754\n",
       "Model:                            OLS   Adj. R-squared:                  0.753\n",
       "Method:                 Least Squares   F-statistic:                     891.6\n",
       "Date:                Sun, 02 May 2021   Prob (F-statistic):               0.00\n",
       "Time:                        13:11:42   Log-Likelihood:                -13994.\n",
       "No. Observations:                1168   AIC:                         2.800e+04\n",
       "Df Residuals:                    1163   BIC:                         2.802e+04\n",
       "Df Model:                           4                                         \n",
       "Covariance Type:            nonrobust                                         \n",
       "===============================================================================\n",
       "                  coef    std err          t      P>|t|      [0.025      0.975]\n",
       "-------------------------------------------------------------------------------\n",
       "const       -9.776e+05    8.9e+04    -10.983      0.000   -1.15e+06   -8.03e+05\n",
       "OverallQual  2.391e+04   1272.252     18.793      0.000    2.14e+04    2.64e+04\n",
       "YearBuilt     456.7463     46.962      9.726      0.000     364.607     548.886\n",
       "1stFlrSF       30.2323      3.673      8.230      0.000      23.025      37.439\n",
       "GrLivArea      50.4327      3.019     16.704      0.000      44.509      56.356\n",
       "==============================================================================\n",
       "Omnibus:                      384.203   Durbin-Watson:                   1.943\n",
       "Prob(Omnibus):                  0.000   Jarque-Bera (JB):            30111.718\n",
       "Skew:                          -0.570   Prob(JB):                         0.00\n",
       "Kurtosis:                      27.848   Cond. No.                     2.18e+05\n",
       "==============================================================================\n",
       "\n",
       "Notes:\n",
       "[1] Standard Errors assume that the covariance matrix of the errors is correctly specified.\n",
       "[2] The condition number is large, 2.18e+05. This might indicate that there are\n",
       "strong multicollinearity or other numerical problems.\n",
       "\"\"\""
      ]
     },
     "execution_count": 5,
     "metadata": {},
     "output_type": "execute_result"
    }
   ],
   "source": [
    "X_train1 = sm.add_constant(X_train)\n",
    "\n",
    "sonuclar = sm.OLS(y_train, X_train1).fit()\n",
    "\n",
    "sonuclar.summary()"
   ]
  },
  {
   "cell_type": "code",
   "execution_count": null,
   "metadata": {},
   "outputs": [],
   "source": []
  },
  {
   "cell_type": "markdown",
   "metadata": {},
   "source": [
    "R^2 ve adj R^2 değerleri %70 in üsütndedir. iyi bir model sayılır.\n",
    "\n",
    "p değerleri bütün değişkenler için 0 a çok  yakınıdr. İstatistiksel olarak anlamlıdır."
   ]
  },
  {
   "cell_type": "code",
   "execution_count": null,
   "metadata": {},
   "outputs": [],
   "source": []
  },
  {
   "cell_type": "markdown",
   "metadata": {},
   "source": [
    "**3. Test kümesindeki ev fiyatlarını tahmin edin ve bu derste belirttiğimiz metrikleri kullanarak modelinizin performansını değerlendirin.**"
   ]
  },
  {
   "cell_type": "code",
   "execution_count": 6,
   "metadata": {},
   "outputs": [
    {
     "data": {
      "text/plain": [
       "135    225247.182\n",
       "1100   -17487.201\n",
       "833    185206.357\n",
       "471    227167.566\n",
       "1123    87547.704\n",
       "          ...    \n",
       "1385    78179.199\n",
       "823    155589.877\n",
       "466    192577.832\n",
       "869    230473.851\n",
       "46     258913.800\n",
       "Length: 292, dtype: float64"
      ]
     },
     "execution_count": 6,
     "metadata": {},
     "output_type": "execute_result"
    }
   ],
   "source": [
    "X_test = sm.add_constant(X_test)\n",
    "\n",
    "y_preds = sonuclar.predict(X_test)\n",
    "\n",
    "y_preds"
   ]
  },
  {
   "cell_type": "code",
   "execution_count": null,
   "metadata": {},
   "outputs": [],
   "source": []
  },
  {
   "cell_type": "code",
   "execution_count": 7,
   "metadata": {},
   "outputs": [
    {
     "data": {
      "image/png": "[encoded data removed]",
      "text/plain": [
       "<Figure size 600x400 with 1 Axes>"
      ]
     },
     "metadata": {
      "needs_background": "light"
     },
     "output_type": "display_data"
    },
    {
     "name": "stdout",
     "output_type": "stream",
     "text": [
      "Ortalama Mutlak Hata (MAE)        : 27839.697690699148\n",
      "Ortalama Kare Hata (MSE)          : 1726136114.207929\n",
      "Kök Ortalama Kare Hata (RMSE)     : 41546.79427113395\n",
      "Ortalama Mutlak Yüzde Hata (MAPE) : 16.275065460332495\n"
     ]
    }
   ],
   "source": [
    "baslik_font = {'family': 'arial','color':  'darkred','weight': 'bold','size': 15 }\n",
    "eksen_font = {'family': 'arial','color':  'darkblue','weight': 'bold','size': 10 }\n",
    "plt.figure(dpi = 100)\n",
    "\n",
    "plt.scatter(y_test, y_preds)\n",
    "plt.plot(y_test, y_test, color=\"red\")\n",
    "plt.xlabel(\"Gerçek Değerler\", fontdict=eksen_font)\n",
    "plt.ylabel(\"Tahmin edilen Değerler\", fontdict=eksen_font)\n",
    "plt.title(\"Satış Fiyatı: Gerçek ve tahmin edilen değerler\", fontdict=baslik_font)\n",
    "plt.show()\n",
    "\n",
    "print(\"Ortalama Mutlak Hata (MAE)        : {}\".format(mean_absolute_error(y_test, y_preds)))\n",
    "print(\"Ortalama Kare Hata (MSE)          : {}\".format(mse(y_test, y_preds)))\n",
    "print(\"Kök Ortalama Kare Hata (RMSE)     : {}\".format(rmse(y_test, y_preds)))\n",
    "print(\"Ortalama Mutlak Yüzde Hata (MAPE) : {}\".format(np.mean(np.abs((y_test - y_preds) / y_test)) * 100))"
   ]
  },
  {
   "cell_type": "code",
   "execution_count": null,
   "metadata": {},
   "outputs": [],
   "source": []
  },
  {
   "cell_type": "markdown",
   "metadata": {},
   "source": [
    "Model, hedef değişkenin daha düşük değerlerini yüksek değerlerden daha iyi tahmin etmiştir.\n",
    "\n",
    "Dört ölçümün tümü için daha düşük değerler istenir. Değer ne kadar düşükse, modelin performansı o kadar iyi olur."
   ]
  },
  {
   "cell_type": "code",
   "execution_count": null,
   "metadata": {},
   "outputs": [],
   "source": []
  },
  {
   "cell_type": "markdown",
   "metadata": {},
   "source": [
    "**4. Modelinizin performansı tatmin edici mi? Açıklayın.**"
   ]
  },
  {
   "cell_type": "markdown",
   "metadata": {},
   "source": [
    "Hedef değişkenin düşük değerleri için tatmin edici ama daha büyük değerler için yetersizdir.\n",
    "\n"
   ]
  },
  {
   "cell_type": "code",
   "execution_count": null,
   "metadata": {},
   "outputs": [],
   "source": []
  },
  {
   "cell_type": "code",
   "execution_count": null,
   "metadata": {},
   "outputs": [],
   "source": []
  },
  {
   "cell_type": "markdown",
   "metadata": {},
   "source": [
    "**5. Bazı değişkenleri ekleyerek veya çıkararak modelinizi tahmin performansı açısından geliştirmeye çalışın.**"
   ]
  },
  {
   "cell_type": "code",
   "execution_count": 8,
   "metadata": {},
   "outputs": [],
   "source": [
    "house_prices_df['Over_Gr'] = house_prices_df[\"OverallQual\"] * house_prices_df[\"GrLivArea\"]"
   ]
  },
  {
   "cell_type": "code",
   "execution_count": 9,
   "metadata": {},
   "outputs": [],
   "source": [
    "X_hp2= house_prices_df[['OverallQual','YearBuilt', '1stFlrSF', 'GrLivArea', 'Over_Gr']]"
   ]
  },
  {
   "cell_type": "code",
   "execution_count": 10,
   "metadata": {},
   "outputs": [
    {
     "data": {
      "text/html": [
       "<table class=\"simpletable\">\n",
       "<caption>OLS Regression Results</caption>\n",
       "<tr>\n",
       "  <th>Dep. Variable:</th>        <td>SalePrice</td>    <th>  R-squared:         </th> <td>   0.773</td> \n",
       "</tr>\n",
       "<tr>\n",
       "  <th>Model:</th>                   <td>OLS</td>       <th>  Adj. R-squared:    </th> <td>   0.772</td> \n",
       "</tr>\n",
       "<tr>\n",
       "  <th>Method:</th>             <td>Least Squares</td>  <th>  F-statistic:       </th> <td>   990.5</td> \n",
       "</tr>\n",
       "<tr>\n",
       "  <th>Date:</th>             <td>Sun, 02 May 2021</td> <th>  Prob (F-statistic):</th>  <td>  0.00</td>  \n",
       "</tr>\n",
       "<tr>\n",
       "  <th>Time:</th>                 <td>13:15:29</td>     <th>  Log-Likelihood:    </th> <td> -17461.</td> \n",
       "</tr>\n",
       "<tr>\n",
       "  <th>No. Observations:</th>      <td>  1460</td>      <th>  AIC:               </th> <td>3.493e+04</td>\n",
       "</tr>\n",
       "<tr>\n",
       "  <th>Df Residuals:</th>          <td>  1454</td>      <th>  BIC:               </th> <td>3.497e+04</td>\n",
       "</tr>\n",
       "<tr>\n",
       "  <th>Df Model:</th>              <td>     5</td>      <th>                     </th>     <td> </td>    \n",
       "</tr>\n",
       "<tr>\n",
       "  <th>Covariance Type:</th>      <td>nonrobust</td>    <th>                     </th>     <td> </td>    \n",
       "</tr>\n",
       "</table>\n",
       "<table class=\"simpletable\">\n",
       "<tr>\n",
       "       <td></td>          <th>coef</th>     <th>std err</th>      <th>t</th>      <th>P>|t|</th>  <th>[0.025</th>    <th>0.975]</th>  \n",
       "</tr>\n",
       "<tr>\n",
       "  <th>const</th>       <td>-8.779e+05</td> <td> 7.88e+04</td> <td>  -11.143</td> <td> 0.000</td> <td>-1.03e+06</td> <td>-7.23e+05</td>\n",
       "</tr>\n",
       "<tr>\n",
       "  <th>OverallQual</th> <td> 7731.3983</td> <td> 1910.867</td> <td>    4.046</td> <td> 0.000</td> <td> 3983.048</td> <td> 1.15e+04</td>\n",
       "</tr>\n",
       "<tr>\n",
       "  <th>YearBuilt</th>   <td>  458.3942</td> <td>   41.269</td> <td>   11.108</td> <td> 0.000</td> <td>  377.441</td> <td>  539.347</td>\n",
       "</tr>\n",
       "<tr>\n",
       "  <th>1stFlrSF</th>    <td>   32.4213</td> <td>    3.220</td> <td>   10.068</td> <td> 0.000</td> <td>   26.105</td> <td>   38.738</td>\n",
       "</tr>\n",
       "<tr>\n",
       "  <th>GrLivArea</th>   <td>  -22.2392</td> <td>    7.509</td> <td>   -2.962</td> <td> 0.003</td> <td>  -36.969</td> <td>   -7.510</td>\n",
       "</tr>\n",
       "<tr>\n",
       "  <th>Over_Gr</th>     <td>   10.7523</td> <td>    1.046</td> <td>   10.278</td> <td> 0.000</td> <td>    8.700</td> <td>   12.804</td>\n",
       "</tr>\n",
       "</table>\n",
       "<table class=\"simpletable\">\n",
       "<tr>\n",
       "  <th>Omnibus:</th>       <td>1141.250</td> <th>  Durbin-Watson:     </th>  <td>   2.004</td> \n",
       "</tr>\n",
       "<tr>\n",
       "  <th>Prob(Omnibus):</th>  <td> 0.000</td>  <th>  Jarque-Bera (JB):  </th> <td>193270.499</td>\n",
       "</tr>\n",
       "<tr>\n",
       "  <th>Skew:</th>           <td>-2.765</td>  <th>  Prob(JB):          </th>  <td>    0.00</td> \n",
       "</tr>\n",
       "<tr>\n",
       "  <th>Kurtosis:</th>       <td>59.093</td>  <th>  Cond. No.          </th>  <td>8.96e+05</td> \n",
       "</tr>\n",
       "</table><br/><br/>Notes:<br/>[1] Standard Errors assume that the covariance matrix of the errors is correctly specified.<br/>[2] The condition number is large, 8.96e+05. This might indicate that there are<br/>strong multicollinearity or other numerical problems."
      ],
      "text/plain": [
       "<class 'statsmodels.iolib.summary.Summary'>\n",
       "\"\"\"\n",
       "                            OLS Regression Results                            \n",
       "==============================================================================\n",
       "Dep. Variable:              SalePrice   R-squared:                       0.773\n",
       "Model:                            OLS   Adj. R-squared:                  0.772\n",
       "Method:                 Least Squares   F-statistic:                     990.5\n",
       "Date:                Sun, 02 May 2021   Prob (F-statistic):               0.00\n",
       "Time:                        13:15:29   Log-Likelihood:                -17461.\n",
       "No. Observations:                1460   AIC:                         3.493e+04\n",
       "Df Residuals:                    1454   BIC:                         3.497e+04\n",
       "Df Model:                           5                                         \n",
       "Covariance Type:            nonrobust                                         \n",
       "===============================================================================\n",
       "                  coef    std err          t      P>|t|      [0.025      0.975]\n",
       "-------------------------------------------------------------------------------\n",
       "const       -8.779e+05   7.88e+04    -11.143      0.000   -1.03e+06   -7.23e+05\n",
       "OverallQual  7731.3983   1910.867      4.046      0.000    3983.048    1.15e+04\n",
       "YearBuilt     458.3942     41.269     11.108      0.000     377.441     539.347\n",
       "1stFlrSF       32.4213      3.220     10.068      0.000      26.105      38.738\n",
       "GrLivArea     -22.2392      7.509     -2.962      0.003     -36.969      -7.510\n",
       "Over_Gr        10.7523      1.046     10.278      0.000       8.700      12.804\n",
       "==============================================================================\n",
       "Omnibus:                     1141.250   Durbin-Watson:                   2.004\n",
       "Prob(Omnibus):                  0.000   Jarque-Bera (JB):           193270.499\n",
       "Skew:                          -2.765   Prob(JB):                         0.00\n",
       "Kurtosis:                      59.093   Cond. No.                     8.96e+05\n",
       "==============================================================================\n",
       "\n",
       "Notes:\n",
       "[1] Standard Errors assume that the covariance matrix of the errors is correctly specified.\n",
       "[2] The condition number is large, 8.96e+05. This might indicate that there are\n",
       "strong multicollinearity or other numerical problems.\n",
       "\"\"\""
      ]
     },
     "execution_count": 10,
     "metadata": {},
     "output_type": "execute_result"
    }
   ],
   "source": [
    "import statsmodels.api as sm\n",
    "\n",
    "X3_hp = sm.add_constant(X_hp2)\n",
    "results = sm.OLS(Y_hp, X3_hp).fit()\n",
    "results.summary()"
   ]
  },
  {
   "cell_type": "code",
   "execution_count": null,
   "metadata": {},
   "outputs": [],
   "source": []
  },
  {
   "cell_type": "code",
   "execution_count": 11,
   "metadata": {},
   "outputs": [
    {
     "name": "stdout",
     "output_type": "stream",
     "text": [
      "Eğitim kümesindeki gözlem sayısı : 1168\n",
      "Test kümesindeki gözlem sayısı   : 292\n"
     ]
    }
   ],
   "source": [
    "X_train2, X_test2, y_train2, y_test2 = train_test_split(X_hp2, Y_hp, test_size = 0.2, random_state = 465)\n",
    "\n",
    "print(\"Eğitim kümesindeki gözlem sayısı : {}\".format(X_train2.shape[0]))\n",
    "print(\"Test kümesindeki gözlem sayısı   : {}\".format(X_test2.shape[0]))"
   ]
  },
  {
   "cell_type": "code",
   "execution_count": null,
   "metadata": {},
   "outputs": [],
   "source": []
  },
  {
   "cell_type": "code",
   "execution_count": 12,
   "metadata": {},
   "outputs": [
    {
     "data": {
      "text/html": [
       "<table class=\"simpletable\">\n",
       "<caption>OLS Regression Results</caption>\n",
       "<tr>\n",
       "  <th>Dep. Variable:</th>        <td>SalePrice</td>    <th>  R-squared:         </th> <td>   0.762</td> \n",
       "</tr>\n",
       "<tr>\n",
       "  <th>Model:</th>                   <td>OLS</td>       <th>  Adj. R-squared:    </th> <td>   0.761</td> \n",
       "</tr>\n",
       "<tr>\n",
       "  <th>Method:</th>             <td>Least Squares</td>  <th>  F-statistic:       </th> <td>   745.1</td> \n",
       "</tr>\n",
       "<tr>\n",
       "  <th>Date:</th>             <td>Sun, 02 May 2021</td> <th>  Prob (F-statistic):</th>  <td>  0.00</td>  \n",
       "</tr>\n",
       "<tr>\n",
       "  <th>Time:</th>                 <td>13:15:41</td>     <th>  Log-Likelihood:    </th> <td> -13974.</td> \n",
       "</tr>\n",
       "<tr>\n",
       "  <th>No. Observations:</th>      <td>  1168</td>      <th>  AIC:               </th> <td>2.796e+04</td>\n",
       "</tr>\n",
       "<tr>\n",
       "  <th>Df Residuals:</th>          <td>  1162</td>      <th>  BIC:               </th> <td>2.799e+04</td>\n",
       "</tr>\n",
       "<tr>\n",
       "  <th>Df Model:</th>              <td>     5</td>      <th>                     </th>     <td> </td>    \n",
       "</tr>\n",
       "<tr>\n",
       "  <th>Covariance Type:</th>      <td>nonrobust</td>    <th>                     </th>     <td> </td>    \n",
       "</tr>\n",
       "</table>\n",
       "<table class=\"simpletable\">\n",
       "<tr>\n",
       "       <td></td>          <th>coef</th>     <th>std err</th>      <th>t</th>      <th>P>|t|</th>  <th>[0.025</th>    <th>0.975]</th>  \n",
       "</tr>\n",
       "<tr>\n",
       "  <th>const</th>       <td>-9.069e+05</td> <td> 8.83e+04</td> <td>  -10.275</td> <td> 0.000</td> <td>-1.08e+06</td> <td>-7.34e+05</td>\n",
       "</tr>\n",
       "<tr>\n",
       "  <th>OverallQual</th> <td> 1.275e+04</td> <td> 2164.773</td> <td>    5.888</td> <td> 0.000</td> <td> 8499.575</td> <td>  1.7e+04</td>\n",
       "</tr>\n",
       "<tr>\n",
       "  <th>YearBuilt</th>   <td>  458.8878</td> <td>   46.196</td> <td>    9.933</td> <td> 0.000</td> <td>  368.250</td> <td>  549.525</td>\n",
       "</tr>\n",
       "<tr>\n",
       "  <th>1stFlrSF</th>    <td>   27.8766</td> <td>    3.633</td> <td>    7.674</td> <td> 0.000</td> <td>   20.749</td> <td>   35.004</td>\n",
       "</tr>\n",
       "<tr>\n",
       "  <th>GrLivArea</th>   <td>    0.3863</td> <td>    8.458</td> <td>    0.046</td> <td> 0.964</td> <td>  -16.208</td> <td>   16.980</td>\n",
       "</tr>\n",
       "<tr>\n",
       "  <th>Over_Gr</th>     <td>    7.4267</td> <td>    1.175</td> <td>    6.320</td> <td> 0.000</td> <td>    5.121</td> <td>    9.732</td>\n",
       "</tr>\n",
       "</table>\n",
       "<table class=\"simpletable\">\n",
       "<tr>\n",
       "  <th>Omnibus:</th>       <td>832.805</td> <th>  Durbin-Watson:     </th>  <td>   1.948</td> \n",
       "</tr>\n",
       "<tr>\n",
       "  <th>Prob(Omnibus):</th> <td> 0.000</td>  <th>  Jarque-Bera (JB):  </th> <td>104119.062</td>\n",
       "</tr>\n",
       "<tr>\n",
       "  <th>Skew:</th>          <td>-2.410</td>  <th>  Prob(JB):          </th>  <td>    0.00</td> \n",
       "</tr>\n",
       "<tr>\n",
       "  <th>Kurtosis:</th>      <td>49.002</td>  <th>  Cond. No.          </th>  <td>8.97e+05</td> \n",
       "</tr>\n",
       "</table><br/><br/>Notes:<br/>[1] Standard Errors assume that the covariance matrix of the errors is correctly specified.<br/>[2] The condition number is large, 8.97e+05. This might indicate that there are<br/>strong multicollinearity or other numerical problems."
      ],
      "text/plain": [
       "<class 'statsmodels.iolib.summary.Summary'>\n",
       "\"\"\"\n",
       "                            OLS Regression Results                            \n",
       "==============================================================================\n",
       "Dep. Variable:              SalePrice   R-squared:                       0.762\n",
       "Model:                            OLS   Adj. R-squared:                  0.761\n",
       "Method:                 Least Squares   F-statistic:                     745.1\n",
       "Date:                Sun, 02 May 2021   Prob (F-statistic):               0.00\n",
       "Time:                        13:15:41   Log-Likelihood:                -13974.\n",
       "No. Observations:                1168   AIC:                         2.796e+04\n",
       "Df Residuals:                    1162   BIC:                         2.799e+04\n",
       "Df Model:                           5                                         \n",
       "Covariance Type:            nonrobust                                         \n",
       "===============================================================================\n",
       "                  coef    std err          t      P>|t|      [0.025      0.975]\n",
       "-------------------------------------------------------------------------------\n",
       "const       -9.069e+05   8.83e+04    -10.275      0.000   -1.08e+06   -7.34e+05\n",
       "OverallQual  1.275e+04   2164.773      5.888      0.000    8499.575     1.7e+04\n",
       "YearBuilt     458.8878     46.196      9.933      0.000     368.250     549.525\n",
       "1stFlrSF       27.8766      3.633      7.674      0.000      20.749      35.004\n",
       "GrLivArea       0.3863      8.458      0.046      0.964     -16.208      16.980\n",
       "Over_Gr         7.4267      1.175      6.320      0.000       5.121       9.732\n",
       "==============================================================================\n",
       "Omnibus:                      832.805   Durbin-Watson:                   1.948\n",
       "Prob(Omnibus):                  0.000   Jarque-Bera (JB):           104119.062\n",
       "Skew:                          -2.410   Prob(JB):                         0.00\n",
       "Kurtosis:                      49.002   Cond. No.                     8.97e+05\n",
       "==============================================================================\n",
       "\n",
       "Notes:\n",
       "[1] Standard Errors assume that the covariance matrix of the errors is correctly specified.\n",
       "[2] The condition number is large, 8.97e+05. This might indicate that there are\n",
       "strong multicollinearity or other numerical problems.\n",
       "\"\"\""
      ]
     },
     "execution_count": 12,
     "metadata": {},
     "output_type": "execute_result"
    }
   ],
   "source": [
    "X_train3 = sm.add_constant(X_train2)\n",
    "\n",
    "sonuclar = sm.OLS(y_train, X_train3).fit()\n",
    "\n",
    "sonuclar.summary()"
   ]
  },
  {
   "cell_type": "code",
   "execution_count": null,
   "metadata": {},
   "outputs": [],
   "source": []
  },
  {
   "cell_type": "code",
   "execution_count": 16,
   "metadata": {},
   "outputs": [],
   "source": [
    "X_test2 = sm.add_constant(X_test2)\n",
    "\n",
    "y_preds2 = sonuclar.predict(X_test2)\n",
    "\n",
    "\n"
   ]
  },
  {
   "cell_type": "code",
   "execution_count": 14,
   "metadata": {},
   "outputs": [
    {
     "data": {
      "image/png": "[encoded data removed]",
      "text/plain": [
       "<Figure size 600x400 with 1 Axes>"
      ]
     },
     "metadata": {
      "needs_background": "light"
     },
     "output_type": "display_data"
    },
    {
     "name": "stdout",
     "output_type": "stream",
     "text": [
      "Ortalama Mutlak Hata (MAE)        : 25439.082244198406\n",
      "Ortalama Kare Hata (MSE)          : 1456988686.1397498\n",
      "Kök Ortalama Kare Hata (RMSE)     : 38170.521166729566\n",
      "Ortalama Mutlak Yüzde Hata (MAPE) : 14.39339987031422\n"
     ]
    }
   ],
   "source": [
    "baslik_font = {'family': 'arial','color':  'darkred','weight': 'bold','size': 15 }\n",
    "eksen_font = {'family': 'arial','color':  'darkblue','weight': 'bold','size': 10 }\n",
    "plt.figure(dpi = 100)\n",
    "\n",
    "plt.scatter(y_test2, y_preds2)\n",
    "plt.plot(y_test2, y_test2, color=\"red\")\n",
    "plt.xlabel(\"Gerçek Değerler\", fontdict=eksen_font)\n",
    "plt.ylabel(\"Tahmin edilen Değerler\", fontdict=eksen_font)\n",
    "plt.title(\"Satış Fiyatı: Gerçek ve tahmin edilen değerler\", fontdict=baslik_font)\n",
    "plt.show()\n",
    "\n",
    "print(\"Ortalama Mutlak Hata (MAE)        : {}\".format(mean_absolute_error(y_test2, y_preds2)))\n",
    "print(\"Ortalama Kare Hata (MSE)          : {}\".format(mse(y_test2, y_preds2)))\n",
    "print(\"Kök Ortalama Kare Hata (RMSE)     : {}\".format(rmse(y_test2, y_preds2)))\n",
    "print(\"Ortalama Mutlak Yüzde Hata (MAPE) : {}\".format(np.mean(np.abs((y_test2 - y_preds2) / y_test2)) * 100))"
   ]
  },
  {
   "cell_type": "code",
   "execution_count": null,
   "metadata": {},
   "outputs": [],
   "source": []
  },
  {
   "cell_type": "markdown",
   "metadata": {},
   "source": [
    "ilk modelimize göre R^2 değeri artmıştır. \n",
    "\n",
    "Ama 4 metrik için hata değerleri düşmüştür.. İyi bir modeldir."
   ]
  },
  {
   "cell_type": "markdown",
   "metadata": {},
   "source": [
    "**Over_Gr eklenmemiş ilk modelin metrikleri**\n",
    "\n",
    "Ortalama Mutlak Hata (MAE)        : 27839.697690699148\n",
    "\n",
    "Ortalama Kare Hata (MSE)          : 1726136114.207929\n",
    "\n",
    "Kök Ortalama Kare Hata (RMSE)     : 41546.79427113395\n",
    "\n",
    "Ortalama Mutlak Yüzde Hata (MAPE) : 16.275065460332495\n",
    "\n"
   ]
  },
  {
   "cell_type": "code",
   "execution_count": null,
   "metadata": {},
   "outputs": [],
   "source": []
  }
 ],
 "metadata": {
  "kernelspec": {
   "display_name": "Python 3",
   "language": "python",
   "name": "python3"
  },
  "language_info": {
   "codemirror_mode": {
    "name": "ipython",
    "version": 3
   },
   "file_extension": ".py",
   "mimetype": "text/x-python",
   "name": "python",
   "nbconvert_exporter": "python",
   "pygments_lexer": "ipython3",
   "version": "3.8.5"
  }
 },
 "nbformat": 4,
 "nbformat_minor": 4
}
