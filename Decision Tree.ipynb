{
 "cells": [
  {
   "cell_type": "markdown",
   "metadata": {},
   "source": [
    "# DECISION TREE"
   ]
  },
  {
   "cell_type": "markdown",
   "metadata": {},
   "source": [
    "İkinci proje olan regresyon projesinde ve üçüncü proje olan sınıflandırma projesinde kullandığınız veri kümelerini tekrar kullanarak, karar ağaçları ile regresyon ve sınıflandırma modelleri oluşturun ve bu modeller için en uygun parametre değerlerini belirleyin. En ideal parametreyi bulmak için daha önceki bölümde öğrendiğiniz çapraz doğrulama metodlarını kullanabilirsiniz."
   ]
  },
  {
   "cell_type": "code",
   "execution_count": 1,
   "metadata": {},
   "outputs": [],
   "source": [
    "import numpy as np\n",
    "import pandas as pd\n",
    "import matplotlib.pyplot as plt\n",
    "import seaborn as sns\n",
    "from scipy.stats.mstats import winsorize\n",
    "import scipy.stats as stats\n",
    "from sklearn import linear_model\n",
    "import statsmodels.api as sm\n",
    "from sklearn.linear_model import LogisticRegression\n",
    "from sklearn.model_selection import train_test_split\n",
    "from sklearn.metrics import r2_score, mean_absolute_error,explained_variance_score\n",
    "from sklearn.metrics import mean_squared_error as mse\n",
    "from statsmodels.tools.eval_measures import mse, rmse\n",
    "from sklearn.linear_model import Ridge\n",
    "from sklearn.linear_model import Lasso\n",
    "from sklearn.linear_model import ElasticNet\n",
    "from sklearn.linear_model import LogisticRegression\n",
    "from sklearn.metrics import confusion_matrix\n",
    "from sklearn.metrics import accuracy_score\n",
    "from sklearn.metrics import precision_score\n",
    "from sklearn.metrics import recall_score\n",
    "from sklearn.metrics import f1_score\n",
    "from sklearn.metrics import classification_report, precision_recall_fscore_support\n",
    "from sklearn.metrics import roc_curve, roc_auc_score\n",
    "from sklearn.metrics import precision_recall_curve\n",
    "from sklearn.metrics import log_loss\n",
    "from sklearn.utils import resample\n",
    "from sklearn.model_selection import KFold, train_test_split\n",
    "from sklearn.neighbors import KNeighborsClassifier\n",
    "from sklearn.neighbors import KNeighborsRegressor\n",
    "from sklearn.model_selection import cross_val_score\n",
    "from sklearn.tree import DecisionTreeClassifier, plot_tree\n",
    "from sklearn.tree import DecisionTreeRegressor\n",
    "from sklearn.ensemble import RandomForestClassifier\n",
    "from sklearn.ensemble import RandomForestRegressor\n",
    "from sklearn.svm import SVC\n",
    "from sklearn.svm import SVR\n",
    "import xgboost as xgb\n",
    "import lightgbm as lgb"
   ]
  },
  {
   "cell_type": "code",
   "execution_count": 2,
   "metadata": {},
   "outputs": [
    {
     "data": {
      "text/html": [
       "<div>\n",
       "<style scoped>\n",
       "    .dataframe tbody tr th:only-of-type {\n",
       "        vertical-align: middle;\n",
       "    }\n",
       "\n",
       "    .dataframe tbody tr th {\n",
       "        vertical-align: top;\n",
       "    }\n",
       "\n",
       "    .dataframe thead th {\n",
       "        text-align: right;\n",
       "    }\n",
       "</style>\n",
       "<table border=\"1\" class=\"dataframe\">\n",
       "  <thead>\n",
       "    <tr style=\"text-align: right;\">\n",
       "      <th></th>\n",
       "      <th>Country</th>\n",
       "      <th>Year</th>\n",
       "      <th>Status</th>\n",
       "      <th>Life expectancy</th>\n",
       "      <th>Adult Mortality</th>\n",
       "      <th>infant deaths</th>\n",
       "      <th>Alcohol</th>\n",
       "      <th>percentage expenditure</th>\n",
       "      <th>Hepatitis B</th>\n",
       "      <th>Measles</th>\n",
       "      <th>...</th>\n",
       "      <th>Polio</th>\n",
       "      <th>Total expenditure</th>\n",
       "      <th>Diphtheria</th>\n",
       "      <th>HIV/AIDS</th>\n",
       "      <th>GDP</th>\n",
       "      <th>Population</th>\n",
       "      <th>thinness  1-19 years</th>\n",
       "      <th>thinness 5-9 years</th>\n",
       "      <th>Income composition of resources</th>\n",
       "      <th>Schooling</th>\n",
       "    </tr>\n",
       "  </thead>\n",
       "  <tbody>\n",
       "    <tr>\n",
       "      <th>0</th>\n",
       "      <td>Afghanistan</td>\n",
       "      <td>2015</td>\n",
       "      <td>Developing</td>\n",
       "      <td>65.0</td>\n",
       "      <td>263.0</td>\n",
       "      <td>62</td>\n",
       "      <td>0.01</td>\n",
       "      <td>71.279624</td>\n",
       "      <td>65.0</td>\n",
       "      <td>1154</td>\n",
       "      <td>...</td>\n",
       "      <td>6.0</td>\n",
       "      <td>8.16</td>\n",
       "      <td>65.0</td>\n",
       "      <td>0.1</td>\n",
       "      <td>584.259210</td>\n",
       "      <td>33736494.0</td>\n",
       "      <td>17.2</td>\n",
       "      <td>17.3</td>\n",
       "      <td>0.479</td>\n",
       "      <td>10.1</td>\n",
       "    </tr>\n",
       "    <tr>\n",
       "      <th>1</th>\n",
       "      <td>Afghanistan</td>\n",
       "      <td>2014</td>\n",
       "      <td>Developing</td>\n",
       "      <td>59.9</td>\n",
       "      <td>271.0</td>\n",
       "      <td>64</td>\n",
       "      <td>0.01</td>\n",
       "      <td>73.523582</td>\n",
       "      <td>62.0</td>\n",
       "      <td>492</td>\n",
       "      <td>...</td>\n",
       "      <td>58.0</td>\n",
       "      <td>8.18</td>\n",
       "      <td>62.0</td>\n",
       "      <td>0.1</td>\n",
       "      <td>612.696514</td>\n",
       "      <td>327582.0</td>\n",
       "      <td>17.5</td>\n",
       "      <td>17.5</td>\n",
       "      <td>0.476</td>\n",
       "      <td>10.0</td>\n",
       "    </tr>\n",
       "    <tr>\n",
       "      <th>2</th>\n",
       "      <td>Afghanistan</td>\n",
       "      <td>2013</td>\n",
       "      <td>Developing</td>\n",
       "      <td>59.9</td>\n",
       "      <td>268.0</td>\n",
       "      <td>66</td>\n",
       "      <td>0.01</td>\n",
       "      <td>73.219243</td>\n",
       "      <td>64.0</td>\n",
       "      <td>430</td>\n",
       "      <td>...</td>\n",
       "      <td>62.0</td>\n",
       "      <td>8.13</td>\n",
       "      <td>64.0</td>\n",
       "      <td>0.1</td>\n",
       "      <td>631.744976</td>\n",
       "      <td>31731688.0</td>\n",
       "      <td>17.7</td>\n",
       "      <td>17.7</td>\n",
       "      <td>0.470</td>\n",
       "      <td>9.9</td>\n",
       "    </tr>\n",
       "    <tr>\n",
       "      <th>3</th>\n",
       "      <td>Afghanistan</td>\n",
       "      <td>2012</td>\n",
       "      <td>Developing</td>\n",
       "      <td>59.5</td>\n",
       "      <td>272.0</td>\n",
       "      <td>69</td>\n",
       "      <td>0.01</td>\n",
       "      <td>78.184215</td>\n",
       "      <td>67.0</td>\n",
       "      <td>2787</td>\n",
       "      <td>...</td>\n",
       "      <td>67.0</td>\n",
       "      <td>8.52</td>\n",
       "      <td>67.0</td>\n",
       "      <td>0.1</td>\n",
       "      <td>669.959000</td>\n",
       "      <td>3696958.0</td>\n",
       "      <td>17.9</td>\n",
       "      <td>18.0</td>\n",
       "      <td>0.463</td>\n",
       "      <td>9.8</td>\n",
       "    </tr>\n",
       "    <tr>\n",
       "      <th>4</th>\n",
       "      <td>Afghanistan</td>\n",
       "      <td>2011</td>\n",
       "      <td>Developing</td>\n",
       "      <td>59.2</td>\n",
       "      <td>275.0</td>\n",
       "      <td>71</td>\n",
       "      <td>0.01</td>\n",
       "      <td>7.097109</td>\n",
       "      <td>68.0</td>\n",
       "      <td>3013</td>\n",
       "      <td>...</td>\n",
       "      <td>68.0</td>\n",
       "      <td>7.87</td>\n",
       "      <td>68.0</td>\n",
       "      <td>0.1</td>\n",
       "      <td>63.537231</td>\n",
       "      <td>2978599.0</td>\n",
       "      <td>18.2</td>\n",
       "      <td>18.2</td>\n",
       "      <td>0.454</td>\n",
       "      <td>9.5</td>\n",
       "    </tr>\n",
       "  </tbody>\n",
       "</table>\n",
       "<p>5 rows × 22 columns</p>\n",
       "</div>"
      ],
      "text/plain": [
       "       Country  Year      Status  Life expectancy   Adult Mortality  \\\n",
       "0  Afghanistan  2015  Developing              65.0            263.0   \n",
       "1  Afghanistan  2014  Developing              59.9            271.0   \n",
       "2  Afghanistan  2013  Developing              59.9            268.0   \n",
       "3  Afghanistan  2012  Developing              59.5            272.0   \n",
       "4  Afghanistan  2011  Developing              59.2            275.0   \n",
       "\n",
       "   infant deaths  Alcohol  percentage expenditure  Hepatitis B  Measles   ...  \\\n",
       "0             62     0.01               71.279624         65.0      1154  ...   \n",
       "1             64     0.01               73.523582         62.0       492  ...   \n",
       "2             66     0.01               73.219243         64.0       430  ...   \n",
       "3             69     0.01               78.184215         67.0      2787  ...   \n",
       "4             71     0.01                7.097109         68.0      3013  ...   \n",
       "\n",
       "   Polio  Total expenditure  Diphtheria    HIV/AIDS         GDP  Population  \\\n",
       "0    6.0               8.16         65.0        0.1  584.259210  33736494.0   \n",
       "1   58.0               8.18         62.0        0.1  612.696514    327582.0   \n",
       "2   62.0               8.13         64.0        0.1  631.744976  31731688.0   \n",
       "3   67.0               8.52         67.0        0.1  669.959000   3696958.0   \n",
       "4   68.0               7.87         68.0        0.1   63.537231   2978599.0   \n",
       "\n",
       "    thinness  1-19 years   thinness 5-9 years  \\\n",
       "0                   17.2                 17.3   \n",
       "1                   17.5                 17.5   \n",
       "2                   17.7                 17.7   \n",
       "3                   17.9                 18.0   \n",
       "4                   18.2                 18.2   \n",
       "\n",
       "   Income composition of resources  Schooling  \n",
       "0                            0.479       10.1  \n",
       "1                            0.476       10.0  \n",
       "2                            0.470        9.9  \n",
       "3                            0.463        9.8  \n",
       "4                            0.454        9.5  \n",
       "\n",
       "[5 rows x 22 columns]"
      ]
     },
     "execution_count": 2,
     "metadata": {},
     "output_type": "execute_result"
    }
   ],
   "source": [
    "life_df=pd.read_csv(\"Life Expectancy Data.csv\")\n",
    "life_df.head()"
   ]
  },
  {
   "cell_type": "code",
   "execution_count": 3,
   "metadata": {},
   "outputs": [],
   "source": [
    "life_df2=life_df.copy()"
   ]
  },
  {
   "cell_type": "code",
   "execution_count": 4,
   "metadata": {},
   "outputs": [
    {
     "data": {
      "text/plain": [
       "array(['Country', 'Year', 'Status', 'Life expectancy ', 'Adult Mortality',\n",
       "       'infant deaths', 'Alcohol', 'percentage expenditure',\n",
       "       'Hepatitis B', 'Measles ', ' BMI ', 'under-five deaths ', 'Polio',\n",
       "       'Total expenditure', 'Diphtheria ', ' HIV/AIDS', 'GDP',\n",
       "       'Population', ' thinness  1-19 years', ' thinness 5-9 years',\n",
       "       'Income composition of resources', 'Schooling'], dtype=object)"
      ]
     },
     "execution_count": 4,
     "metadata": {},
     "output_type": "execute_result"
    }
   ],
   "source": [
    "life_df2.columns.values"
   ]
  },
  {
   "cell_type": "markdown",
   "metadata": {},
   "source": [
    "Words have space"
   ]
  },
  {
   "cell_type": "code",
   "execution_count": 5,
   "metadata": {},
   "outputs": [],
   "source": [
    "life_df2.columns = life_df2.columns.str.strip()"
   ]
  },
  {
   "cell_type": "code",
   "execution_count": 6,
   "metadata": {},
   "outputs": [
    {
     "data": {
      "text/plain": [
       "array(['Country', 'Year', 'Status', 'Life expectancy', 'Adult Mortality',\n",
       "       'infant deaths', 'Alcohol', 'percentage expenditure',\n",
       "       'Hepatitis B', 'Measles', 'BMI', 'under-five deaths', 'Polio',\n",
       "       'Total expenditure', 'Diphtheria', 'HIV/AIDS', 'GDP', 'Population',\n",
       "       'thinness  1-19 years', 'thinness 5-9 years',\n",
       "       'Income composition of resources', 'Schooling'], dtype=object)"
      ]
     },
     "execution_count": 6,
     "metadata": {},
     "output_type": "execute_result"
    }
   ],
   "source": [
    "life_df2.columns.values"
   ]
  },
  {
   "cell_type": "markdown",
   "metadata": {},
   "source": [
    "Removed the space"
   ]
  },
  {
   "cell_type": "code",
   "execution_count": null,
   "metadata": {},
   "outputs": [],
   "source": []
  },
  {
   "cell_type": "code",
   "execution_count": 7,
   "metadata": {},
   "outputs": [
    {
     "data": {
      "text/html": [
       "<div>\n",
       "<style scoped>\n",
       "    .dataframe tbody tr th:only-of-type {\n",
       "        vertical-align: middle;\n",
       "    }\n",
       "\n",
       "    .dataframe tbody tr th {\n",
       "        vertical-align: top;\n",
       "    }\n",
       "\n",
       "    .dataframe thead th {\n",
       "        text-align: right;\n",
       "    }\n",
       "</style>\n",
       "<table border=\"1\" class=\"dataframe\">\n",
       "  <thead>\n",
       "    <tr style=\"text-align: right;\">\n",
       "      <th></th>\n",
       "      <th>Developed</th>\n",
       "      <th>Developing</th>\n",
       "    </tr>\n",
       "  </thead>\n",
       "  <tbody>\n",
       "    <tr>\n",
       "      <th>0</th>\n",
       "      <td>0</td>\n",
       "      <td>1</td>\n",
       "    </tr>\n",
       "    <tr>\n",
       "      <th>1</th>\n",
       "      <td>0</td>\n",
       "      <td>1</td>\n",
       "    </tr>\n",
       "    <tr>\n",
       "      <th>2</th>\n",
       "      <td>0</td>\n",
       "      <td>1</td>\n",
       "    </tr>\n",
       "    <tr>\n",
       "      <th>3</th>\n",
       "      <td>0</td>\n",
       "      <td>1</td>\n",
       "    </tr>\n",
       "    <tr>\n",
       "      <th>4</th>\n",
       "      <td>0</td>\n",
       "      <td>1</td>\n",
       "    </tr>\n",
       "    <tr>\n",
       "      <th>...</th>\n",
       "      <td>...</td>\n",
       "      <td>...</td>\n",
       "    </tr>\n",
       "    <tr>\n",
       "      <th>2933</th>\n",
       "      <td>0</td>\n",
       "      <td>1</td>\n",
       "    </tr>\n",
       "    <tr>\n",
       "      <th>2934</th>\n",
       "      <td>0</td>\n",
       "      <td>1</td>\n",
       "    </tr>\n",
       "    <tr>\n",
       "      <th>2935</th>\n",
       "      <td>0</td>\n",
       "      <td>1</td>\n",
       "    </tr>\n",
       "    <tr>\n",
       "      <th>2936</th>\n",
       "      <td>0</td>\n",
       "      <td>1</td>\n",
       "    </tr>\n",
       "    <tr>\n",
       "      <th>2937</th>\n",
       "      <td>0</td>\n",
       "      <td>1</td>\n",
       "    </tr>\n",
       "  </tbody>\n",
       "</table>\n",
       "<p>2938 rows × 2 columns</p>\n",
       "</div>"
      ],
      "text/plain": [
       "      Developed  Developing\n",
       "0             0           1\n",
       "1             0           1\n",
       "2             0           1\n",
       "3             0           1\n",
       "4             0           1\n",
       "...         ...         ...\n",
       "2933          0           1\n",
       "2934          0           1\n",
       "2935          0           1\n",
       "2936          0           1\n",
       "2937          0           1\n",
       "\n",
       "[2938 rows x 2 columns]"
      ]
     },
     "execution_count": 7,
     "metadata": {},
     "output_type": "execute_result"
    }
   ],
   "source": [
    "pd.get_dummies(life_df2[\"Status\"])"
   ]
  },
  {
   "cell_type": "code",
   "execution_count": 8,
   "metadata": {},
   "outputs": [
    {
     "data": {
      "text/html": [
       "<div>\n",
       "<style scoped>\n",
       "    .dataframe tbody tr th:only-of-type {\n",
       "        vertical-align: middle;\n",
       "    }\n",
       "\n",
       "    .dataframe tbody tr th {\n",
       "        vertical-align: top;\n",
       "    }\n",
       "\n",
       "    .dataframe thead th {\n",
       "        text-align: right;\n",
       "    }\n",
       "</style>\n",
       "<table border=\"1\" class=\"dataframe\">\n",
       "  <thead>\n",
       "    <tr style=\"text-align: right;\">\n",
       "      <th></th>\n",
       "      <th>Country</th>\n",
       "      <th>Year</th>\n",
       "      <th>Status</th>\n",
       "      <th>Life expectancy</th>\n",
       "      <th>Adult Mortality</th>\n",
       "      <th>infant deaths</th>\n",
       "      <th>Alcohol</th>\n",
       "      <th>percentage expenditure</th>\n",
       "      <th>Hepatitis B</th>\n",
       "      <th>Measles</th>\n",
       "      <th>...</th>\n",
       "      <th>Total expenditure</th>\n",
       "      <th>Diphtheria</th>\n",
       "      <th>HIV/AIDS</th>\n",
       "      <th>GDP</th>\n",
       "      <th>Population</th>\n",
       "      <th>thinness  1-19 years</th>\n",
       "      <th>thinness 5-9 years</th>\n",
       "      <th>Income composition of resources</th>\n",
       "      <th>Schooling</th>\n",
       "      <th>Developing</th>\n",
       "    </tr>\n",
       "  </thead>\n",
       "  <tbody>\n",
       "    <tr>\n",
       "      <th>0</th>\n",
       "      <td>Afghanistan</td>\n",
       "      <td>2015</td>\n",
       "      <td>Developing</td>\n",
       "      <td>65.0</td>\n",
       "      <td>263.0</td>\n",
       "      <td>62</td>\n",
       "      <td>0.01</td>\n",
       "      <td>71.279624</td>\n",
       "      <td>65.0</td>\n",
       "      <td>1154</td>\n",
       "      <td>...</td>\n",
       "      <td>8.16</td>\n",
       "      <td>65.0</td>\n",
       "      <td>0.1</td>\n",
       "      <td>584.259210</td>\n",
       "      <td>33736494.0</td>\n",
       "      <td>17.2</td>\n",
       "      <td>17.3</td>\n",
       "      <td>0.479</td>\n",
       "      <td>10.1</td>\n",
       "      <td>1</td>\n",
       "    </tr>\n",
       "    <tr>\n",
       "      <th>1</th>\n",
       "      <td>Afghanistan</td>\n",
       "      <td>2014</td>\n",
       "      <td>Developing</td>\n",
       "      <td>59.9</td>\n",
       "      <td>271.0</td>\n",
       "      <td>64</td>\n",
       "      <td>0.01</td>\n",
       "      <td>73.523582</td>\n",
       "      <td>62.0</td>\n",
       "      <td>492</td>\n",
       "      <td>...</td>\n",
       "      <td>8.18</td>\n",
       "      <td>62.0</td>\n",
       "      <td>0.1</td>\n",
       "      <td>612.696514</td>\n",
       "      <td>327582.0</td>\n",
       "      <td>17.5</td>\n",
       "      <td>17.5</td>\n",
       "      <td>0.476</td>\n",
       "      <td>10.0</td>\n",
       "      <td>1</td>\n",
       "    </tr>\n",
       "    <tr>\n",
       "      <th>2</th>\n",
       "      <td>Afghanistan</td>\n",
       "      <td>2013</td>\n",
       "      <td>Developing</td>\n",
       "      <td>59.9</td>\n",
       "      <td>268.0</td>\n",
       "      <td>66</td>\n",
       "      <td>0.01</td>\n",
       "      <td>73.219243</td>\n",
       "      <td>64.0</td>\n",
       "      <td>430</td>\n",
       "      <td>...</td>\n",
       "      <td>8.13</td>\n",
       "      <td>64.0</td>\n",
       "      <td>0.1</td>\n",
       "      <td>631.744976</td>\n",
       "      <td>31731688.0</td>\n",
       "      <td>17.7</td>\n",
       "      <td>17.7</td>\n",
       "      <td>0.470</td>\n",
       "      <td>9.9</td>\n",
       "      <td>1</td>\n",
       "    </tr>\n",
       "    <tr>\n",
       "      <th>3</th>\n",
       "      <td>Afghanistan</td>\n",
       "      <td>2012</td>\n",
       "      <td>Developing</td>\n",
       "      <td>59.5</td>\n",
       "      <td>272.0</td>\n",
       "      <td>69</td>\n",
       "      <td>0.01</td>\n",
       "      <td>78.184215</td>\n",
       "      <td>67.0</td>\n",
       "      <td>2787</td>\n",
       "      <td>...</td>\n",
       "      <td>8.52</td>\n",
       "      <td>67.0</td>\n",
       "      <td>0.1</td>\n",
       "      <td>669.959000</td>\n",
       "      <td>3696958.0</td>\n",
       "      <td>17.9</td>\n",
       "      <td>18.0</td>\n",
       "      <td>0.463</td>\n",
       "      <td>9.8</td>\n",
       "      <td>1</td>\n",
       "    </tr>\n",
       "    <tr>\n",
       "      <th>4</th>\n",
       "      <td>Afghanistan</td>\n",
       "      <td>2011</td>\n",
       "      <td>Developing</td>\n",
       "      <td>59.2</td>\n",
       "      <td>275.0</td>\n",
       "      <td>71</td>\n",
       "      <td>0.01</td>\n",
       "      <td>7.097109</td>\n",
       "      <td>68.0</td>\n",
       "      <td>3013</td>\n",
       "      <td>...</td>\n",
       "      <td>7.87</td>\n",
       "      <td>68.0</td>\n",
       "      <td>0.1</td>\n",
       "      <td>63.537231</td>\n",
       "      <td>2978599.0</td>\n",
       "      <td>18.2</td>\n",
       "      <td>18.2</td>\n",
       "      <td>0.454</td>\n",
       "      <td>9.5</td>\n",
       "      <td>1</td>\n",
       "    </tr>\n",
       "  </tbody>\n",
       "</table>\n",
       "<p>5 rows × 23 columns</p>\n",
       "</div>"
      ],
      "text/plain": [
       "       Country  Year      Status  Life expectancy  Adult Mortality  \\\n",
       "0  Afghanistan  2015  Developing             65.0            263.0   \n",
       "1  Afghanistan  2014  Developing             59.9            271.0   \n",
       "2  Afghanistan  2013  Developing             59.9            268.0   \n",
       "3  Afghanistan  2012  Developing             59.5            272.0   \n",
       "4  Afghanistan  2011  Developing             59.2            275.0   \n",
       "\n",
       "   infant deaths  Alcohol  percentage expenditure  Hepatitis B  Measles  ...  \\\n",
       "0             62     0.01               71.279624         65.0     1154  ...   \n",
       "1             64     0.01               73.523582         62.0      492  ...   \n",
       "2             66     0.01               73.219243         64.0      430  ...   \n",
       "3             69     0.01               78.184215         67.0     2787  ...   \n",
       "4             71     0.01                7.097109         68.0     3013  ...   \n",
       "\n",
       "   Total expenditure  Diphtheria  HIV/AIDS         GDP  Population  \\\n",
       "0               8.16        65.0       0.1  584.259210  33736494.0   \n",
       "1               8.18        62.0       0.1  612.696514    327582.0   \n",
       "2               8.13        64.0       0.1  631.744976  31731688.0   \n",
       "3               8.52        67.0       0.1  669.959000   3696958.0   \n",
       "4               7.87        68.0       0.1   63.537231   2978599.0   \n",
       "\n",
       "   thinness  1-19 years  thinness 5-9 years  Income composition of resources  \\\n",
       "0                  17.2                17.3                            0.479   \n",
       "1                  17.5                17.5                            0.476   \n",
       "2                  17.7                17.7                            0.470   \n",
       "3                  17.9                18.0                            0.463   \n",
       "4                  18.2                18.2                            0.454   \n",
       "\n",
       "   Schooling  Developing  \n",
       "0       10.1           1  \n",
       "1       10.0           1  \n",
       "2        9.9           1  \n",
       "3        9.8           1  \n",
       "4        9.5           1  \n",
       "\n",
       "[5 rows x 23 columns]"
      ]
     },
     "execution_count": 8,
     "metadata": {},
     "output_type": "execute_result"
    }
   ],
   "source": [
    "life_df2= pd.concat([life_df2, pd.get_dummies(life_df[\"Status\"], drop_first=True)], axis=1)\n",
    "life_df2.head()"
   ]
  },
  {
   "cell_type": "code",
   "execution_count": null,
   "metadata": {},
   "outputs": [],
   "source": []
  },
  {
   "cell_type": "markdown",
   "metadata": {},
   "source": [
    "### Missing Value"
   ]
  },
  {
   "cell_type": "code",
   "execution_count": 9,
   "metadata": {},
   "outputs": [
    {
     "data": {
      "text/plain": [
       "Country                              0\n",
       "Year                                 0\n",
       "Status                               0\n",
       "Life expectancy                     10\n",
       "Adult Mortality                     10\n",
       "infant deaths                        0\n",
       "Alcohol                            194\n",
       "percentage expenditure               0\n",
       "Hepatitis B                        553\n",
       "Measles                              0\n",
       "BMI                                 34\n",
       "under-five deaths                    0\n",
       "Polio                               19\n",
       "Total expenditure                  226\n",
       "Diphtheria                          19\n",
       "HIV/AIDS                             0\n",
       "GDP                                448\n",
       "Population                         652\n",
       "thinness  1-19 years                34\n",
       "thinness 5-9 years                  34\n",
       "Income composition of resources    167\n",
       "Schooling                          163\n",
       "Developing                           0\n",
       "dtype: int64"
      ]
     },
     "execution_count": 9,
     "metadata": {},
     "output_type": "execute_result"
    }
   ],
   "source": [
    "life_df2.isnull().sum()"
   ]
  },
  {
   "cell_type": "code",
   "execution_count": null,
   "metadata": {},
   "outputs": [],
   "source": []
  },
  {
   "cell_type": "code",
   "execution_count": 10,
   "metadata": {},
   "outputs": [],
   "source": [
    "life_df3=life_df2.copy()"
   ]
  },
  {
   "cell_type": "code",
   "execution_count": 11,
   "metadata": {},
   "outputs": [],
   "source": [
    "life_df3[\"Life expectancy\"]=life_df3[\"Life expectancy\"].fillna(life_df3.groupby(\"Country\")[\"Life expectancy\"].transform(\"mean\"))\n",
    "life_df3[\"Life expectancy\"]=life_df3[\"Life expectancy\"].fillna(life_df3[\"Life expectancy\"].mean())\n",
    "\n",
    "life_df3[\"Adult Mortality\"]=life_df3[\"Adult Mortality\"].fillna(life_df3.groupby(\"Country\")[\"Adult Mortality\"].transform(\"mean\"))\n",
    "life_df3[\"Adult Mortality\"]=life_df3[\"Adult Mortality\"].fillna(life_df3[\"Adult Mortality\"].mean())\n",
    "\n",
    "life_df3[\"Alcohol\"]=life_df3[\"Alcohol\"].fillna(life_df3.groupby(\"Country\")[\"Alcohol\"].transform(\"mean\"))\n",
    "life_df3[\"Alcohol\"]=life_df3[\"Alcohol\"].fillna(life_df3[\"Alcohol\"].mean())\n",
    "\n",
    "life_df3[\"Hepatitis B\"]=life_df3[\"Hepatitis B\"].fillna(life_df3.groupby(\"Country\")[\"Hepatitis B\"].transform(\"mean\"))\n",
    "life_df3[\"Hepatitis B\"]=life_df3[\"Hepatitis B\"].fillna(life_df3[\"Hepatitis B\"].mean())\n",
    "\n",
    "life_df3[\"BMI\"]=life_df3[\"BMI\"].fillna(life_df3.groupby(\"Country\")[\"BMI\"].transform(\"mean\"))\n",
    "life_df3[\"BMI\"]=life_df3[\"BMI\"].fillna(life_df3[\"BMI\"].mean())\n",
    "\n",
    "life_df3[\"Polio\"]=life_df3[\"Polio\"].fillna(life_df3.groupby(\"Country\")[\"Polio\"].transform(\"mean\"))\n",
    "life_df3[\"Polio\"]=life_df3[\"Polio\"].fillna(life_df3[\"Polio\"].mean())\n",
    "\n",
    "life_df3[\"Total expenditure\"]=life_df3[\"Total expenditure\"].fillna(life_df3.groupby(\"Country\")[\"Total expenditure\"].transform(\"mean\"))\n",
    "life_df3[\"Total expenditure\"]=life_df3[\"Total expenditure\"].fillna(life_df3[\"Total expenditure\"].mean())\n",
    "\n",
    "life_df3[\"Diphtheria\"]=life_df3[\"Diphtheria\"].fillna(life_df3.groupby(\"Country\")[\"Diphtheria\"].transform(\"mean\"))\n",
    "life_df3[\"Diphtheria\"]=life_df3[\"Diphtheria\"].fillna(life_df3[\"Diphtheria\"].mean())\n",
    "\n",
    "life_df3[\"GDP\"]=life_df3[\"GDP\"].fillna(life_df3.groupby(\"Country\")[\"GDP\"].transform(\"mean\"))\n",
    "life_df3[\"GDP\"]=life_df3[\"GDP\"].fillna(life_df3[\"GDP\"].mean())\n",
    "\n",
    "life_df3[\"Population\"]=life_df3[\"Population\"].fillna(life_df3.groupby(\"Country\")[\"Population\"].transform(\"mean\"))\n",
    "life_df3[\"Population\"]=life_df3[\"Population\"].fillna(life_df3[\"Population\"].mean())\n",
    "\n",
    "life_df3[\"thinness  1-19 years\"]=life_df3[\"thinness  1-19 years\"].fillna(life_df3.groupby(\"Country\")[\"thinness  1-19 years\"].transform(\"mean\"))\n",
    "life_df3[\"thinness  1-19 years\"]=life_df3[\"thinness  1-19 years\"].fillna(life_df3[\"thinness  1-19 years\"].mean())\n",
    "\n",
    "life_df3[\"thinness 5-9 years\"]=life_df3[\"thinness 5-9 years\"].fillna(life_df3.groupby(\"Country\")[\"thinness 5-9 years\"].transform(\"mean\"))\n",
    "life_df3[\"thinness 5-9 years\"]=life_df3[\"thinness 5-9 years\"].fillna(life_df3[\"thinness 5-9 years\"].mean())\n",
    "\n",
    "life_df3[\"Income composition of resources\"]=life_df3[\"Income composition of resources\"].fillna(life_df3.groupby(\"Country\")[\"Income composition of resources\"].transform(\"mean\"))\n",
    "life_df3[\"Income composition of resources\"]=life_df3[\"Income composition of resources\"].fillna(life_df3[\"Income composition of resources\"].mean())\n",
    "\n",
    "life_df3[\"Schooling\"]=life_df3[\"Schooling\"].fillna(life_df3.groupby(\"Country\")[\"Schooling\"].transform(\"mean\"))\n",
    "life_df3[\"Schooling\"]=life_df3[\"Schooling\"].fillna(life_df3[\"Schooling\"].mean())"
   ]
  },
  {
   "cell_type": "code",
   "execution_count": 12,
   "metadata": {},
   "outputs": [
    {
     "data": {
      "text/plain": [
       "Country                            0\n",
       "Year                               0\n",
       "Status                             0\n",
       "Life expectancy                    0\n",
       "Adult Mortality                    0\n",
       "infant deaths                      0\n",
       "Alcohol                            0\n",
       "percentage expenditure             0\n",
       "Hepatitis B                        0\n",
       "Measles                            0\n",
       "BMI                                0\n",
       "under-five deaths                  0\n",
       "Polio                              0\n",
       "Total expenditure                  0\n",
       "Diphtheria                         0\n",
       "HIV/AIDS                           0\n",
       "GDP                                0\n",
       "Population                         0\n",
       "thinness  1-19 years               0\n",
       "thinness 5-9 years                 0\n",
       "Income composition of resources    0\n",
       "Schooling                          0\n",
       "Developing                         0\n",
       "dtype: int64"
      ]
     },
     "execution_count": 12,
     "metadata": {},
     "output_type": "execute_result"
    }
   ],
   "source": [
    "life_df3.isnull().sum()"
   ]
  },
  {
   "cell_type": "code",
   "execution_count": null,
   "metadata": {},
   "outputs": [],
   "source": []
  },
  {
   "cell_type": "markdown",
   "metadata": {},
   "source": [
    "## 1. Classification"
   ]
  },
  {
   "cell_type": "markdown",
   "metadata": {},
   "source": [
    "**Train Model**"
   ]
  },
  {
   "cell_type": "code",
   "execution_count": 13,
   "metadata": {},
   "outputs": [],
   "source": [
    "y_dt = life_df3['Developing']\n",
    "X_dt = life_df3.drop(['Developing', 'Year', 'Status', 'Country'], axis=1)"
   ]
  },
  {
   "cell_type": "code",
   "execution_count": 14,
   "metadata": {},
   "outputs": [],
   "source": [
    "X_dt_train, X_dt_test, y_dt_train, y_dt_test =  train_test_split(X_dt, y_dt, test_size=0.20, random_state=111)"
   ]
  },
  {
   "cell_type": "code",
   "execution_count": 15,
   "metadata": {},
   "outputs": [
    {
     "data": {
      "text/plain": [
       "DecisionTreeClassifier(criterion='entropy', max_depth=3, random_state=100)"
      ]
     },
     "execution_count": 15,
     "metadata": {},
     "output_type": "execute_result"
    }
   ],
   "source": [
    "decision_tree = DecisionTreeClassifier(criterion='entropy', max_depth=3,random_state = 100)\n",
    "decision_tree.fit(X_dt_train, y_dt_train)"
   ]
  },
  {
   "cell_type": "code",
   "execution_count": null,
   "metadata": {},
   "outputs": [],
   "source": []
  },
  {
   "cell_type": "markdown",
   "metadata": {},
   "source": [
    "**Prediction**"
   ]
  },
  {
   "cell_type": "code",
   "execution_count": 16,
   "metadata": {},
   "outputs": [],
   "source": [
    "y_pred_dt_train = decision_tree.predict(X_dt_train)\n",
    "y_pred_dt_test = decision_tree.predict(X_dt_test)\n"
   ]
  },
  {
   "cell_type": "code",
   "execution_count": 17,
   "metadata": {},
   "outputs": [
    {
     "name": "stdout",
     "output_type": "stream",
     "text": [
      "Decision Tree Accuracy        : 0.936170\n"
     ]
    }
   ],
   "source": [
    "accuracy_dt=accuracy_score(y_pred_dt_train, y_dt_train )\n",
    "print(\"Decision Tree Accuracy        : {:.6f}\".format(accuracy_dt))"
   ]
  },
  {
   "cell_type": "code",
   "execution_count": 18,
   "metadata": {},
   "outputs": [
    {
     "name": "stdout",
     "output_type": "stream",
     "text": [
      "R-squared of the model in training set is: 0.9361702127659575\n",
      "-----Test set statistics-----\n",
      "R-squared of the model in test set is: 0.935374149659864\n"
     ]
    }
   ],
   "source": [
    "print(\"R-squared of the model in training set is: {}\".format(decision_tree.score(X_dt_train, y_dt_train)))\n",
    "print(\"-----Test set statistics-----\")\n",
    "print(\"R-squared of the model in test set is: {}\".format(decision_tree.score(X_dt_test, y_dt_test)))\n"
   ]
  },
  {
   "cell_type": "code",
   "execution_count": null,
   "metadata": {},
   "outputs": [],
   "source": []
  },
  {
   "cell_type": "markdown",
   "metadata": {},
   "source": [
    "**Performance Measuring**"
   ]
  },
  {
   "cell_type": "code",
   "execution_count": 21,
   "metadata": {},
   "outputs": [
    {
     "name": "stdout",
     "output_type": "stream",
     "text": [
      "              precision    recall  f1-score   support\n",
      "\n",
      "           0       0.73      0.96      0.83        96\n",
      "           1       0.99      0.93      0.96       492\n",
      "\n",
      "    accuracy                           0.94       588\n",
      "   macro avg       0.86      0.94      0.89       588\n",
      "weighted avg       0.95      0.94      0.94       588\n",
      "\n",
      "f1_score() value        : 0.96\n",
      "recall_score() value    : 0.93\n",
      "precision_score() value : 0.99\n",
      "\n",
      "\n",
      "Precision  : [0.73015873 0.99134199]\n",
      "Recall     : [0.95833333 0.93089431]\n",
      "F1 Score   : [0.82882883 0.96016771]\n"
     ]
    }
   ],
   "source": [
    "print(classification_report(y_dt_test, y_pred_dt_test))\n",
    "\n",
    "print(\"f1_score() value        : {:.2f}\".format(f1_score(y_dt_test, y_pred_dt_test)))\n",
    "print(\"recall_score() value    : {:.2f}\".format(recall_score(y_dt_test, y_pred_dt_test)))\n",
    "print(\"precision_score() value : {:.2f}\".format(precision_score(y_dt_test, y_pred_dt_test)))\n",
    "print('\\n')\n",
    "\n",
    "metrics = precision_recall_fscore_support(y_dt_test, y_pred_dt_test)\n",
    "print(\"Precision  :\" , metrics[0]) \n",
    "print(\"Recall     :\" , metrics[1]) \n",
    "print(\"F1 Score   :\" , metrics[2]) "
   ]
  },
  {
   "cell_type": "code",
   "execution_count": null,
   "metadata": {},
   "outputs": [],
   "source": []
  },
  {
   "cell_type": "markdown",
   "metadata": {},
   "source": [
    "**KFold - Cross Validation**"
   ]
  },
  {
   "cell_type": "markdown",
   "metadata": {},
   "source": [
    "**Train**"
   ]
  },
  {
   "cell_type": "code",
   "execution_count": 23,
   "metadata": {},
   "outputs": [
    {
     "name": "stdout",
     "output_type": "stream",
     "text": [
      "cv =  2 ---> Average cross validation score :  0.9182978723404256\n",
      "cv =  3 ---> Average cross validation score :  0.9191498119043274\n",
      "cv =  4 ---> Average cross validation score :  0.9242538156659598\n",
      "cv =  5 ---> Average cross validation score :  0.9289361702127661\n",
      "cv =  6 ---> Average cross validation score :  0.9246742175130923\n",
      "cv = 7 ---> Average cross validation score  :  0.9251075181011486\n"
     ]
    }
   ],
   "source": [
    "cvscores_2 = cross_val_score(decision_tree, X_dt_train, y_dt_train, cv=2)\n",
    "print('cv =  2 ---> Average cross validation score : ', np.mean(cvscores_2))\n",
    "\n",
    "cvscores_3 = cross_val_score(decision_tree, X_dt_train, y_dt_train, cv=3)\n",
    "print('cv =  3 ---> Average cross validation score : ', np.mean(cvscores_3))\n",
    "\n",
    "cvscores_4 = cross_val_score(decision_tree, X_dt_train, y_dt_train, cv=4)\n",
    "print('cv =  4 ---> Average cross validation score : ', np.mean(cvscores_4))\n",
    "\n",
    "cvscores_5 = cross_val_score(decision_tree, X_dt_train, y_dt_train, cv=5)\n",
    "print('cv =  5 ---> Average cross validation score : ', np.mean(cvscores_5))\n",
    "\n",
    "cvscores_6 = cross_val_score(decision_tree, X_dt_train, y_dt_train, cv=6)\n",
    "print('cv =  6 ---> Average cross validation score : ', np.mean(cvscores_6))\n",
    "\n",
    "cvscores_7 = cross_val_score(decision_tree, X_dt_train, y_dt_train, cv=15)\n",
    "print('cv = 7 ---> Average cross validation score  : ', np.mean(cvscores_7))"
   ]
  },
  {
   "cell_type": "code",
   "execution_count": null,
   "metadata": {},
   "outputs": [],
   "source": []
  },
  {
   "cell_type": "markdown",
   "metadata": {},
   "source": [
    "**Test**"
   ]
  },
  {
   "cell_type": "code",
   "execution_count": 24,
   "metadata": {},
   "outputs": [
    {
     "name": "stdout",
     "output_type": "stream",
     "text": [
      "cv =  2 ---> Average cross validation score :  0.9251700680272109\n",
      "cv =  3 ---> Average cross validation score :  0.9217687074829932\n",
      "cv =  4 ---> Average cross validation score :  0.9166666666666667\n",
      "cv =  5 ---> Average cross validation score :  0.9132695929306098\n",
      "cv =  6 ---> Average cross validation score :  0.9047619047619048\n",
      "cv = 7 ---> Average cross validation score  :  0.9269140853302161\n"
     ]
    }
   ],
   "source": [
    "cvscores_2 = cross_val_score(decision_tree, X_dt_test, y_dt_test, cv=2)\n",
    "print('cv =  2 ---> Average cross validation score : ', np.mean(cvscores_2))\n",
    "\n",
    "cvscores_3 = cross_val_score(decision_tree, X_dt_test, y_dt_test, cv=3)\n",
    "print('cv =  3 ---> Average cross validation score : ', np.mean(cvscores_3))\n",
    "\n",
    "cvscores_4 = cross_val_score(decision_tree, X_dt_test, y_dt_test, cv=4)\n",
    "print('cv =  4 ---> Average cross validation score : ', np.mean(cvscores_4))\n",
    "\n",
    "cvscores_5 = cross_val_score(decision_tree, X_dt_test, y_dt_test, cv=5)\n",
    "print('cv =  5 ---> Average cross validation score : ', np.mean(cvscores_5))\n",
    "\n",
    "cvscores_6 = cross_val_score(decision_tree, X_dt_test, y_dt_test, cv=6)\n",
    "print('cv =  6 ---> Average cross validation score : ', np.mean(cvscores_6))\n",
    "\n",
    "cvscores_7 = cross_val_score(decision_tree, X_dt_test, y_dt_test, cv=10)\n",
    "print('cv = 7 ---> Average cross validation score  : ', np.mean(cvscores_7))"
   ]
  },
  {
   "cell_type": "code",
   "execution_count": null,
   "metadata": {},
   "outputs": [],
   "source": []
  },
  {
   "cell_type": "markdown",
   "metadata": {},
   "source": [
    "## 2. Regression"
   ]
  },
  {
   "cell_type": "markdown",
   "metadata": {},
   "source": [
    "**Train Model**"
   ]
  },
  {
   "cell_type": "code",
   "execution_count": 25,
   "metadata": {},
   "outputs": [],
   "source": [
    "y_dt2 = life_df3['Life expectancy']\n",
    "X_dt2 = life_df3.drop(['Life expectancy', 'Status', 'Country'], axis=1)"
   ]
  },
  {
   "cell_type": "code",
   "execution_count": 26,
   "metadata": {},
   "outputs": [],
   "source": [
    "X_dt2_train, X_dt2_test, y_dt2_train, y_dt2_test =  train_test_split(X_dt2, y_dt2, test_size=0.20, random_state=111)"
   ]
  },
  {
   "cell_type": "code",
   "execution_count": 27,
   "metadata": {},
   "outputs": [
    {
     "data": {
      "text/plain": [
       "DecisionTreeRegressor(max_depth=3, random_state=100)"
      ]
     },
     "execution_count": 27,
     "metadata": {},
     "output_type": "execute_result"
    }
   ],
   "source": [
    "decision_tree2 = DecisionTreeRegressor(max_depth=3,random_state = 100)\n",
    "decision_tree2.fit(X_dt2_train, y_dt2_train) "
   ]
  },
  {
   "cell_type": "code",
   "execution_count": null,
   "metadata": {},
   "outputs": [],
   "source": []
  },
  {
   "cell_type": "markdown",
   "metadata": {},
   "source": [
    "**Prediction**"
   ]
  },
  {
   "cell_type": "code",
   "execution_count": 28,
   "metadata": {},
   "outputs": [],
   "source": [
    "y_pred_dt2_train = decision_tree2.predict(X_dt2_train)\n",
    "y_pred_dt2_test = decision_tree2.predict(X_dt2_test)\n"
   ]
  },
  {
   "cell_type": "code",
   "execution_count": 29,
   "metadata": {},
   "outputs": [
    {
     "name": "stdout",
     "output_type": "stream",
     "text": [
      "R-squared of the model in training set is: 0.8240643615821139\n",
      "-----Test set statistics-----\n",
      "R-squared of the model in test set is: 0.815861306183393\n",
      "Mean absolute error (MAE) of the prediction is: 2.963655078653932\n",
      "Mean squared error (MSE) of the prediction is: 16.030229556412966\n",
      "Root mean squared error (RMSE) of the prediction is: 4.003776911419137\n",
      "Mean absolute percentage error (MAPE) of the prediction is: 4.502807815780812\n"
     ]
    }
   ],
   "source": [
    "print(\"R-squared of the model in training set is: {}\".format(decision_tree2.score(X_dt2_train, y_dt2_train)))\n",
    "print(\"-----Test set statistics-----\")\n",
    "print(\"R-squared of the model in test set is: {}\".format(decision_tree2.score(X_dt2_test, y_dt2_test)))\n",
    "print(\"Mean absolute error (MAE) of the prediction is: {}\".format(mean_absolute_error(y_dt2_test, y_pred_dt2_test)))\n",
    "print(\"Mean squared error (MSE) of the prediction is: {}\".format(mse(y_dt2_test, y_pred_dt2_test)))\n",
    "print(\"Root mean squared error (RMSE) of the prediction is: {}\".format(rmse(y_dt2_test, y_pred_dt2_test)))\n",
    "print(\"Mean absolute percentage error (MAPE) of the prediction is: {}\".format(np.mean(np.abs((y_dt2_test - y_pred_dt2_test) / y_dt2_test)) * 100))"
   ]
  },
  {
   "cell_type": "code",
   "execution_count": null,
   "metadata": {},
   "outputs": [],
   "source": []
  },
  {
   "cell_type": "markdown",
   "metadata": {},
   "source": [
    "**KFold - Cross Validation**"
   ]
  },
  {
   "cell_type": "markdown",
   "metadata": {},
   "source": [
    "**Train**"
   ]
  },
  {
   "cell_type": "code",
   "execution_count": 30,
   "metadata": {},
   "outputs": [
    {
     "name": "stdout",
     "output_type": "stream",
     "text": [
      "cv =  2 ---> Average cross validation score :  0.8003124418723042\n",
      "cv =  3 ---> Average cross validation score :  0.8021054816621414\n",
      "cv =  4 ---> Average cross validation score :  0.804489833214666\n",
      "cv =  5 ---> Average cross validation score :  0.8093954345689788\n",
      "cv =  6 ---> Average cross validation score :  0.8028858141034788\n",
      "cv = 7 ---> Average cross validation score  :  0.8032463784114938\n"
     ]
    }
   ],
   "source": [
    "cvscores_2 = cross_val_score(decision_tree2, X_dt2_train, y_dt2_train, cv=2)\n",
    "print('cv =  2 ---> Average cross validation score : ', np.mean(cvscores_2))\n",
    "\n",
    "cvscores_3 = cross_val_score(decision_tree2, X_dt2_train, y_dt2_train, cv=3)\n",
    "print('cv =  3 ---> Average cross validation score : ', np.mean(cvscores_3))\n",
    "\n",
    "cvscores_4 = cross_val_score(decision_tree2, X_dt2_train, y_dt2_train, cv=4)\n",
    "print('cv =  4 ---> Average cross validation score : ', np.mean(cvscores_4))\n",
    "\n",
    "cvscores_5 = cross_val_score(decision_tree2, X_dt2_train, y_dt2_train, cv=5)\n",
    "print('cv =  5 ---> Average cross validation score : ', np.mean(cvscores_5))\n",
    "\n",
    "cvscores_6 = cross_val_score(decision_tree2, X_dt2_train, y_dt2_train, cv=6)\n",
    "print('cv =  6 ---> Average cross validation score : ', np.mean(cvscores_6))\n",
    "\n",
    "cvscores_7 = cross_val_score(decision_tree2, X_dt2_train, y_dt2_train, cv=15)\n",
    "print('cv = 7 ---> Average cross validation score  : ', np.mean(cvscores_7))"
   ]
  },
  {
   "cell_type": "code",
   "execution_count": null,
   "metadata": {},
   "outputs": [],
   "source": []
  },
  {
   "cell_type": "markdown",
   "metadata": {},
   "source": [
    "**Test**"
   ]
  },
  {
   "cell_type": "code",
   "execution_count": 31,
   "metadata": {},
   "outputs": [
    {
     "name": "stdout",
     "output_type": "stream",
     "text": [
      "cv =  2 ---> Average cross validation score :  0.7951718369579226\n",
      "cv =  3 ---> Average cross validation score :  0.8233237196662699\n",
      "cv =  4 ---> Average cross validation score :  0.8001321599006173\n",
      "cv =  5 ---> Average cross validation score :  0.8168510660794143\n",
      "cv =  6 ---> Average cross validation score :  0.81379051705478\n",
      "cv = 7 ---> Average cross validation score  :  0.8004044652425905\n"
     ]
    }
   ],
   "source": [
    "cvscores_2 = cross_val_score(decision_tree2, X_dt2_test, y_dt2_test, cv=2)\n",
    "print('cv =  2 ---> Average cross validation score : ', np.mean(cvscores_2))\n",
    "\n",
    "cvscores_3 = cross_val_score(decision_tree2, X_dt2_test, y_dt2_test, cv=3)\n",
    "print('cv =  3 ---> Average cross validation score : ', np.mean(cvscores_3))\n",
    "\n",
    "cvscores_4 = cross_val_score(decision_tree2, X_dt2_test, y_dt2_test, cv=4)\n",
    "print('cv =  4 ---> Average cross validation score : ', np.mean(cvscores_4))\n",
    "\n",
    "cvscores_5 = cross_val_score(decision_tree2, X_dt2_test, y_dt2_test, cv=5)\n",
    "print('cv =  5 ---> Average cross validation score : ', np.mean(cvscores_5))\n",
    "\n",
    "cvscores_6 = cross_val_score(decision_tree2, X_dt2_test, y_dt2_test, cv=6)\n",
    "print('cv =  6 ---> Average cross validation score : ', np.mean(cvscores_6))\n",
    "\n",
    "cvscores_7 = cross_val_score(decision_tree2, X_dt2_test, y_dt2_test, cv=15)\n",
    "print('cv = 7 ---> Average cross validation score  : ', np.mean(cvscores_7))"
   ]
  },
  {
   "cell_type": "code",
   "execution_count": null,
   "metadata": {},
   "outputs": [],
   "source": []
  }
 ],
 "metadata": {
  "kernelspec": {
   "display_name": "Python 3",
   "language": "python",
   "name": "python3"
  },
  "language_info": {
   "codemirror_mode": {
    "name": "ipython",
    "version": 3
   },
   "file_extension": ".py",
   "mimetype": "text/x-python",
   "name": "python",
   "nbconvert_exporter": "python",
   "pygments_lexer": "ipython3",
   "version": "3.8.8"
  }
 },
 "nbformat": 4,
 "nbformat_minor": 4
}
