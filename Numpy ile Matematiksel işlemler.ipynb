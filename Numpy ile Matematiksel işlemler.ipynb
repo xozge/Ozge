{
 "cells": [
  {
   "cell_type": "markdown",
   "metadata": {},
   "source": [
    "# NUMPY MATEMATİKSEL İŞLEMLER"
   ]
  },
  {
   "cell_type": "markdown",
   "metadata": {},
   "source": [
    "**1. Önceki derste kaydettiğiniz diziyi diskten yükleyin**"
   ]
  },
  {
   "cell_type": "code",
   "execution_count": 2,
   "metadata": {},
   "outputs": [],
   "source": [
    "import numpy as np\n",
    "import pandas as pd"
   ]
  },
  {
   "cell_type": "code",
   "execution_count": 3,
   "metadata": {},
   "outputs": [
    {
     "name": "stdout",
     "output_type": "stream",
     "text": [
      "      Unnamed: 0       0    1    2    3    4        5        6      7    8  \\\n",
      "0              0     1.0  1.0  1.0  1.0  1.0   1.0000   1.0000   1.00  1.0   \n",
      "1              1     2.0  0.0  0.0  0.0  0.0  37.6878  37.4016  10.27  0.0   \n",
      "2              2     3.0  0.0  0.0  0.0  0.0  37.2003  30.4376  78.07  0.0   \n",
      "3              3     4.0  0.0  0.0  0.0  0.0  35.6846  26.7266  42.77  0.0   \n",
      "4              4     5.0  0.0  0.0  0.0  0.0  36.4171  28.6991  14.86  0.0   \n",
      "...          ...     ...  ...  ...  ...  ...      ...      ...    ...  ...   \n",
      "6568        6568  6569.0  6.0  0.0  2.0  0.0  38.1200  31.2900  10.00  0.0   \n",
      "6569        6569  6570.0  5.0  0.0  2.0  0.0  37.8300  27.7100  10.00  0.0   \n",
      "6570        6570  6571.0  4.0  0.0  2.0  0.0  37.6300  37.3700  10.00  0.0   \n",
      "6571        6571  6572.0  3.0  0.0  2.0  0.0  39.5400  26.1400  10.00  0.0   \n",
      "6572        6572  6573.0  2.0  0.0  2.0  0.0  37.7900  28.2100  10.00  0.0   \n",
      "\n",
      "        9   10   11   12   13   14  \n",
      "0     1.0  1.0  1.0  1.0  1.0  1.0  \n",
      "1     7.0  0.0  0.0  4.4  7.0  0.0  \n",
      "2     7.0  0.0  0.0  4.0  7.0  0.0  \n",
      "3     7.0  0.0  0.0  4.5  7.0  0.0  \n",
      "4     7.0  0.0  0.0  4.1  7.0  0.0  \n",
      "...   ...  ...  ...  ...  ...  ...  \n",
      "6568  2.0  0.0  0.0  5.7  2.0  0.0  \n",
      "6569  2.0  0.0  0.0  4.4  2.0  0.0  \n",
      "6570  2.0  0.0  0.0  4.8  2.0  0.0  \n",
      "6571  2.0  0.0  0.0  5.2  2.0  0.0  \n",
      "6572  2.0  0.0  0.0  4.4  2.0  0.0  \n",
      "\n",
      "[6573 rows x 16 columns]\n",
      "(6573, 16)\n",
      "veri dizisi:\n",
      "[[0.000e+00 1.000e+00 1.000e+00 ... 1.000e+00 1.000e+00 1.000e+00]\n",
      " [1.000e+00 2.000e+00 0.000e+00 ... 4.400e+00 7.000e+00 0.000e+00]\n",
      " [2.000e+00 3.000e+00 0.000e+00 ... 4.000e+00 7.000e+00 0.000e+00]\n",
      " ...\n",
      " [6.570e+03 6.571e+03 4.000e+00 ... 4.800e+00 2.000e+00 0.000e+00]\n",
      " [6.571e+03 6.572e+03 3.000e+00 ... 5.200e+00 2.000e+00 0.000e+00]\n",
      " [6.572e+03 6.573e+03 2.000e+00 ... 4.400e+00 2.000e+00 0.000e+00]]\n"
     ]
    }
   ],
   "source": [
    "DF1=pd.read_csv(\"data1.csv\")\n",
    "\n",
    "DF2=np.array(DF1)\n",
    "\n",
    "print(DF1)\n",
    "print(DF1.shape)\n",
    "print(\"veri dizisi:\")\n",
    "print(DF2)\n"
   ]
  },
  {
   "cell_type": "code",
   "execution_count": null,
   "metadata": {},
   "outputs": [],
   "source": []
  },
  {
   "cell_type": "markdown",
   "metadata": {},
   "source": [
    "**2. Her sütun için ortalama ve standart sapmayı görüntüleyin.**"
   ]
  },
  {
   "cell_type": "code",
   "execution_count": 4,
   "metadata": {},
   "outputs": [
    {
     "name": "stdout",
     "output_type": "stream",
     "text": [
      "761.9583082477561\n",
      "2024.5709293064842\n"
     ]
    }
   ],
   "source": [
    "print(np.mean(DF2))\n",
    "print(np.std(DF2))\n"
   ]
  },
  {
   "cell_type": "code",
   "execution_count": null,
   "metadata": {},
   "outputs": [],
   "source": []
  },
  {
   "cell_type": "markdown",
   "metadata": {},
   "source": [
    "**3. Sırayla sütunlardan 1, 25, 25, 10, 4 çıkarın. (Bir satır kodda çıkarılabileceğini unutmayın.)**"
   ]
  },
  {
   "cell_type": "code",
   "execution_count": 5,
   "metadata": {},
   "outputs": [
    {
     "data": {
      "text/plain": [
       "array([[-1.000e+00,  0.000e+00,  0.000e+00, ...,  0.000e+00,  0.000e+00,\n",
       "         0.000e+00],\n",
       "       [ 0.000e+00,  1.000e+00, -1.000e+00, ...,  3.400e+00,  6.000e+00,\n",
       "        -1.000e+00],\n",
       "       [ 1.000e+00,  2.000e+00, -1.000e+00, ...,  3.000e+00,  6.000e+00,\n",
       "        -1.000e+00],\n",
       "       ...,\n",
       "       [ 6.569e+03,  6.570e+03,  3.000e+00, ...,  3.800e+00,  1.000e+00,\n",
       "        -1.000e+00],\n",
       "       [ 6.570e+03,  6.571e+03,  2.000e+00, ...,  4.200e+00,  1.000e+00,\n",
       "        -1.000e+00],\n",
       "       [ 6.571e+03,  6.572e+03,  1.000e+00, ...,  3.400e+00,  1.000e+00,\n",
       "        -1.000e+00]])"
      ]
     },
     "execution_count": 5,
     "metadata": {},
     "output_type": "execute_result"
    }
   ],
   "source": [
    "DF2-1\n"
   ]
  },
  {
   "cell_type": "code",
   "execution_count": 6,
   "metadata": {},
   "outputs": [
    {
     "data": {
      "text/plain": [
       "array([[ -25. ,  -24. ,  -24. , ...,  -24. ,  -24. ,  -24. ],\n",
       "       [ -24. ,  -23. ,  -25. , ...,  -20.6,  -18. ,  -25. ],\n",
       "       [ -23. ,  -22. ,  -25. , ...,  -21. ,  -18. ,  -25. ],\n",
       "       ...,\n",
       "       [6545. , 6546. ,  -21. , ...,  -20.2,  -23. ,  -25. ],\n",
       "       [6546. , 6547. ,  -22. , ...,  -19.8,  -23. ,  -25. ],\n",
       "       [6547. , 6548. ,  -23. , ...,  -20.6,  -23. ,  -25. ]])"
      ]
     },
     "execution_count": 6,
     "metadata": {},
     "output_type": "execute_result"
    }
   ],
   "source": [
    "DF2-25"
   ]
  },
  {
   "cell_type": "code",
   "execution_count": 7,
   "metadata": {},
   "outputs": [
    {
     "data": {
      "text/plain": [
       "array([[-1.000e+01, -9.000e+00, -9.000e+00, ..., -9.000e+00, -9.000e+00,\n",
       "        -9.000e+00],\n",
       "       [-9.000e+00, -8.000e+00, -1.000e+01, ..., -5.600e+00, -3.000e+00,\n",
       "        -1.000e+01],\n",
       "       [-8.000e+00, -7.000e+00, -1.000e+01, ..., -6.000e+00, -3.000e+00,\n",
       "        -1.000e+01],\n",
       "       ...,\n",
       "       [ 6.560e+03,  6.561e+03, -6.000e+00, ..., -5.200e+00, -8.000e+00,\n",
       "        -1.000e+01],\n",
       "       [ 6.561e+03,  6.562e+03, -7.000e+00, ..., -4.800e+00, -8.000e+00,\n",
       "        -1.000e+01],\n",
       "       [ 6.562e+03,  6.563e+03, -8.000e+00, ..., -5.600e+00, -8.000e+00,\n",
       "        -1.000e+01]])"
      ]
     },
     "execution_count": 7,
     "metadata": {},
     "output_type": "execute_result"
    }
   ],
   "source": [
    "DF2-10"
   ]
  },
  {
   "cell_type": "code",
   "execution_count": 8,
   "metadata": {},
   "outputs": [
    {
     "data": {
      "text/plain": [
       "array([[-4.000e+00, -3.000e+00, -3.000e+00, ..., -3.000e+00, -3.000e+00,\n",
       "        -3.000e+00],\n",
       "       [-3.000e+00, -2.000e+00, -4.000e+00, ...,  4.000e-01,  3.000e+00,\n",
       "        -4.000e+00],\n",
       "       [-2.000e+00, -1.000e+00, -4.000e+00, ...,  0.000e+00,  3.000e+00,\n",
       "        -4.000e+00],\n",
       "       ...,\n",
       "       [ 6.566e+03,  6.567e+03,  0.000e+00, ...,  8.000e-01, -2.000e+00,\n",
       "        -4.000e+00],\n",
       "       [ 6.567e+03,  6.568e+03, -1.000e+00, ...,  1.200e+00, -2.000e+00,\n",
       "        -4.000e+00],\n",
       "       [ 6.568e+03,  6.569e+03, -2.000e+00, ...,  4.000e-01, -2.000e+00,\n",
       "        -4.000e+00]])"
      ]
     },
     "execution_count": 8,
     "metadata": {},
     "output_type": "execute_result"
    }
   ],
   "source": [
    "DF2-4"
   ]
  },
  {
   "cell_type": "code",
   "execution_count": null,
   "metadata": {},
   "outputs": [],
   "source": []
  },
  {
   "cell_type": "markdown",
   "metadata": {},
   "source": [
    "**4. Her bir öğeyi 2 ile çarpın. (Bir kod satırında çarpılabileceğini unutmayın.)**"
   ]
  },
  {
   "cell_type": "code",
   "execution_count": 6,
   "metadata": {},
   "outputs": [
    {
     "name": "stdout",
     "output_type": "stream",
     "text": [
      "[[0.0000e+00 2.0000e+00 2.0000e+00 ... 2.0000e+00 2.0000e+00 2.0000e+00]\n",
      " [2.0000e+00 4.0000e+00 0.0000e+00 ... 8.8000e+00 1.4000e+01 0.0000e+00]\n",
      " [4.0000e+00 6.0000e+00 0.0000e+00 ... 8.0000e+00 1.4000e+01 0.0000e+00]\n",
      " ...\n",
      " [1.3140e+04 1.3142e+04 8.0000e+00 ... 9.6000e+00 4.0000e+00 0.0000e+00]\n",
      " [1.3142e+04 1.3144e+04 6.0000e+00 ... 1.0400e+01 4.0000e+00 0.0000e+00]\n",
      " [1.3144e+04 1.3146e+04 4.0000e+00 ... 8.8000e+00 4.0000e+00 0.0000e+00]]\n"
     ]
    }
   ],
   "source": [
    "print(DF2 * 2)"
   ]
  },
  {
   "cell_type": "code",
   "execution_count": null,
   "metadata": {},
   "outputs": [],
   "source": []
  }
 ],
 "metadata": {
  "kernelspec": {
   "display_name": "Python 3",
   "language": "python",
   "name": "python3"
  },
  "language_info": {
   "codemirror_mode": {
    "name": "ipython",
    "version": 3
   },
   "file_extension": ".py",
   "mimetype": "text/x-python",
   "name": "python",
   "nbconvert_exporter": "python",
   "pygments_lexer": "ipython3",
   "version": "3.8.8"
  }
 },
 "nbformat": 4,
 "nbformat_minor": 4
}
