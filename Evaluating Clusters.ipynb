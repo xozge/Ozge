{
 "cells": [
  {
   "cell_type": "markdown",
   "id": "ba62dea3",
   "metadata": {},
   "source": [
    "# Evaluating Clusters"
   ]
  },
  {
   "cell_type": "markdown",
   "id": "cded072a",
   "metadata": {},
   "source": [
    "# Q.1"
   ]
  },
  {
   "cell_type": "markdown",
   "id": "50aae0d8",
   "metadata": {},
   "source": [
    "\n",
    "Get the silhoutte coefficient of the two cluster k-means solution. You'll notice that the silhoutte coefficient will turn out to be greater than the one above where cluster number is three. We know that the Iris dataset consists of three different clusters. How do you explain that the silhoutte score of the solution with the number of clusters being equal to the correct number of classes is lower than the one where the number of clusters is different from the correct number of classes?\n"
   ]
  },
  {
   "cell_type": "code",
   "execution_count": 30,
   "id": "ef5fbb2f",
   "metadata": {},
   "outputs": [],
   "source": [
    "import numpy as np\n",
    "import pandas as pd\n",
    "import matplotlib.pyplot as plt\n",
    "from sklearn.preprocessing import StandardScaler\n",
    "from sklearn.cluster import KMeans, MiniBatchKMeans\n",
    "\n",
    "from sklearn import datasets\n",
    "from sklearn import metrics\n",
    "from sklearn.cluster import KMeans\n",
    "\n",
    "from sklearn.metrics.cluster import adjusted_rand_score\n"
   ]
  },
  {
   "cell_type": "code",
   "execution_count": 3,
   "id": "2ddf9149",
   "metadata": {},
   "outputs": [
    {
     "data": {
      "text/html": [
       "<div>\n",
       "<style scoped>\n",
       "    .dataframe tbody tr th:only-of-type {\n",
       "        vertical-align: middle;\n",
       "    }\n",
       "\n",
       "    .dataframe tbody tr th {\n",
       "        vertical-align: top;\n",
       "    }\n",
       "\n",
       "    .dataframe thead th {\n",
       "        text-align: right;\n",
       "    }\n",
       "</style>\n",
       "<table border=\"1\" class=\"dataframe\">\n",
       "  <thead>\n",
       "    <tr style=\"text-align: right;\">\n",
       "      <th></th>\n",
       "      <th>Id</th>\n",
       "      <th>SepalLengthCm</th>\n",
       "      <th>SepalWidthCm</th>\n",
       "      <th>PetalLengthCm</th>\n",
       "      <th>PetalWidthCm</th>\n",
       "      <th>Species</th>\n",
       "    </tr>\n",
       "  </thead>\n",
       "  <tbody>\n",
       "    <tr>\n",
       "      <th>0</th>\n",
       "      <td>1</td>\n",
       "      <td>5.1</td>\n",
       "      <td>3.5</td>\n",
       "      <td>1.4</td>\n",
       "      <td>0.2</td>\n",
       "      <td>Iris-setosa</td>\n",
       "    </tr>\n",
       "    <tr>\n",
       "      <th>1</th>\n",
       "      <td>2</td>\n",
       "      <td>4.9</td>\n",
       "      <td>3.0</td>\n",
       "      <td>1.4</td>\n",
       "      <td>0.2</td>\n",
       "      <td>Iris-setosa</td>\n",
       "    </tr>\n",
       "    <tr>\n",
       "      <th>2</th>\n",
       "      <td>3</td>\n",
       "      <td>4.7</td>\n",
       "      <td>3.2</td>\n",
       "      <td>1.3</td>\n",
       "      <td>0.2</td>\n",
       "      <td>Iris-setosa</td>\n",
       "    </tr>\n",
       "    <tr>\n",
       "      <th>3</th>\n",
       "      <td>4</td>\n",
       "      <td>4.6</td>\n",
       "      <td>3.1</td>\n",
       "      <td>1.5</td>\n",
       "      <td>0.2</td>\n",
       "      <td>Iris-setosa</td>\n",
       "    </tr>\n",
       "    <tr>\n",
       "      <th>4</th>\n",
       "      <td>5</td>\n",
       "      <td>5.0</td>\n",
       "      <td>3.6</td>\n",
       "      <td>1.4</td>\n",
       "      <td>0.2</td>\n",
       "      <td>Iris-setosa</td>\n",
       "    </tr>\n",
       "  </tbody>\n",
       "</table>\n",
       "</div>"
      ],
      "text/plain": [
       "   Id  SepalLengthCm  SepalWidthCm  PetalLengthCm  PetalWidthCm      Species\n",
       "0   1            5.1           3.5            1.4           0.2  Iris-setosa\n",
       "1   2            4.9           3.0            1.4           0.2  Iris-setosa\n",
       "2   3            4.7           3.2            1.3           0.2  Iris-setosa\n",
       "3   4            4.6           3.1            1.5           0.2  Iris-setosa\n",
       "4   5            5.0           3.6            1.4           0.2  Iris-setosa"
      ]
     },
     "execution_count": 3,
     "metadata": {},
     "output_type": "execute_result"
    }
   ],
   "source": [
    "iris_data=pd.read_csv(\"iris.csv\")\n",
    "iris_data.head()"
   ]
  },
  {
   "cell_type": "markdown",
   "id": "20714404",
   "metadata": {},
   "source": [
    "# K=2"
   ]
  },
  {
   "cell_type": "code",
   "execution_count": 12,
   "id": "1bde282f",
   "metadata": {},
   "outputs": [],
   "source": [
    "X_i = iris_data.iloc[:, 1:5].values"
   ]
  },
  {
   "cell_type": "code",
   "execution_count": 13,
   "id": "815e977c",
   "metadata": {},
   "outputs": [],
   "source": [
    "kmeans_i = KMeans(n_clusters = 2, init = 'k-means++', random_state = 42)\n",
    "y_kmeans_i = kmeans_i.fit_predict(X_i)"
   ]
  },
  {
   "cell_type": "code",
   "execution_count": 14,
   "id": "57d97727",
   "metadata": {},
   "outputs": [
    {
     "data": {
      "text/plain": [
       "<matplotlib.legend.Legend at 0x1affdf74fa0>"
      ]
     },
     "execution_count": 14,
     "metadata": {},
     "output_type": "execute_result"
    },
    {
     "data": {
      "image/png": "[encoded data removed]",
      "text/plain": [
       "<Figure size 432x288 with 1 Axes>"
      ]
     },
     "metadata": {
      "needs_background": "light"
     },
     "output_type": "display_data"
    }
   ],
   "source": [
    "#Visualising the clusters\n",
    "plt.scatter(X_i[y_kmeans_i == 0, 1], X_i[y_kmeans_i == 0, 2], s = 100, c = 'red', label = 'SepalLengthCm')\n",
    "plt.scatter(X_i[y_kmeans_i == 1, 1], X_i[y_kmeans_i == 1, 2], s = 100, c = 'blue', label = 'SepalWidthCm')\n",
    "\n",
    "plt.title('Iris Data')\n",
    "plt.xlabel('SepalLengthCm')\n",
    "plt.ylabel('SepalWidthCm')\n",
    "\n",
    "\n",
    "\n",
    "\n",
    "#Plotting the centroids of the clusters\n",
    "plt.scatter(kmeans_i.cluster_centers_[:, 1], kmeans_i.cluster_centers_[:,2], s = 100, c = 'yellow', label = 'Centroids')\n",
    "\n",
    "plt.legend()"
   ]
  },
  {
   "cell_type": "markdown",
   "id": "65378c9c",
   "metadata": {},
   "source": [
    "## Silhouette Score"
   ]
  },
  {
   "cell_type": "code",
   "execution_count": 7,
   "id": "ea835a9c",
   "metadata": {},
   "outputs": [
    {
     "name": "stdout",
     "output_type": "stream",
     "text": [
      "0.6808136202936816\n"
     ]
    }
   ],
   "source": [
    "print(metrics.silhouette_score(X_i,  y_kmeans_i, metric='euclidean'))"
   ]
  },
  {
   "cell_type": "code",
   "execution_count": null,
   "id": "fb8bfaf3",
   "metadata": {},
   "outputs": [],
   "source": []
  },
  {
   "cell_type": "markdown",
   "id": "45ef8110",
   "metadata": {},
   "source": [
    "# K=3"
   ]
  },
  {
   "cell_type": "code",
   "execution_count": 8,
   "id": "ecafe6de",
   "metadata": {},
   "outputs": [],
   "source": [
    "kmeans_ii = KMeans(n_clusters = 3, init = 'k-means++', random_state = 42)\n",
    "y_kmeans_ii = kmeans_ii.fit_predict(X_i)"
   ]
  },
  {
   "cell_type": "code",
   "execution_count": 9,
   "id": "27f05cb0",
   "metadata": {},
   "outputs": [
    {
     "data": {
      "text/plain": [
       "<matplotlib.legend.Legend at 0x1affdef6a60>"
      ]
     },
     "execution_count": 9,
     "metadata": {},
     "output_type": "execute_result"
    },
    {
     "data": {
      "image/png": "[encoded data removed]",
      "text/plain": [
       "<Figure size 432x288 with 1 Axes>"
      ]
     },
     "metadata": {
      "needs_background": "light"
     },
     "output_type": "display_data"
    }
   ],
   "source": [
    "#Visualising the clusters\n",
    "plt.scatter(X_i[y_kmeans_ii == 0, 1], X_i[y_kmeans_ii == 0, 2], s = 100, c = 'red', label = 'Iris-setosa')\n",
    "plt.scatter(X_i[y_kmeans_ii == 1, 1], X_i[y_kmeans_ii == 1, 2], s = 100, c = 'blue', label = 'Iris-versicolour')\n",
    "plt.scatter(X_i[y_kmeans_ii == 2, 1], X_i[y_kmeans_ii == 2, 2], s = 100, c = 'green', label = 'Iris-virginica')\n",
    "\n",
    "\n",
    "\n",
    "#Plotting the centroids of the clusters\n",
    "plt.scatter(kmeans_ii.cluster_centers_[:, 1], kmeans_ii.cluster_centers_[:,2], s = 100, c = 'yellow', label = 'Centroids')\n",
    "\n",
    "plt.legend()"
   ]
  },
  {
   "cell_type": "markdown",
   "id": "fb4bc42d",
   "metadata": {},
   "source": [
    "## Silhouette Score"
   ]
  },
  {
   "cell_type": "code",
   "execution_count": 10,
   "id": "9bc4f0c0",
   "metadata": {},
   "outputs": [
    {
     "name": "stdout",
     "output_type": "stream",
     "text": [
      "0.5525919445499757\n"
     ]
    }
   ],
   "source": [
    "print(metrics.silhouette_score(X_i,  y_kmeans_ii, metric='euclidean'))"
   ]
  },
  {
   "cell_type": "markdown",
   "id": "fd921a61",
   "metadata": {},
   "source": [
    "Silhouette Score:  K2 > K3\n",
    "\n",
    "\n",
    "The range of Silhouette score is [-1,1].\n",
    "\n",
    "\n",
    "+1 Score − Near +1 Silhouette score indicates that the sample is far away from its neighboring cluster.\n",
    "\n",
    "0 Score − 0 Silhouette score indicates that the sample is on or very close to the decision boundary separating two neighboring clusters.\n",
    "\n",
    "-1 Score − 1 Silhouette score indicates that the samples have been assigned to the wrong clusters."
   ]
  },
  {
   "cell_type": "markdown",
   "id": "d54b56ce",
   "metadata": {},
   "source": [
    "# Q.2.i"
   ]
  },
  {
   "cell_type": "markdown",
   "id": "7d75ed95",
   "metadata": {},
   "source": [
    "\n",
    "In this assignment, you work with the heart disease data which you worked in the assignment of the previous checkpoint. \n",
    "\n",
    "i. Split the data randomly into two and apply k-means using two, three and four as the number of clusters as we did in our discussion of the consistency in this checkpoint. Assess the consistency of the solutions using visualization. Which one does seem to be the best one? \n"
   ]
  },
  {
   "cell_type": "code",
   "execution_count": 15,
   "id": "0e537e4d",
   "metadata": {},
   "outputs": [
    {
     "data": {
      "text/html": [
       "<div>\n",
       "<style scoped>\n",
       "    .dataframe tbody tr th:only-of-type {\n",
       "        vertical-align: middle;\n",
       "    }\n",
       "\n",
       "    .dataframe tbody tr th {\n",
       "        vertical-align: top;\n",
       "    }\n",
       "\n",
       "    .dataframe thead th {\n",
       "        text-align: right;\n",
       "    }\n",
       "</style>\n",
       "<table border=\"1\" class=\"dataframe\">\n",
       "  <thead>\n",
       "    <tr style=\"text-align: right;\">\n",
       "      <th></th>\n",
       "      <th>age</th>\n",
       "      <th>sex</th>\n",
       "      <th>cp</th>\n",
       "      <th>trestbps</th>\n",
       "      <th>chol</th>\n",
       "      <th>fbs</th>\n",
       "      <th>restecg</th>\n",
       "      <th>thalach</th>\n",
       "      <th>exang</th>\n",
       "      <th>oldpeak</th>\n",
       "      <th>slope</th>\n",
       "      <th>ca</th>\n",
       "      <th>thal</th>\n",
       "      <th>target</th>\n",
       "    </tr>\n",
       "  </thead>\n",
       "  <tbody>\n",
       "    <tr>\n",
       "      <th>0</th>\n",
       "      <td>63</td>\n",
       "      <td>1</td>\n",
       "      <td>3</td>\n",
       "      <td>145</td>\n",
       "      <td>233</td>\n",
       "      <td>1</td>\n",
       "      <td>0</td>\n",
       "      <td>150</td>\n",
       "      <td>0</td>\n",
       "      <td>2.3</td>\n",
       "      <td>0</td>\n",
       "      <td>0</td>\n",
       "      <td>1</td>\n",
       "      <td>1</td>\n",
       "    </tr>\n",
       "    <tr>\n",
       "      <th>1</th>\n",
       "      <td>37</td>\n",
       "      <td>1</td>\n",
       "      <td>2</td>\n",
       "      <td>130</td>\n",
       "      <td>250</td>\n",
       "      <td>0</td>\n",
       "      <td>1</td>\n",
       "      <td>187</td>\n",
       "      <td>0</td>\n",
       "      <td>3.5</td>\n",
       "      <td>0</td>\n",
       "      <td>0</td>\n",
       "      <td>2</td>\n",
       "      <td>1</td>\n",
       "    </tr>\n",
       "    <tr>\n",
       "      <th>2</th>\n",
       "      <td>41</td>\n",
       "      <td>0</td>\n",
       "      <td>1</td>\n",
       "      <td>130</td>\n",
       "      <td>204</td>\n",
       "      <td>0</td>\n",
       "      <td>0</td>\n",
       "      <td>172</td>\n",
       "      <td>0</td>\n",
       "      <td>1.4</td>\n",
       "      <td>2</td>\n",
       "      <td>0</td>\n",
       "      <td>2</td>\n",
       "      <td>1</td>\n",
       "    </tr>\n",
       "    <tr>\n",
       "      <th>3</th>\n",
       "      <td>56</td>\n",
       "      <td>1</td>\n",
       "      <td>1</td>\n",
       "      <td>120</td>\n",
       "      <td>236</td>\n",
       "      <td>0</td>\n",
       "      <td>1</td>\n",
       "      <td>178</td>\n",
       "      <td>0</td>\n",
       "      <td>0.8</td>\n",
       "      <td>2</td>\n",
       "      <td>0</td>\n",
       "      <td>2</td>\n",
       "      <td>1</td>\n",
       "    </tr>\n",
       "    <tr>\n",
       "      <th>4</th>\n",
       "      <td>57</td>\n",
       "      <td>0</td>\n",
       "      <td>0</td>\n",
       "      <td>120</td>\n",
       "      <td>354</td>\n",
       "      <td>0</td>\n",
       "      <td>1</td>\n",
       "      <td>163</td>\n",
       "      <td>1</td>\n",
       "      <td>0.6</td>\n",
       "      <td>2</td>\n",
       "      <td>0</td>\n",
       "      <td>2</td>\n",
       "      <td>1</td>\n",
       "    </tr>\n",
       "  </tbody>\n",
       "</table>\n",
       "</div>"
      ],
      "text/plain": [
       "   age  sex  cp  trestbps  chol  fbs  restecg  thalach  exang  oldpeak  slope  \\\n",
       "0   63    1   3       145   233    1        0      150      0      2.3      0   \n",
       "1   37    1   2       130   250    0        1      187      0      3.5      0   \n",
       "2   41    0   1       130   204    0        0      172      0      1.4      2   \n",
       "3   56    1   1       120   236    0        1      178      0      0.8      2   \n",
       "4   57    0   0       120   354    0        1      163      1      0.6      2   \n",
       "\n",
       "   ca  thal  target  \n",
       "0   0     1       1  \n",
       "1   0     2       1  \n",
       "2   0     2       1  \n",
       "3   0     2       1  \n",
       "4   0     2       1  "
      ]
     },
     "execution_count": 15,
     "metadata": {},
     "output_type": "execute_result"
    }
   ],
   "source": [
    "heart_df=pd.read_csv(\"heart.csv\")\n",
    "heart_df.head()"
   ]
  },
  {
   "cell_type": "code",
   "execution_count": 16,
   "id": "19364bdd",
   "metadata": {},
   "outputs": [],
   "source": [
    "X_h = heart_df.iloc[:, :13].values"
   ]
  },
  {
   "cell_type": "markdown",
   "id": "79194c3f",
   "metadata": {},
   "source": [
    "### K=2"
   ]
  },
  {
   "cell_type": "code",
   "execution_count": 17,
   "id": "43580c8f",
   "metadata": {},
   "outputs": [],
   "source": [
    "#Applying kmeans to the dataset / Creating the kmeans classifier\n",
    "kmeans_h = KMeans(n_clusters = 2, init = 'k-means++', max_iter = 300, n_init = 10, random_state = 0)\n",
    "y_kmeans_h = kmeans_h.fit_predict(X_h)"
   ]
  },
  {
   "cell_type": "code",
   "execution_count": 18,
   "id": "863f47b3",
   "metadata": {},
   "outputs": [
    {
     "data": {
      "text/plain": [
       "<matplotlib.legend.Legend at 0x1affdfcd5e0>"
      ]
     },
     "execution_count": 18,
     "metadata": {},
     "output_type": "execute_result"
    },
    {
     "data": {
      "image/png": "[encoded data removed]",
      "text/plain": [
       "<Figure size 432x288 with 1 Axes>"
      ]
     },
     "metadata": {
      "needs_background": "light"
     },
     "output_type": "display_data"
    }
   ],
   "source": [
    "#Visualising the clusters\n",
    "plt.scatter(X_h[y_kmeans_h == 0, 0], X_h[y_kmeans_h == 0, 3], s = 100, c = 'red', label = 'no heart disease diagnosis')\n",
    "plt.scatter(X_h[y_kmeans_h == 1, 0], X_h[y_kmeans_h == 1, 3], s = 100, c = 'blue', label = 'heart disease diagnosis')\n",
    "\n",
    "plt.title('Chances of getting Heart Disease')\n",
    "plt.xlabel('Age')\n",
    "plt.ylabel('Blood Pressure')\n",
    "\n",
    "\n",
    "\n",
    "\n",
    "#Plotting the centroids of the clusters\n",
    "plt.scatter(kmeans_h.cluster_centers_[:, 0], kmeans_h.cluster_centers_[:,3], s = 100, c = 'yellow', label = 'Centroids')\n",
    "\n",
    "plt.legend()"
   ]
  },
  {
   "cell_type": "code",
   "execution_count": null,
   "id": "a02ec558",
   "metadata": {},
   "outputs": [],
   "source": []
  },
  {
   "cell_type": "markdown",
   "id": "ea5413d5",
   "metadata": {},
   "source": [
    "### K=3"
   ]
  },
  {
   "cell_type": "code",
   "execution_count": 20,
   "id": "c82c2596",
   "metadata": {},
   "outputs": [],
   "source": [
    "#Applying kmeans to the dataset / Creating the kmeans classifier\n",
    "kmeans_hh = KMeans(n_clusters = 3, init = 'k-means++', max_iter = 300, n_init = 10, random_state = 0)\n",
    "y_kmeans_hh = kmeans_hh.fit_predict(X_h)"
   ]
  },
  {
   "cell_type": "code",
   "execution_count": 25,
   "id": "84e9166e",
   "metadata": {},
   "outputs": [
    {
     "data": {
      "text/plain": [
       "<matplotlib.legend.Legend at 0x1affe1bb370>"
      ]
     },
     "execution_count": 25,
     "metadata": {},
     "output_type": "execute_result"
    },
    {
     "data": {
      "image/png": "[encoded data removed]",
      "text/plain": [
       "<Figure size 432x288 with 1 Axes>"
      ]
     },
     "metadata": {
      "needs_background": "light"
     },
     "output_type": "display_data"
    }
   ],
   "source": [
    "#Visualising the clusters\n",
    "plt.scatter(X_h[y_kmeans_hh == 0, 0], X_h[y_kmeans_hh == 0, 3], s = 100, c = 'red', label = '1')\n",
    "plt.scatter(X_h[y_kmeans_hh == 1, 0], X_h[y_kmeans_hh == 1, 3], s = 100, c = 'blue', label = '2')\n",
    "plt.scatter(X_h[y_kmeans_hh == 2, 0], X_h[y_kmeans_hh == 2, 3], s = 100, c = 'green', label = '3')\n",
    "\n",
    "plt.title('Chances of getting Heart Disease')\n",
    "\n",
    "\n",
    "\n",
    "\n",
    "#Plotting the centroids of the clusters\n",
    "plt.scatter(kmeans_hh.cluster_centers_[:, 0], kmeans_hh.cluster_centers_[:,3], s = 100, c = 'yellow', label = 'Centroids')\n",
    "\n",
    "plt.legend()"
   ]
  },
  {
   "cell_type": "code",
   "execution_count": null,
   "id": "91939616",
   "metadata": {},
   "outputs": [],
   "source": []
  },
  {
   "cell_type": "markdown",
   "id": "fb4c1edd",
   "metadata": {},
   "source": [
    "### K=4"
   ]
  },
  {
   "cell_type": "code",
   "execution_count": 27,
   "id": "19b7bf21",
   "metadata": {},
   "outputs": [],
   "source": [
    "#Applying kmeans to the dataset / Creating the kmeans classifier\n",
    "kmeans_hhh = KMeans(n_clusters = 4, init = 'k-means++', max_iter = 300, n_init = 10, random_state = 0)\n",
    "y_kmeans_hhh = kmeans_hhh.fit_predict(X_h)"
   ]
  },
  {
   "cell_type": "code",
   "execution_count": 28,
   "id": "27429f07",
   "metadata": {},
   "outputs": [
    {
     "data": {
      "text/plain": [
       "<matplotlib.legend.Legend at 0x1affe238c40>"
      ]
     },
     "execution_count": 28,
     "metadata": {},
     "output_type": "execute_result"
    },
    {
     "data": {
      "image/png": "[encoded data removed]",
      "text/plain": [
       "<Figure size 432x288 with 1 Axes>"
      ]
     },
     "metadata": {
      "needs_background": "light"
     },
     "output_type": "display_data"
    }
   ],
   "source": [
    "#Visualising the clusters\n",
    "plt.scatter(X_h[y_kmeans_hhh == 0, 0], X_h[y_kmeans_hhh == 0, 3], s = 100, c = 'red', label = '1')\n",
    "plt.scatter(X_h[y_kmeans_hhh == 1, 0], X_h[y_kmeans_hhh == 1, 3], s = 100, c = 'blue', label = '2')\n",
    "plt.scatter(X_h[y_kmeans_hhh == 2, 0], X_h[y_kmeans_hhh == 2, 3], s = 100, c = 'green', label = '3')\n",
    "plt.scatter(X_h[y_kmeans_hhh == 3, 0], X_h[y_kmeans_hhh == 3, 3], s = 100, c = 'brown', label = '3')\n",
    "\n",
    "plt.title('Chances of getting Heart Disease')\n",
    "\n",
    "\n",
    "\n",
    "\n",
    "#Plotting the centroids of the clusters\n",
    "plt.scatter(kmeans_hhh.cluster_centers_[:, 0], kmeans_hhh.cluster_centers_[:,3], s = 100, c = 'yellow', label = 'Centroids')\n",
    "\n",
    "plt.legend()"
   ]
  },
  {
   "cell_type": "markdown",
   "id": "0753ceb9",
   "metadata": {},
   "source": [
    "K=2 is clear than another K values"
   ]
  },
  {
   "cell_type": "markdown",
   "id": "3b3046b8",
   "metadata": {},
   "source": [
    "# Q.2.ii"
   ]
  },
  {
   "cell_type": "code",
   "execution_count": null,
   "id": "cad38cea",
   "metadata": {},
   "outputs": [],
   "source": [
    "ii. Get ARI scores for each of the previous solutions. Which model is the best?"
   ]
  },
  {
   "cell_type": "markdown",
   "id": "f9fc34bd",
   "metadata": {},
   "source": [
    "### K=2"
   ]
  },
  {
   "cell_type": "code",
   "execution_count": 41,
   "id": "25e8a39c",
   "metadata": {},
   "outputs": [
    {
     "data": {
      "text/plain": [
       "0.020501037065411676"
      ]
     },
     "execution_count": 41,
     "metadata": {},
     "output_type": "execute_result"
    }
   ],
   "source": [
    "score_ = adjusted_rand_score(labels_true=heart_df['target'], \n",
    "                            labels_pred=kmeans_h.labels_)\n",
    "score_"
   ]
  },
  {
   "cell_type": "code",
   "execution_count": null,
   "id": "969db815",
   "metadata": {},
   "outputs": [],
   "source": []
  },
  {
   "cell_type": "code",
   "execution_count": 37,
   "id": "b57c0118",
   "metadata": {},
   "outputs": [],
   "source": [
    "y_h = heart_df.iloc[:, 13].values"
   ]
  },
  {
   "cell_type": "code",
   "execution_count": 40,
   "id": "54b8df89",
   "metadata": {},
   "outputs": [
    {
     "data": {
      "text/plain": [
       "0.020501037065411676"
      ]
     },
     "execution_count": 40,
     "metadata": {},
     "output_type": "execute_result"
    }
   ],
   "source": [
    "score=metrics.adjusted_rand_score(y_h, y_kmeans_h)\n",
    "score"
   ]
  },
  {
   "cell_type": "markdown",
   "id": "f5657992",
   "metadata": {},
   "source": [
    "### K=3"
   ]
  },
  {
   "cell_type": "code",
   "execution_count": 43,
   "id": "4b235bf8",
   "metadata": {},
   "outputs": [
    {
     "data": {
      "text/plain": [
       "0.008492720982724496"
      ]
     },
     "execution_count": 43,
     "metadata": {},
     "output_type": "execute_result"
    }
   ],
   "source": [
    "score_h=metrics.adjusted_rand_score(y_h, y_kmeans_hh)\n",
    "score_h"
   ]
  },
  {
   "cell_type": "markdown",
   "id": "7d22d271",
   "metadata": {},
   "source": [
    "### K=4"
   ]
  },
  {
   "cell_type": "code",
   "execution_count": 44,
   "id": "481466a3",
   "metadata": {},
   "outputs": [
    {
     "data": {
      "text/plain": [
       "0.013824123110854685"
      ]
     },
     "execution_count": 44,
     "metadata": {},
     "output_type": "execute_result"
    }
   ],
   "source": [
    "score_hh=metrics.adjusted_rand_score(y_h, y_kmeans_hhh)\n",
    "score_hh"
   ]
  },
  {
   "cell_type": "markdown",
   "id": "dd134fd4",
   "metadata": {},
   "source": [
    "The best ARI score is K=2"
   ]
  },
  {
   "cell_type": "markdown",
   "id": "86aba647",
   "metadata": {},
   "source": [
    "# Q.2.iii"
   ]
  },
  {
   "cell_type": "markdown",
   "id": "5bdc2be7",
   "metadata": {},
   "source": [
    "iii. Get silhoutte coefficients for each of the previous solutions. Which model is the best?"
   ]
  },
  {
   "cell_type": "markdown",
   "id": "980c9352",
   "metadata": {},
   "source": [
    "### K=2"
   ]
  },
  {
   "cell_type": "code",
   "execution_count": 45,
   "id": "abcfebae",
   "metadata": {},
   "outputs": [
    {
     "name": "stdout",
     "output_type": "stream",
     "text": [
      "0.3894111733870929\n"
     ]
    }
   ],
   "source": [
    "print(metrics.silhouette_score(X_h,  y_kmeans_h, metric='euclidean'))"
   ]
  },
  {
   "cell_type": "markdown",
   "id": "9361aab4",
   "metadata": {},
   "source": [
    "### K=3"
   ]
  },
  {
   "cell_type": "code",
   "execution_count": 46,
   "id": "d5167d33",
   "metadata": {},
   "outputs": [
    {
     "name": "stdout",
     "output_type": "stream",
     "text": [
      "0.2877647413673084\n"
     ]
    }
   ],
   "source": [
    "print(metrics.silhouette_score(X_h,  y_kmeans_hh, metric='euclidean'))"
   ]
  },
  {
   "cell_type": "markdown",
   "id": "85d4af57",
   "metadata": {},
   "source": [
    "### K=4"
   ]
  },
  {
   "cell_type": "code",
   "execution_count": 47,
   "id": "8e1cea5b",
   "metadata": {},
   "outputs": [
    {
     "name": "stdout",
     "output_type": "stream",
     "text": [
      "0.28060645631083486\n"
     ]
    }
   ],
   "source": [
    "print(metrics.silhouette_score(X_h,  y_kmeans_hhh, metric='euclidean'))"
   ]
  },
  {
   "cell_type": "code",
   "execution_count": null,
   "id": "38163537",
   "metadata": {},
   "outputs": [],
   "source": []
  }
 ],
 "metadata": {
  "kernelspec": {
   "display_name": "Python 3",
   "language": "python",
   "name": "python3"
  },
  "language_info": {
   "codemirror_mode": {
    "name": "ipython",
    "version": 3
   },
   "file_extension": ".py",
   "mimetype": "text/x-python",
   "name": "python",
   "nbconvert_exporter": "python",
   "pygments_lexer": "ipython3",
   "version": "3.8.8"
  }
 },
 "nbformat": 4,
 "nbformat_minor": 5
}
