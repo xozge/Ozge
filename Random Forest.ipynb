{
 "cells": [
  {
   "cell_type": "markdown",
   "id": "bda4dc65",
   "metadata": {},
   "source": [
    "# RANDOM FOREST"
   ]
  },
  {
   "cell_type": "code",
   "execution_count": 1,
   "id": "55a3f2a9",
   "metadata": {},
   "outputs": [],
   "source": [
    "import numpy as np\n",
    "import pandas as pd\n",
    "import matplotlib.pyplot as plt\n",
    "import seaborn as sns\n",
    "from scipy.stats.mstats import winsorize\n",
    "import scipy.stats as stats\n",
    "from sklearn import linear_model\n",
    "import statsmodels.api as sm\n",
    "from sklearn.linear_model import LogisticRegression\n",
    "from sklearn.model_selection import train_test_split\n",
    "from sklearn.metrics import r2_score, mean_absolute_error,explained_variance_score\n",
    "from sklearn.metrics import mean_squared_error as mse\n",
    "from statsmodels.tools.eval_measures import mse, rmse\n",
    "from sklearn.linear_model import Ridge\n",
    "from sklearn.linear_model import Lasso\n",
    "from sklearn.linear_model import ElasticNet\n",
    "from sklearn.linear_model import LogisticRegression\n",
    "from sklearn.metrics import confusion_matrix\n",
    "from sklearn.metrics import accuracy_score\n",
    "from sklearn.metrics import precision_score\n",
    "from sklearn.metrics import recall_score\n",
    "from sklearn.metrics import f1_score\n",
    "from sklearn.metrics import classification_report, precision_recall_fscore_support\n",
    "from sklearn.metrics import roc_curve, roc_auc_score\n",
    "from sklearn.metrics import precision_recall_curve\n",
    "from sklearn.metrics import log_loss\n",
    "from sklearn.utils import resample\n",
    "from sklearn.model_selection import KFold, train_test_split\n",
    "from sklearn.neighbors import KNeighborsClassifier\n",
    "from sklearn.neighbors import KNeighborsRegressor\n",
    "from sklearn.model_selection import cross_val_score\n",
    "from sklearn.tree import DecisionTreeClassifier, plot_tree\n",
    "from sklearn.tree import DecisionTreeRegressor\n",
    "from sklearn.ensemble import RandomForestClassifier\n",
    "from sklearn.ensemble import RandomForestRegressor\n",
    "from sklearn.svm import SVC\n",
    "from sklearn.svm import SVR\n",
    "import xgboost as xgb\n",
    "import lightgbm as lgb"
   ]
  },
  {
   "cell_type": "code",
   "execution_count": 2,
   "id": "80a7c9cf",
   "metadata": {},
   "outputs": [
    {
     "data": {
      "text/html": [
       "<div>\n",
       "<style scoped>\n",
       "    .dataframe tbody tr th:only-of-type {\n",
       "        vertical-align: middle;\n",
       "    }\n",
       "\n",
       "    .dataframe tbody tr th {\n",
       "        vertical-align: top;\n",
       "    }\n",
       "\n",
       "    .dataframe thead th {\n",
       "        text-align: right;\n",
       "    }\n",
       "</style>\n",
       "<table border=\"1\" class=\"dataframe\">\n",
       "  <thead>\n",
       "    <tr style=\"text-align: right;\">\n",
       "      <th></th>\n",
       "      <th>Country</th>\n",
       "      <th>Year</th>\n",
       "      <th>Status</th>\n",
       "      <th>Life expectancy</th>\n",
       "      <th>Adult Mortality</th>\n",
       "      <th>infant deaths</th>\n",
       "      <th>Alcohol</th>\n",
       "      <th>percentage expenditure</th>\n",
       "      <th>Hepatitis B</th>\n",
       "      <th>Measles</th>\n",
       "      <th>...</th>\n",
       "      <th>Polio</th>\n",
       "      <th>Total expenditure</th>\n",
       "      <th>Diphtheria</th>\n",
       "      <th>HIV/AIDS</th>\n",
       "      <th>GDP</th>\n",
       "      <th>Population</th>\n",
       "      <th>thinness  1-19 years</th>\n",
       "      <th>thinness 5-9 years</th>\n",
       "      <th>Income composition of resources</th>\n",
       "      <th>Schooling</th>\n",
       "    </tr>\n",
       "  </thead>\n",
       "  <tbody>\n",
       "    <tr>\n",
       "      <th>0</th>\n",
       "      <td>Afghanistan</td>\n",
       "      <td>2015</td>\n",
       "      <td>Developing</td>\n",
       "      <td>65.0</td>\n",
       "      <td>263.0</td>\n",
       "      <td>62</td>\n",
       "      <td>0.01</td>\n",
       "      <td>71.279624</td>\n",
       "      <td>65.0</td>\n",
       "      <td>1154</td>\n",
       "      <td>...</td>\n",
       "      <td>6.0</td>\n",
       "      <td>8.16</td>\n",
       "      <td>65.0</td>\n",
       "      <td>0.1</td>\n",
       "      <td>584.259210</td>\n",
       "      <td>33736494.0</td>\n",
       "      <td>17.2</td>\n",
       "      <td>17.3</td>\n",
       "      <td>0.479</td>\n",
       "      <td>10.1</td>\n",
       "    </tr>\n",
       "    <tr>\n",
       "      <th>1</th>\n",
       "      <td>Afghanistan</td>\n",
       "      <td>2014</td>\n",
       "      <td>Developing</td>\n",
       "      <td>59.9</td>\n",
       "      <td>271.0</td>\n",
       "      <td>64</td>\n",
       "      <td>0.01</td>\n",
       "      <td>73.523582</td>\n",
       "      <td>62.0</td>\n",
       "      <td>492</td>\n",
       "      <td>...</td>\n",
       "      <td>58.0</td>\n",
       "      <td>8.18</td>\n",
       "      <td>62.0</td>\n",
       "      <td>0.1</td>\n",
       "      <td>612.696514</td>\n",
       "      <td>327582.0</td>\n",
       "      <td>17.5</td>\n",
       "      <td>17.5</td>\n",
       "      <td>0.476</td>\n",
       "      <td>10.0</td>\n",
       "    </tr>\n",
       "    <tr>\n",
       "      <th>2</th>\n",
       "      <td>Afghanistan</td>\n",
       "      <td>2013</td>\n",
       "      <td>Developing</td>\n",
       "      <td>59.9</td>\n",
       "      <td>268.0</td>\n",
       "      <td>66</td>\n",
       "      <td>0.01</td>\n",
       "      <td>73.219243</td>\n",
       "      <td>64.0</td>\n",
       "      <td>430</td>\n",
       "      <td>...</td>\n",
       "      <td>62.0</td>\n",
       "      <td>8.13</td>\n",
       "      <td>64.0</td>\n",
       "      <td>0.1</td>\n",
       "      <td>631.744976</td>\n",
       "      <td>31731688.0</td>\n",
       "      <td>17.7</td>\n",
       "      <td>17.7</td>\n",
       "      <td>0.470</td>\n",
       "      <td>9.9</td>\n",
       "    </tr>\n",
       "    <tr>\n",
       "      <th>3</th>\n",
       "      <td>Afghanistan</td>\n",
       "      <td>2012</td>\n",
       "      <td>Developing</td>\n",
       "      <td>59.5</td>\n",
       "      <td>272.0</td>\n",
       "      <td>69</td>\n",
       "      <td>0.01</td>\n",
       "      <td>78.184215</td>\n",
       "      <td>67.0</td>\n",
       "      <td>2787</td>\n",
       "      <td>...</td>\n",
       "      <td>67.0</td>\n",
       "      <td>8.52</td>\n",
       "      <td>67.0</td>\n",
       "      <td>0.1</td>\n",
       "      <td>669.959000</td>\n",
       "      <td>3696958.0</td>\n",
       "      <td>17.9</td>\n",
       "      <td>18.0</td>\n",
       "      <td>0.463</td>\n",
       "      <td>9.8</td>\n",
       "    </tr>\n",
       "    <tr>\n",
       "      <th>4</th>\n",
       "      <td>Afghanistan</td>\n",
       "      <td>2011</td>\n",
       "      <td>Developing</td>\n",
       "      <td>59.2</td>\n",
       "      <td>275.0</td>\n",
       "      <td>71</td>\n",
       "      <td>0.01</td>\n",
       "      <td>7.097109</td>\n",
       "      <td>68.0</td>\n",
       "      <td>3013</td>\n",
       "      <td>...</td>\n",
       "      <td>68.0</td>\n",
       "      <td>7.87</td>\n",
       "      <td>68.0</td>\n",
       "      <td>0.1</td>\n",
       "      <td>63.537231</td>\n",
       "      <td>2978599.0</td>\n",
       "      <td>18.2</td>\n",
       "      <td>18.2</td>\n",
       "      <td>0.454</td>\n",
       "      <td>9.5</td>\n",
       "    </tr>\n",
       "  </tbody>\n",
       "</table>\n",
       "<p>5 rows × 22 columns</p>\n",
       "</div>"
      ],
      "text/plain": [
       "       Country  Year      Status  Life expectancy   Adult Mortality  \\\n",
       "0  Afghanistan  2015  Developing              65.0            263.0   \n",
       "1  Afghanistan  2014  Developing              59.9            271.0   \n",
       "2  Afghanistan  2013  Developing              59.9            268.0   \n",
       "3  Afghanistan  2012  Developing              59.5            272.0   \n",
       "4  Afghanistan  2011  Developing              59.2            275.0   \n",
       "\n",
       "   infant deaths  Alcohol  percentage expenditure  Hepatitis B  Measles   ...  \\\n",
       "0             62     0.01               71.279624         65.0      1154  ...   \n",
       "1             64     0.01               73.523582         62.0       492  ...   \n",
       "2             66     0.01               73.219243         64.0       430  ...   \n",
       "3             69     0.01               78.184215         67.0      2787  ...   \n",
       "4             71     0.01                7.097109         68.0      3013  ...   \n",
       "\n",
       "   Polio  Total expenditure  Diphtheria    HIV/AIDS         GDP  Population  \\\n",
       "0    6.0               8.16         65.0        0.1  584.259210  33736494.0   \n",
       "1   58.0               8.18         62.0        0.1  612.696514    327582.0   \n",
       "2   62.0               8.13         64.0        0.1  631.744976  31731688.0   \n",
       "3   67.0               8.52         67.0        0.1  669.959000   3696958.0   \n",
       "4   68.0               7.87         68.0        0.1   63.537231   2978599.0   \n",
       "\n",
       "    thinness  1-19 years   thinness 5-9 years  \\\n",
       "0                   17.2                 17.3   \n",
       "1                   17.5                 17.5   \n",
       "2                   17.7                 17.7   \n",
       "3                   17.9                 18.0   \n",
       "4                   18.2                 18.2   \n",
       "\n",
       "   Income composition of resources  Schooling  \n",
       "0                            0.479       10.1  \n",
       "1                            0.476       10.0  \n",
       "2                            0.470        9.9  \n",
       "3                            0.463        9.8  \n",
       "4                            0.454        9.5  \n",
       "\n",
       "[5 rows x 22 columns]"
      ]
     },
     "execution_count": 2,
     "metadata": {},
     "output_type": "execute_result"
    }
   ],
   "source": [
    "life_df=pd.read_csv(\"Life Expectancy Data.csv\")\n",
    "life_df.head()"
   ]
  },
  {
   "cell_type": "code",
   "execution_count": 3,
   "id": "22ff1b4e",
   "metadata": {},
   "outputs": [],
   "source": [
    "life_df2=life_df.copy()"
   ]
  },
  {
   "cell_type": "code",
   "execution_count": 4,
   "id": "804997bd",
   "metadata": {},
   "outputs": [
    {
     "data": {
      "text/plain": [
       "array(['Country', 'Year', 'Status', 'Life expectancy ', 'Adult Mortality',\n",
       "       'infant deaths', 'Alcohol', 'percentage expenditure',\n",
       "       'Hepatitis B', 'Measles ', ' BMI ', 'under-five deaths ', 'Polio',\n",
       "       'Total expenditure', 'Diphtheria ', ' HIV/AIDS', 'GDP',\n",
       "       'Population', ' thinness  1-19 years', ' thinness 5-9 years',\n",
       "       'Income composition of resources', 'Schooling'], dtype=object)"
      ]
     },
     "execution_count": 4,
     "metadata": {},
     "output_type": "execute_result"
    }
   ],
   "source": [
    "life_df2.columns.values"
   ]
  },
  {
   "cell_type": "markdown",
   "id": "fd34b435",
   "metadata": {},
   "source": [
    "Words have space"
   ]
  },
  {
   "cell_type": "code",
   "execution_count": 5,
   "id": "3678fd84",
   "metadata": {},
   "outputs": [],
   "source": [
    "life_df2.columns = life_df2.columns.str.strip()"
   ]
  },
  {
   "cell_type": "code",
   "execution_count": 6,
   "id": "80d9cfea",
   "metadata": {},
   "outputs": [
    {
     "data": {
      "text/plain": [
       "array(['Country', 'Year', 'Status', 'Life expectancy', 'Adult Mortality',\n",
       "       'infant deaths', 'Alcohol', 'percentage expenditure',\n",
       "       'Hepatitis B', 'Measles', 'BMI', 'under-five deaths', 'Polio',\n",
       "       'Total expenditure', 'Diphtheria', 'HIV/AIDS', 'GDP', 'Population',\n",
       "       'thinness  1-19 years', 'thinness 5-9 years',\n",
       "       'Income composition of resources', 'Schooling'], dtype=object)"
      ]
     },
     "execution_count": 6,
     "metadata": {},
     "output_type": "execute_result"
    }
   ],
   "source": [
    "life_df2.columns.values"
   ]
  },
  {
   "cell_type": "markdown",
   "id": "f6d23834",
   "metadata": {},
   "source": [
    "Removed the space"
   ]
  },
  {
   "cell_type": "code",
   "execution_count": null,
   "id": "2e2a3c26",
   "metadata": {},
   "outputs": [],
   "source": []
  },
  {
   "cell_type": "code",
   "execution_count": 7,
   "id": "990934dc",
   "metadata": {},
   "outputs": [
    {
     "data": {
      "text/html": [
       "<div>\n",
       "<style scoped>\n",
       "    .dataframe tbody tr th:only-of-type {\n",
       "        vertical-align: middle;\n",
       "    }\n",
       "\n",
       "    .dataframe tbody tr th {\n",
       "        vertical-align: top;\n",
       "    }\n",
       "\n",
       "    .dataframe thead th {\n",
       "        text-align: right;\n",
       "    }\n",
       "</style>\n",
       "<table border=\"1\" class=\"dataframe\">\n",
       "  <thead>\n",
       "    <tr style=\"text-align: right;\">\n",
       "      <th></th>\n",
       "      <th>Developed</th>\n",
       "      <th>Developing</th>\n",
       "    </tr>\n",
       "  </thead>\n",
       "  <tbody>\n",
       "    <tr>\n",
       "      <th>0</th>\n",
       "      <td>0</td>\n",
       "      <td>1</td>\n",
       "    </tr>\n",
       "    <tr>\n",
       "      <th>1</th>\n",
       "      <td>0</td>\n",
       "      <td>1</td>\n",
       "    </tr>\n",
       "    <tr>\n",
       "      <th>2</th>\n",
       "      <td>0</td>\n",
       "      <td>1</td>\n",
       "    </tr>\n",
       "    <tr>\n",
       "      <th>3</th>\n",
       "      <td>0</td>\n",
       "      <td>1</td>\n",
       "    </tr>\n",
       "    <tr>\n",
       "      <th>4</th>\n",
       "      <td>0</td>\n",
       "      <td>1</td>\n",
       "    </tr>\n",
       "    <tr>\n",
       "      <th>...</th>\n",
       "      <td>...</td>\n",
       "      <td>...</td>\n",
       "    </tr>\n",
       "    <tr>\n",
       "      <th>2933</th>\n",
       "      <td>0</td>\n",
       "      <td>1</td>\n",
       "    </tr>\n",
       "    <tr>\n",
       "      <th>2934</th>\n",
       "      <td>0</td>\n",
       "      <td>1</td>\n",
       "    </tr>\n",
       "    <tr>\n",
       "      <th>2935</th>\n",
       "      <td>0</td>\n",
       "      <td>1</td>\n",
       "    </tr>\n",
       "    <tr>\n",
       "      <th>2936</th>\n",
       "      <td>0</td>\n",
       "      <td>1</td>\n",
       "    </tr>\n",
       "    <tr>\n",
       "      <th>2937</th>\n",
       "      <td>0</td>\n",
       "      <td>1</td>\n",
       "    </tr>\n",
       "  </tbody>\n",
       "</table>\n",
       "<p>2938 rows × 2 columns</p>\n",
       "</div>"
      ],
      "text/plain": [
       "      Developed  Developing\n",
       "0             0           1\n",
       "1             0           1\n",
       "2             0           1\n",
       "3             0           1\n",
       "4             0           1\n",
       "...         ...         ...\n",
       "2933          0           1\n",
       "2934          0           1\n",
       "2935          0           1\n",
       "2936          0           1\n",
       "2937          0           1\n",
       "\n",
       "[2938 rows x 2 columns]"
      ]
     },
     "execution_count": 7,
     "metadata": {},
     "output_type": "execute_result"
    }
   ],
   "source": [
    "pd.get_dummies(life_df2[\"Status\"])"
   ]
  },
  {
   "cell_type": "code",
   "execution_count": null,
   "id": "6ceaf62d",
   "metadata": {},
   "outputs": [],
   "source": []
  },
  {
   "cell_type": "code",
   "execution_count": 8,
   "id": "f92a6c02",
   "metadata": {},
   "outputs": [
    {
     "data": {
      "text/html": [
       "<div>\n",
       "<style scoped>\n",
       "    .dataframe tbody tr th:only-of-type {\n",
       "        vertical-align: middle;\n",
       "    }\n",
       "\n",
       "    .dataframe tbody tr th {\n",
       "        vertical-align: top;\n",
       "    }\n",
       "\n",
       "    .dataframe thead th {\n",
       "        text-align: right;\n",
       "    }\n",
       "</style>\n",
       "<table border=\"1\" class=\"dataframe\">\n",
       "  <thead>\n",
       "    <tr style=\"text-align: right;\">\n",
       "      <th></th>\n",
       "      <th>Country</th>\n",
       "      <th>Year</th>\n",
       "      <th>Status</th>\n",
       "      <th>Life expectancy</th>\n",
       "      <th>Adult Mortality</th>\n",
       "      <th>infant deaths</th>\n",
       "      <th>Alcohol</th>\n",
       "      <th>percentage expenditure</th>\n",
       "      <th>Hepatitis B</th>\n",
       "      <th>Measles</th>\n",
       "      <th>...</th>\n",
       "      <th>Total expenditure</th>\n",
       "      <th>Diphtheria</th>\n",
       "      <th>HIV/AIDS</th>\n",
       "      <th>GDP</th>\n",
       "      <th>Population</th>\n",
       "      <th>thinness  1-19 years</th>\n",
       "      <th>thinness 5-9 years</th>\n",
       "      <th>Income composition of resources</th>\n",
       "      <th>Schooling</th>\n",
       "      <th>Developing</th>\n",
       "    </tr>\n",
       "  </thead>\n",
       "  <tbody>\n",
       "    <tr>\n",
       "      <th>0</th>\n",
       "      <td>Afghanistan</td>\n",
       "      <td>2015</td>\n",
       "      <td>Developing</td>\n",
       "      <td>65.0</td>\n",
       "      <td>263.0</td>\n",
       "      <td>62</td>\n",
       "      <td>0.01</td>\n",
       "      <td>71.279624</td>\n",
       "      <td>65.0</td>\n",
       "      <td>1154</td>\n",
       "      <td>...</td>\n",
       "      <td>8.16</td>\n",
       "      <td>65.0</td>\n",
       "      <td>0.1</td>\n",
       "      <td>584.259210</td>\n",
       "      <td>33736494.0</td>\n",
       "      <td>17.2</td>\n",
       "      <td>17.3</td>\n",
       "      <td>0.479</td>\n",
       "      <td>10.1</td>\n",
       "      <td>1</td>\n",
       "    </tr>\n",
       "    <tr>\n",
       "      <th>1</th>\n",
       "      <td>Afghanistan</td>\n",
       "      <td>2014</td>\n",
       "      <td>Developing</td>\n",
       "      <td>59.9</td>\n",
       "      <td>271.0</td>\n",
       "      <td>64</td>\n",
       "      <td>0.01</td>\n",
       "      <td>73.523582</td>\n",
       "      <td>62.0</td>\n",
       "      <td>492</td>\n",
       "      <td>...</td>\n",
       "      <td>8.18</td>\n",
       "      <td>62.0</td>\n",
       "      <td>0.1</td>\n",
       "      <td>612.696514</td>\n",
       "      <td>327582.0</td>\n",
       "      <td>17.5</td>\n",
       "      <td>17.5</td>\n",
       "      <td>0.476</td>\n",
       "      <td>10.0</td>\n",
       "      <td>1</td>\n",
       "    </tr>\n",
       "    <tr>\n",
       "      <th>2</th>\n",
       "      <td>Afghanistan</td>\n",
       "      <td>2013</td>\n",
       "      <td>Developing</td>\n",
       "      <td>59.9</td>\n",
       "      <td>268.0</td>\n",
       "      <td>66</td>\n",
       "      <td>0.01</td>\n",
       "      <td>73.219243</td>\n",
       "      <td>64.0</td>\n",
       "      <td>430</td>\n",
       "      <td>...</td>\n",
       "      <td>8.13</td>\n",
       "      <td>64.0</td>\n",
       "      <td>0.1</td>\n",
       "      <td>631.744976</td>\n",
       "      <td>31731688.0</td>\n",
       "      <td>17.7</td>\n",
       "      <td>17.7</td>\n",
       "      <td>0.470</td>\n",
       "      <td>9.9</td>\n",
       "      <td>1</td>\n",
       "    </tr>\n",
       "    <tr>\n",
       "      <th>3</th>\n",
       "      <td>Afghanistan</td>\n",
       "      <td>2012</td>\n",
       "      <td>Developing</td>\n",
       "      <td>59.5</td>\n",
       "      <td>272.0</td>\n",
       "      <td>69</td>\n",
       "      <td>0.01</td>\n",
       "      <td>78.184215</td>\n",
       "      <td>67.0</td>\n",
       "      <td>2787</td>\n",
       "      <td>...</td>\n",
       "      <td>8.52</td>\n",
       "      <td>67.0</td>\n",
       "      <td>0.1</td>\n",
       "      <td>669.959000</td>\n",
       "      <td>3696958.0</td>\n",
       "      <td>17.9</td>\n",
       "      <td>18.0</td>\n",
       "      <td>0.463</td>\n",
       "      <td>9.8</td>\n",
       "      <td>1</td>\n",
       "    </tr>\n",
       "    <tr>\n",
       "      <th>4</th>\n",
       "      <td>Afghanistan</td>\n",
       "      <td>2011</td>\n",
       "      <td>Developing</td>\n",
       "      <td>59.2</td>\n",
       "      <td>275.0</td>\n",
       "      <td>71</td>\n",
       "      <td>0.01</td>\n",
       "      <td>7.097109</td>\n",
       "      <td>68.0</td>\n",
       "      <td>3013</td>\n",
       "      <td>...</td>\n",
       "      <td>7.87</td>\n",
       "      <td>68.0</td>\n",
       "      <td>0.1</td>\n",
       "      <td>63.537231</td>\n",
       "      <td>2978599.0</td>\n",
       "      <td>18.2</td>\n",
       "      <td>18.2</td>\n",
       "      <td>0.454</td>\n",
       "      <td>9.5</td>\n",
       "      <td>1</td>\n",
       "    </tr>\n",
       "  </tbody>\n",
       "</table>\n",
       "<p>5 rows × 23 columns</p>\n",
       "</div>"
      ],
      "text/plain": [
       "       Country  Year      Status  Life expectancy  Adult Mortality  \\\n",
       "0  Afghanistan  2015  Developing             65.0            263.0   \n",
       "1  Afghanistan  2014  Developing             59.9            271.0   \n",
       "2  Afghanistan  2013  Developing             59.9            268.0   \n",
       "3  Afghanistan  2012  Developing             59.5            272.0   \n",
       "4  Afghanistan  2011  Developing             59.2            275.0   \n",
       "\n",
       "   infant deaths  Alcohol  percentage expenditure  Hepatitis B  Measles  ...  \\\n",
       "0             62     0.01               71.279624         65.0     1154  ...   \n",
       "1             64     0.01               73.523582         62.0      492  ...   \n",
       "2             66     0.01               73.219243         64.0      430  ...   \n",
       "3             69     0.01               78.184215         67.0     2787  ...   \n",
       "4             71     0.01                7.097109         68.0     3013  ...   \n",
       "\n",
       "   Total expenditure  Diphtheria  HIV/AIDS         GDP  Population  \\\n",
       "0               8.16        65.0       0.1  584.259210  33736494.0   \n",
       "1               8.18        62.0       0.1  612.696514    327582.0   \n",
       "2               8.13        64.0       0.1  631.744976  31731688.0   \n",
       "3               8.52        67.0       0.1  669.959000   3696958.0   \n",
       "4               7.87        68.0       0.1   63.537231   2978599.0   \n",
       "\n",
       "   thinness  1-19 years  thinness 5-9 years  Income composition of resources  \\\n",
       "0                  17.2                17.3                            0.479   \n",
       "1                  17.5                17.5                            0.476   \n",
       "2                  17.7                17.7                            0.470   \n",
       "3                  17.9                18.0                            0.463   \n",
       "4                  18.2                18.2                            0.454   \n",
       "\n",
       "   Schooling  Developing  \n",
       "0       10.1           1  \n",
       "1       10.0           1  \n",
       "2        9.9           1  \n",
       "3        9.8           1  \n",
       "4        9.5           1  \n",
       "\n",
       "[5 rows x 23 columns]"
      ]
     },
     "execution_count": 8,
     "metadata": {},
     "output_type": "execute_result"
    }
   ],
   "source": [
    "life_df2= pd.concat([life_df2, pd.get_dummies(life_df[\"Status\"], drop_first=True)], axis=1)\n",
    "life_df2.head()"
   ]
  },
  {
   "cell_type": "code",
   "execution_count": null,
   "id": "dd02e472",
   "metadata": {},
   "outputs": [],
   "source": []
  },
  {
   "cell_type": "markdown",
   "id": "0e6635ce",
   "metadata": {},
   "source": [
    "## Missing Value"
   ]
  },
  {
   "cell_type": "code",
   "execution_count": 9,
   "id": "d2fd3056",
   "metadata": {},
   "outputs": [
    {
     "data": {
      "text/plain": [
       "Country                              0\n",
       "Year                                 0\n",
       "Status                               0\n",
       "Life expectancy                     10\n",
       "Adult Mortality                     10\n",
       "infant deaths                        0\n",
       "Alcohol                            194\n",
       "percentage expenditure               0\n",
       "Hepatitis B                        553\n",
       "Measles                              0\n",
       "BMI                                 34\n",
       "under-five deaths                    0\n",
       "Polio                               19\n",
       "Total expenditure                  226\n",
       "Diphtheria                          19\n",
       "HIV/AIDS                             0\n",
       "GDP                                448\n",
       "Population                         652\n",
       "thinness  1-19 years                34\n",
       "thinness 5-9 years                  34\n",
       "Income composition of resources    167\n",
       "Schooling                          163\n",
       "Developing                           0\n",
       "dtype: int64"
      ]
     },
     "execution_count": 9,
     "metadata": {},
     "output_type": "execute_result"
    }
   ],
   "source": [
    "life_df2.isnull().sum()"
   ]
  },
  {
   "cell_type": "markdown",
   "id": "6bfdafd9",
   "metadata": {},
   "source": []
  },
  {
   "cell_type": "code",
   "execution_count": 10,
   "id": "067b5ef6",
   "metadata": {},
   "outputs": [],
   "source": [
    "life_df3=life_df2.copy()"
   ]
  },
  {
   "cell_type": "code",
   "execution_count": 11,
   "id": "fcd0bac6",
   "metadata": {},
   "outputs": [],
   "source": [
    "life_df3[\"Life expectancy\"]=life_df3[\"Life expectancy\"].fillna(life_df3.groupby(\"Country\")[\"Life expectancy\"].transform(\"mean\"))\n",
    "life_df3[\"Life expectancy\"]=life_df3[\"Life expectancy\"].fillna(life_df3[\"Life expectancy\"].mean())\n",
    "\n",
    "life_df3[\"Adult Mortality\"]=life_df3[\"Adult Mortality\"].fillna(life_df3.groupby(\"Country\")[\"Adult Mortality\"].transform(\"mean\"))\n",
    "life_df3[\"Adult Mortality\"]=life_df3[\"Adult Mortality\"].fillna(life_df3[\"Adult Mortality\"].mean())\n",
    "\n",
    "life_df3[\"Alcohol\"]=life_df3[\"Alcohol\"].fillna(life_df3.groupby(\"Country\")[\"Alcohol\"].transform(\"mean\"))\n",
    "life_df3[\"Alcohol\"]=life_df3[\"Alcohol\"].fillna(life_df3[\"Alcohol\"].mean())\n",
    "\n",
    "life_df3[\"Hepatitis B\"]=life_df3[\"Hepatitis B\"].fillna(life_df3.groupby(\"Country\")[\"Hepatitis B\"].transform(\"mean\"))\n",
    "life_df3[\"Hepatitis B\"]=life_df3[\"Hepatitis B\"].fillna(life_df3[\"Hepatitis B\"].mean())\n",
    "\n",
    "life_df3[\"BMI\"]=life_df3[\"BMI\"].fillna(life_df3.groupby(\"Country\")[\"BMI\"].transform(\"mean\"))\n",
    "life_df3[\"BMI\"]=life_df3[\"BMI\"].fillna(life_df3[\"BMI\"].mean())\n",
    "\n",
    "life_df3[\"Polio\"]=life_df3[\"Polio\"].fillna(life_df3.groupby(\"Country\")[\"Polio\"].transform(\"mean\"))\n",
    "life_df3[\"Polio\"]=life_df3[\"Polio\"].fillna(life_df3[\"Polio\"].mean())\n",
    "\n",
    "life_df3[\"Total expenditure\"]=life_df3[\"Total expenditure\"].fillna(life_df3.groupby(\"Country\")[\"Total expenditure\"].transform(\"mean\"))\n",
    "life_df3[\"Total expenditure\"]=life_df3[\"Total expenditure\"].fillna(life_df3[\"Total expenditure\"].mean())\n",
    "\n",
    "life_df3[\"Diphtheria\"]=life_df3[\"Diphtheria\"].fillna(life_df3.groupby(\"Country\")[\"Diphtheria\"].transform(\"mean\"))\n",
    "life_df3[\"Diphtheria\"]=life_df3[\"Diphtheria\"].fillna(life_df3[\"Diphtheria\"].mean())\n",
    "\n",
    "life_df3[\"GDP\"]=life_df3[\"GDP\"].fillna(life_df3.groupby(\"Country\")[\"GDP\"].transform(\"mean\"))\n",
    "life_df3[\"GDP\"]=life_df3[\"GDP\"].fillna(life_df3[\"GDP\"].mean())\n",
    "\n",
    "life_df3[\"Population\"]=life_df3[\"Population\"].fillna(life_df3.groupby(\"Country\")[\"Population\"].transform(\"mean\"))\n",
    "life_df3[\"Population\"]=life_df3[\"Population\"].fillna(life_df3[\"Population\"].mean())\n",
    "\n",
    "life_df3[\"thinness  1-19 years\"]=life_df3[\"thinness  1-19 years\"].fillna(life_df3.groupby(\"Country\")[\"thinness  1-19 years\"].transform(\"mean\"))\n",
    "life_df3[\"thinness  1-19 years\"]=life_df3[\"thinness  1-19 years\"].fillna(life_df3[\"thinness  1-19 years\"].mean())\n",
    "\n",
    "life_df3[\"thinness 5-9 years\"]=life_df3[\"thinness 5-9 years\"].fillna(life_df3.groupby(\"Country\")[\"thinness 5-9 years\"].transform(\"mean\"))\n",
    "life_df3[\"thinness 5-9 years\"]=life_df3[\"thinness 5-9 years\"].fillna(life_df3[\"thinness 5-9 years\"].mean())\n",
    "\n",
    "life_df3[\"Income composition of resources\"]=life_df3[\"Income composition of resources\"].fillna(life_df3.groupby(\"Country\")[\"Income composition of resources\"].transform(\"mean\"))\n",
    "life_df3[\"Income composition of resources\"]=life_df3[\"Income composition of resources\"].fillna(life_df3[\"Income composition of resources\"].mean())\n",
    "\n",
    "life_df3[\"Schooling\"]=life_df3[\"Schooling\"].fillna(life_df3.groupby(\"Country\")[\"Schooling\"].transform(\"mean\"))\n",
    "life_df3[\"Schooling\"]=life_df3[\"Schooling\"].fillna(life_df3[\"Schooling\"].mean())\n"
   ]
  },
  {
   "cell_type": "code",
   "execution_count": null,
   "id": "68d34712",
   "metadata": {},
   "outputs": [],
   "source": []
  },
  {
   "cell_type": "code",
   "execution_count": 12,
   "id": "31e6a516",
   "metadata": {},
   "outputs": [
    {
     "data": {
      "text/plain": [
       "Country                            0\n",
       "Year                               0\n",
       "Status                             0\n",
       "Life expectancy                    0\n",
       "Adult Mortality                    0\n",
       "infant deaths                      0\n",
       "Alcohol                            0\n",
       "percentage expenditure             0\n",
       "Hepatitis B                        0\n",
       "Measles                            0\n",
       "BMI                                0\n",
       "under-five deaths                  0\n",
       "Polio                              0\n",
       "Total expenditure                  0\n",
       "Diphtheria                         0\n",
       "HIV/AIDS                           0\n",
       "GDP                                0\n",
       "Population                         0\n",
       "thinness  1-19 years               0\n",
       "thinness 5-9 years                 0\n",
       "Income composition of resources    0\n",
       "Schooling                          0\n",
       "Developing                         0\n",
       "dtype: int64"
      ]
     },
     "execution_count": 12,
     "metadata": {},
     "output_type": "execute_result"
    }
   ],
   "source": [
    "life_df3.isnull().sum()"
   ]
  },
  {
   "cell_type": "code",
   "execution_count": null,
   "id": "62b304ce",
   "metadata": {},
   "outputs": [],
   "source": []
  },
  {
   "cell_type": "markdown",
   "id": "b41979a5",
   "metadata": {},
   "source": [
    "## 1. Classification"
   ]
  },
  {
   "cell_type": "markdown",
   "id": "a89a1c87",
   "metadata": {},
   "source": [
    "**Train Model**"
   ]
  },
  {
   "cell_type": "code",
   "execution_count": 13,
   "id": "9fbb1f12",
   "metadata": {},
   "outputs": [],
   "source": [
    "y_rf = life_df3['Developing']\n",
    "X_rf = life_df3.drop(['Developing', 'Year', 'Status', 'Country'], axis=1)"
   ]
  },
  {
   "cell_type": "code",
   "execution_count": 14,
   "id": "22586c17",
   "metadata": {},
   "outputs": [],
   "source": [
    "X_rf_train, X_rf_test, y_rf_train, y_rf_test =  train_test_split(X_rf, y_rf, test_size=0.20, random_state=111)"
   ]
  },
  {
   "cell_type": "code",
   "execution_count": 15,
   "id": "81060099",
   "metadata": {},
   "outputs": [
    {
     "data": {
      "text/plain": [
       "RandomForestClassifier(n_estimators=25, random_state=111)"
      ]
     },
     "execution_count": 15,
     "metadata": {},
     "output_type": "execute_result"
    }
   ],
   "source": [
    "random_forest = RandomForestClassifier(n_estimators=25, random_state=111)\n",
    "random_forest.fit(X_rf_train, y_rf_train) "
   ]
  },
  {
   "cell_type": "markdown",
   "id": "f68a32de",
   "metadata": {},
   "source": [
    "**Prediciton**"
   ]
  },
  {
   "cell_type": "code",
   "execution_count": null,
   "id": "46b25e7b",
   "metadata": {},
   "outputs": [],
   "source": [
    "y_pred_rf_train = random_forest.predict(X_rf_train)\n",
    "y_pred_rf_test = random_forest.predict(X_rf_test)"
   ]
  },
  {
   "cell_type": "code",
   "execution_count": 16,
   "id": "433c2044",
   "metadata": {},
   "outputs": [
    {
     "name": "stdout",
     "output_type": "stream",
     "text": [
      "R-squared of the model in training set is: 1.0\n",
      "-----Test set statistics-----\n",
      "R-squared of the model in test set is: 0.9829931972789115\n"
     ]
    }
   ],
   "source": [
    "print(\"R-squared of the model in training set is: {}\".format(random_forest.score(X_rf_train, y_rf_train)))\n",
    "print(\"-----Test set statistics-----\")\n",
    "print(\"R-squared of the model in test set is: {}\".format(random_forest.score(X_rf_test, y_rf_test)))\n"
   ]
  },
  {
   "cell_type": "code",
   "execution_count": null,
   "id": "da470942",
   "metadata": {},
   "outputs": [],
   "source": []
  },
  {
   "cell_type": "markdown",
   "id": "fb7f36ea",
   "metadata": {},
   "source": [
    "**KFold - Cross Validation**\n",
    "\n",
    "**Train**"
   ]
  },
  {
   "cell_type": "code",
   "execution_count": 19,
   "id": "556ceb28",
   "metadata": {},
   "outputs": [
    {
     "name": "stdout",
     "output_type": "stream",
     "text": [
      "cv =  2 ---> Average cross validation score :  0.9765957446808511\n",
      "cv =  3 ---> Average cross validation score :  0.9804248008270996\n",
      "cv =  4 ---> Average cross validation score :  0.9829787110755717\n",
      "cv =  5 ---> Average cross validation score :  0.9825531914893617\n",
      "cv =  6 ---> Average cross validation score :  0.9863815091253892\n",
      "cv = 7 ---> Average cross validation score  :  0.9846834340464912\n"
     ]
    }
   ],
   "source": [
    "cvscores_2 = cross_val_score(random_forest, X_rf_train, y_rf_train, cv=2)\n",
    "print('cv =  2 ---> Average cross validation score : ', np.mean(cvscores_2))\n",
    "\n",
    "cvscores_3 = cross_val_score(random_forest, X_rf_train, y_rf_train, cv=3)\n",
    "print('cv =  3 ---> Average cross validation score : ', np.mean(cvscores_3))\n",
    "\n",
    "cvscores_4 = cross_val_score(random_forest, X_rf_train, y_rf_train, cv=4)\n",
    "print('cv =  4 ---> Average cross validation score : ', np.mean(cvscores_4))\n",
    "\n",
    "cvscores_5 = cross_val_score(random_forest, X_rf_train, y_rf_train, cv=5)\n",
    "print('cv =  5 ---> Average cross validation score : ', np.mean(cvscores_5))\n",
    "\n",
    "cvscores_6 = cross_val_score(random_forest, X_rf_train, y_rf_train, cv=6)\n",
    "print('cv =  6 ---> Average cross validation score : ', np.mean(cvscores_6))\n",
    "\n",
    "cvscores_7 = cross_val_score(random_forest, X_rf_train, y_rf_train, cv=15)\n",
    "print('cv = 7 ---> Average cross validation score  : ', np.mean(cvscores_7))"
   ]
  },
  {
   "cell_type": "code",
   "execution_count": null,
   "id": "26d18b9e",
   "metadata": {},
   "outputs": [],
   "source": []
  },
  {
   "cell_type": "markdown",
   "id": "e6d7ef42",
   "metadata": {},
   "source": [
    "**Test**"
   ]
  },
  {
   "cell_type": "code",
   "execution_count": 20,
   "id": "5facf6b1",
   "metadata": {},
   "outputs": [
    {
     "name": "stdout",
     "output_type": "stream",
     "text": [
      "cv =  2 ---> Average cross validation score :  0.9404761904761905\n",
      "cv =  3 ---> Average cross validation score :  0.9438775510204082\n",
      "cv =  4 ---> Average cross validation score :  0.9455782312925171\n",
      "cv =  5 ---> Average cross validation score :  0.9489787049109083\n",
      "cv =  6 ---> Average cross validation score :  0.9523809523809524\n",
      "cv = 7 ---> Average cross validation score  :  0.9473504273504274\n"
     ]
    }
   ],
   "source": [
    "cvscores_2 = cross_val_score(random_forest, X_rf_test, y_rf_test, cv=2)\n",
    "print('cv =  2 ---> Average cross validation score : ', np.mean(cvscores_2))\n",
    "\n",
    "cvscores_3 = cross_val_score(random_forest, X_rf_test, y_rf_test, cv=3)\n",
    "print('cv =  3 ---> Average cross validation score : ', np.mean(cvscores_3))\n",
    "\n",
    "cvscores_4 = cross_val_score(random_forest, X_rf_test, y_rf_test, cv=4)\n",
    "print('cv =  4 ---> Average cross validation score : ', np.mean(cvscores_4))\n",
    "\n",
    "cvscores_5 = cross_val_score(random_forest, X_rf_test, y_rf_test, cv=5)\n",
    "print('cv =  5 ---> Average cross validation score : ', np.mean(cvscores_5))\n",
    "\n",
    "cvscores_6 = cross_val_score(random_forest, X_rf_test, y_rf_test, cv=6)\n",
    "print('cv =  6 ---> Average cross validation score : ', np.mean(cvscores_6))\n",
    "\n",
    "cvscores_7 = cross_val_score(random_forest, X_rf_test, y_rf_test, cv=15)\n",
    "print('cv = 7 ---> Average cross validation score  : ', np.mean(cvscores_7))"
   ]
  },
  {
   "cell_type": "code",
   "execution_count": null,
   "id": "6863852b",
   "metadata": {},
   "outputs": [],
   "source": []
  },
  {
   "cell_type": "markdown",
   "id": "8895baab",
   "metadata": {},
   "source": [
    "## 2. Regression"
   ]
  },
  {
   "cell_type": "markdown",
   "id": "53eb3e66",
   "metadata": {},
   "source": [
    "**Train Model**"
   ]
  },
  {
   "cell_type": "code",
   "execution_count": 21,
   "id": "4855c200",
   "metadata": {},
   "outputs": [],
   "source": [
    "y_rf2 = life_df3['Life expectancy']\n",
    "X_rf2 = life_df3.drop(['Life expectancy', 'Status', 'Country'], axis=1)"
   ]
  },
  {
   "cell_type": "code",
   "execution_count": 22,
   "id": "14a9b30f",
   "metadata": {},
   "outputs": [],
   "source": [
    "X_rf2_train, X_rf2_test, y_rf2_train, y_rf2_test =  train_test_split(X_rf2, y_rf2, test_size=0.20, random_state=111)"
   ]
  },
  {
   "cell_type": "code",
   "execution_count": 23,
   "id": "f7770ba5",
   "metadata": {},
   "outputs": [
    {
     "data": {
      "text/plain": [
       "RandomForestRegressor(n_estimators=25, random_state=111)"
      ]
     },
     "execution_count": 23,
     "metadata": {},
     "output_type": "execute_result"
    }
   ],
   "source": [
    "random_forest2 = RandomForestRegressor(n_estimators=25, random_state=111)\n",
    "random_forest2.fit(X_rf2_train, y_rf2_train) "
   ]
  },
  {
   "cell_type": "markdown",
   "id": "71cfa7b0",
   "metadata": {},
   "source": [
    "**Prediciton**"
   ]
  },
  {
   "cell_type": "code",
   "execution_count": 25,
   "id": "3ee19b77",
   "metadata": {},
   "outputs": [],
   "source": [
    "y_pred_rf2_train = random_forest2.predict(X_rf2_train)\n",
    "y_pred_rf2_test = random_forest2.predict(X_rf2_test)"
   ]
  },
  {
   "cell_type": "code",
   "execution_count": 26,
   "id": "d799460c",
   "metadata": {},
   "outputs": [
    {
     "name": "stdout",
     "output_type": "stream",
     "text": [
      "R-squared of the model in training set is: 0.9940072164985907\n",
      "-----Test set statistics-----\n",
      "R-squared of the model in test set is: 0.9621797247233843\n",
      "Mean absolute error (MAE) of the prediction is: 1.2012398284450398\n",
      "Mean squared error (MSE) of the prediction is: 3.292451369154888\n",
      "Root mean squared error (RMSE) of the prediction is: 1.8145113306769092\n",
      "Mean absolute percentage error (MAPE) of the prediction is: 1.7896359372190596\n"
     ]
    }
   ],
   "source": [
    "print(\"R-squared of the model in training set is: {}\".format(random_forest2.score(X_rf2_train, y_rf2_train)))\n",
    "print(\"-----Test set statistics-----\")\n",
    "print(\"R-squared of the model in test set is: {}\".format(random_forest2.score(X_rf2_test, y_rf2_test)))\n",
    "print(\"Mean absolute error (MAE) of the prediction is: {}\".format(mean_absolute_error(y_rf2_test, y_pred_rf2_test)))\n",
    "print(\"Mean squared error (MSE) of the prediction is: {}\".format(mse(y_rf2_test, y_pred_rf2_test)))\n",
    "print(\"Root mean squared error (RMSE) of the prediction is: {}\".format(rmse(y_rf2_test, y_pred_rf2_test)))\n",
    "print(\"Mean absolute percentage error (MAPE) of the prediction is: {}\".format(np.mean(np.abs((y_rf2_test - y_pred_rf2_test) / y_rf2_test)) * 100))"
   ]
  },
  {
   "cell_type": "code",
   "execution_count": null,
   "id": "0936af7f",
   "metadata": {},
   "outputs": [],
   "source": []
  },
  {
   "cell_type": "markdown",
   "id": "749561da",
   "metadata": {},
   "source": [
    "**KFold - Cross Validation**\n",
    "\n",
    "**Train**"
   ]
  },
  {
   "cell_type": "code",
   "execution_count": 27,
   "id": "f0b19658",
   "metadata": {},
   "outputs": [
    {
     "name": "stdout",
     "output_type": "stream",
     "text": [
      "cv =  2 ---> Average cross validation score :  0.9446546485181064\n",
      "cv =  3 ---> Average cross validation score :  0.9510918466016408\n",
      "cv =  4 ---> Average cross validation score :  0.9552564531111712\n",
      "cv =  5 ---> Average cross validation score :  0.9569788995078398\n",
      "cv =  6 ---> Average cross validation score :  0.9585662498213187\n",
      "cv = 7 ---> Average cross validation score  :  0.9589781879304528\n"
     ]
    }
   ],
   "source": [
    "cvscores_2 = cross_val_score(random_forest2, X_rf2_train, y_rf2_train, cv=2)\n",
    "print('cv =  2 ---> Average cross validation score : ', np.mean(cvscores_2))\n",
    "\n",
    "cvscores_3 = cross_val_score(random_forest2, X_rf2_train, y_rf2_train, cv=3)\n",
    "print('cv =  3 ---> Average cross validation score : ', np.mean(cvscores_3))\n",
    "\n",
    "cvscores_4 = cross_val_score(random_forest2, X_rf2_train, y_rf2_train, cv=4)\n",
    "print('cv =  4 ---> Average cross validation score : ', np.mean(cvscores_4))\n",
    "\n",
    "cvscores_5 = cross_val_score(random_forest2, X_rf2_train, y_rf2_train, cv=5)\n",
    "print('cv =  5 ---> Average cross validation score : ', np.mean(cvscores_5))\n",
    "\n",
    "cvscores_6 = cross_val_score(random_forest2, X_rf2_train, y_rf2_train, cv=6)\n",
    "print('cv =  6 ---> Average cross validation score : ', np.mean(cvscores_6))\n",
    "\n",
    "cvscores_7 = cross_val_score(random_forest2, X_rf2_train, y_rf2_train, cv=15)\n",
    "print('cv = 7 ---> Average cross validation score  : ', np.mean(cvscores_7))"
   ]
  },
  {
   "cell_type": "code",
   "execution_count": null,
   "id": "90fae929",
   "metadata": {},
   "outputs": [],
   "source": []
  },
  {
   "cell_type": "markdown",
   "id": "b4b341a8",
   "metadata": {},
   "source": [
    "**Test**"
   ]
  },
  {
   "cell_type": "code",
   "execution_count": 28,
   "id": "e99f9bb6",
   "metadata": {},
   "outputs": [
    {
     "name": "stdout",
     "output_type": "stream",
     "text": [
      "cv =  2 ---> Average cross validation score :  0.8950010446558947\n",
      "cv =  3 ---> Average cross validation score :  0.9173793295050502\n",
      "cv =  4 ---> Average cross validation score :  0.9127565702834729\n",
      "cv =  5 ---> Average cross validation score :  0.9209362100268426\n",
      "cv =  6 ---> Average cross validation score :  0.9170217122389782\n",
      "cv = 7 ---> Average cross validation score  :  0.9186029120368503\n"
     ]
    }
   ],
   "source": [
    "cvscores_2 = cross_val_score(random_forest2, X_rf2_test, y_rf2_test, cv=2)\n",
    "print('cv =  2 ---> Average cross validation score : ', np.mean(cvscores_2))\n",
    "\n",
    "cvscores_3 = cross_val_score(random_forest2, X_rf2_test, y_rf2_test, cv=3)\n",
    "print('cv =  3 ---> Average cross validation score : ', np.mean(cvscores_3))\n",
    "\n",
    "cvscores_4 = cross_val_score(random_forest2, X_rf2_test, y_rf2_test, cv=4)\n",
    "print('cv =  4 ---> Average cross validation score : ', np.mean(cvscores_4))\n",
    "\n",
    "cvscores_5 = cross_val_score(random_forest2, X_rf2_test, y_rf2_test, cv=5)\n",
    "print('cv =  5 ---> Average cross validation score : ', np.mean(cvscores_5))\n",
    "\n",
    "cvscores_6 = cross_val_score(random_forest2, X_rf2_test, y_rf2_test, cv=6)\n",
    "print('cv =  6 ---> Average cross validation score : ', np.mean(cvscores_6))\n",
    "\n",
    "cvscores_7 = cross_val_score(random_forest2, X_rf2_test, y_rf2_test, cv=15)\n",
    "print('cv = 7 ---> Average cross validation score  : ', np.mean(cvscores_7))"
   ]
  },
  {
   "cell_type": "code",
   "execution_count": null,
   "id": "819ae6fb",
   "metadata": {},
   "outputs": [],
   "source": []
  },
  {
   "cell_type": "code",
   "execution_count": null,
   "id": "bbb8ce7e",
   "metadata": {},
   "outputs": [],
   "source": []
  },
  {
   "cell_type": "code",
   "execution_count": null,
   "id": "0a199e48",
   "metadata": {},
   "outputs": [],
   "source": []
  },
  {
   "cell_type": "code",
   "execution_count": null,
   "id": "8ee72270",
   "metadata": {},
   "outputs": [],
   "source": []
  },
  {
   "cell_type": "code",
   "execution_count": null,
   "id": "e60a15d9",
   "metadata": {},
   "outputs": [],
   "source": []
  },
  {
   "cell_type": "code",
   "execution_count": null,
   "id": "d7e6a353",
   "metadata": {},
   "outputs": [],
   "source": []
  }
 ],
 "metadata": {
  "kernelspec": {
   "display_name": "Python 3",
   "language": "python",
   "name": "python3"
  },
  "language_info": {
   "codemirror_mode": {
    "name": "ipython",
    "version": 3
   },
   "file_extension": ".py",
   "mimetype": "text/x-python",
   "name": "python",
   "nbconvert_exporter": "python",
   "pygments_lexer": "ipython3",
   "version": "3.8.8"
  }
 },
 "nbformat": 4,
 "nbformat_minor": 5
}
